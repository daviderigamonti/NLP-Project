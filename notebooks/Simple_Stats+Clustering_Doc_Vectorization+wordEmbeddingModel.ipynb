{
  "metadata": {
    "kernelspec": {
      "language": "python",
      "display_name": "Python 3",
      "name": "python3"
    },
    "language_info": {
      "name": "python",
      "version": "3.7.12",
      "mimetype": "text/x-python",
      "codemirror_mode": {
        "name": "ipython",
        "version": 3
      },
      "pygments_lexer": "ipython3",
      "nbconvert_exporter": "python",
      "file_extension": ".py"
    },
    "colab": {
      "provenance": []
    }
  },
  "nbformat_minor": 0,
  "nbformat": 4,
  "cells": [
    {
      "cell_type": "code",
      "source": [
        "\n",
        "import numpy as np # linear algebra\n",
        "import pandas as pd # data processing, CSV file I/O (e.g. pd.read_csv)\n",
        "import os\n",
        "\n",
        "\n",
        "\n"
      ],
      "metadata": {
        "_uuid": "8f2839f25d086af736a60e9eeb907d3b93b6e0e5",
        "_cell_guid": "b1076dfc-b9ad-4769-8c92-a6c4dae69d19",
        "execution": {
          "iopub.status.busy": "2023-05-07T14:23:37.972448Z",
          "iopub.execute_input": "2023-05-07T14:23:37.972816Z",
          "iopub.status.idle": "2023-05-07T14:23:38.015821Z",
          "shell.execute_reply.started": "2023-05-07T14:23:37.972762Z",
          "shell.execute_reply": "2023-05-07T14:23:38.014786Z"
        },
        "trusted": true,
        "id": "6J7yM5cUmgeM"
      },
      "execution_count": 4,
      "outputs": []
    },
    {
      "cell_type": "markdown",
      "source": [
        "# Loading of the training set.\n",
        "\n",
        "We peek the datset using the function head() to see its composition."
      ],
      "metadata": {
        "id": "yXO7XgilmgeN"
      }
    },
    {
      "cell_type": "code",
      "source": [
        "from collections import Counter\n",
        "from matplotlib import pyplot as plt\n"
      ],
      "metadata": {
        "id": "NwYBfRy6lSSW"
      },
      "execution_count": 5,
      "outputs": []
    },
    {
      "cell_type": "code",
      "source": [
        "df = pd.read_csv(\"train.tsv.gz\",sep=\"\\t\",header=0)\n",
        "pd.set_option('display.max_colwidth', 150)\n",
        "\n",
        "df.head()"
      ],
      "metadata": {
        "execution": {
          "iopub.status.busy": "2023-05-07T14:23:38.017656Z",
          "iopub.execute_input": "2023-05-07T14:23:38.017973Z",
          "iopub.status.idle": "2023-05-07T14:23:38.306994Z",
          "shell.execute_reply.started": "2023-05-07T14:23:38.017943Z",
          "shell.execute_reply": "2023-05-07T14:23:38.305966Z"
        },
        "trusted": true,
        "colab": {
          "base_uri": "https://localhost:8080/",
          "height": 250
        },
        "id": "XQ-Mo1lZmgeO",
        "outputId": "f3950948-9f20-4013-91b5-ed54ff075f0a"
      },
      "execution_count": 6,
      "outputs": [
        {
          "output_type": "execute_result",
          "data": {
            "text/plain": [
              "      id  \\\n",
              "0  12322   \n",
              "1   1682   \n",
              "2  22592   \n",
              "3  17390   \n",
              "4  30453   \n",
              "\n",
              "                                                                                                                                                    text  \\\n",
              "0                                                   you need to stop the engine and wait until it stops. This is how I would do it: // Check if its safe   \n",
              "1  The Commission shall publish the report; an interim report at least once every two years, and whenever it considers that such a report is necessar...   \n",
              "2                                                   I have not been tweeting a lot lately, but I did in November, and it was a really good month. I also   \n",
              "3                                                             I pass my exam and really thankgod for that but idk where will I go for shsmy result is ah   \n",
              "4  The template will have 3 parts: a mustache shape, a bow tie shape, and a skinny rectangle. The mustache shape will eventually make the bow loops. ...   \n",
              "\n",
              "       label  \n",
              "0  generated  \n",
              "1  generated  \n",
              "2  generated  \n",
              "3      human  \n",
              "4      human  "
            ],
            "text/html": [
              "\n",
              "  <div id=\"df-c997cc06-1c74-4218-a01e-bbaaa3538348\">\n",
              "    <div class=\"colab-df-container\">\n",
              "      <div>\n",
              "<style scoped>\n",
              "    .dataframe tbody tr th:only-of-type {\n",
              "        vertical-align: middle;\n",
              "    }\n",
              "\n",
              "    .dataframe tbody tr th {\n",
              "        vertical-align: top;\n",
              "    }\n",
              "\n",
              "    .dataframe thead th {\n",
              "        text-align: right;\n",
              "    }\n",
              "</style>\n",
              "<table border=\"1\" class=\"dataframe\">\n",
              "  <thead>\n",
              "    <tr style=\"text-align: right;\">\n",
              "      <th></th>\n",
              "      <th>id</th>\n",
              "      <th>text</th>\n",
              "      <th>label</th>\n",
              "    </tr>\n",
              "  </thead>\n",
              "  <tbody>\n",
              "    <tr>\n",
              "      <th>0</th>\n",
              "      <td>12322</td>\n",
              "      <td>you need to stop the engine and wait until it stops. This is how I would do it: // Check if its safe</td>\n",
              "      <td>generated</td>\n",
              "    </tr>\n",
              "    <tr>\n",
              "      <th>1</th>\n",
              "      <td>1682</td>\n",
              "      <td>The Commission shall publish the report; an interim report at least once every two years, and whenever it considers that such a report is necessar...</td>\n",
              "      <td>generated</td>\n",
              "    </tr>\n",
              "    <tr>\n",
              "      <th>2</th>\n",
              "      <td>22592</td>\n",
              "      <td>I have not been tweeting a lot lately, but I did in November, and it was a really good month. I also</td>\n",
              "      <td>generated</td>\n",
              "    </tr>\n",
              "    <tr>\n",
              "      <th>3</th>\n",
              "      <td>17390</td>\n",
              "      <td>I pass my exam and really thankgod for that but idk where will I go for shsmy result is ah</td>\n",
              "      <td>human</td>\n",
              "    </tr>\n",
              "    <tr>\n",
              "      <th>4</th>\n",
              "      <td>30453</td>\n",
              "      <td>The template will have 3 parts: a mustache shape, a bow tie shape, and a skinny rectangle. The mustache shape will eventually make the bow loops. ...</td>\n",
              "      <td>human</td>\n",
              "    </tr>\n",
              "  </tbody>\n",
              "</table>\n",
              "</div>\n",
              "      <button class=\"colab-df-convert\" onclick=\"convertToInteractive('df-c997cc06-1c74-4218-a01e-bbaaa3538348')\"\n",
              "              title=\"Convert this dataframe to an interactive table.\"\n",
              "              style=\"display:none;\">\n",
              "        \n",
              "  <svg xmlns=\"http://www.w3.org/2000/svg\" height=\"24px\"viewBox=\"0 0 24 24\"\n",
              "       width=\"24px\">\n",
              "    <path d=\"M0 0h24v24H0V0z\" fill=\"none\"/>\n",
              "    <path d=\"M18.56 5.44l.94 2.06.94-2.06 2.06-.94-2.06-.94-.94-2.06-.94 2.06-2.06.94zm-11 1L8.5 8.5l.94-2.06 2.06-.94-2.06-.94L8.5 2.5l-.94 2.06-2.06.94zm10 10l.94 2.06.94-2.06 2.06-.94-2.06-.94-.94-2.06-.94 2.06-2.06.94z\"/><path d=\"M17.41 7.96l-1.37-1.37c-.4-.4-.92-.59-1.43-.59-.52 0-1.04.2-1.43.59L10.3 9.45l-7.72 7.72c-.78.78-.78 2.05 0 2.83L4 21.41c.39.39.9.59 1.41.59.51 0 1.02-.2 1.41-.59l7.78-7.78 2.81-2.81c.8-.78.8-2.07 0-2.86zM5.41 20L4 18.59l7.72-7.72 1.47 1.35L5.41 20z\"/>\n",
              "  </svg>\n",
              "      </button>\n",
              "      \n",
              "  <style>\n",
              "    .colab-df-container {\n",
              "      display:flex;\n",
              "      flex-wrap:wrap;\n",
              "      gap: 12px;\n",
              "    }\n",
              "\n",
              "    .colab-df-convert {\n",
              "      background-color: #E8F0FE;\n",
              "      border: none;\n",
              "      border-radius: 50%;\n",
              "      cursor: pointer;\n",
              "      display: none;\n",
              "      fill: #1967D2;\n",
              "      height: 32px;\n",
              "      padding: 0 0 0 0;\n",
              "      width: 32px;\n",
              "    }\n",
              "\n",
              "    .colab-df-convert:hover {\n",
              "      background-color: #E2EBFA;\n",
              "      box-shadow: 0px 1px 2px rgba(60, 64, 67, 0.3), 0px 1px 3px 1px rgba(60, 64, 67, 0.15);\n",
              "      fill: #174EA6;\n",
              "    }\n",
              "\n",
              "    [theme=dark] .colab-df-convert {\n",
              "      background-color: #3B4455;\n",
              "      fill: #D2E3FC;\n",
              "    }\n",
              "\n",
              "    [theme=dark] .colab-df-convert:hover {\n",
              "      background-color: #434B5C;\n",
              "      box-shadow: 0px 1px 3px 1px rgba(0, 0, 0, 0.15);\n",
              "      filter: drop-shadow(0px 1px 2px rgba(0, 0, 0, 0.3));\n",
              "      fill: #FFFFFF;\n",
              "    }\n",
              "  </style>\n",
              "\n",
              "      <script>\n",
              "        const buttonEl =\n",
              "          document.querySelector('#df-c997cc06-1c74-4218-a01e-bbaaa3538348 button.colab-df-convert');\n",
              "        buttonEl.style.display =\n",
              "          google.colab.kernel.accessAllowed ? 'block' : 'none';\n",
              "\n",
              "        async function convertToInteractive(key) {\n",
              "          const element = document.querySelector('#df-c997cc06-1c74-4218-a01e-bbaaa3538348');\n",
              "          const dataTable =\n",
              "            await google.colab.kernel.invokeFunction('convertToInteractive',\n",
              "                                                     [key], {});\n",
              "          if (!dataTable) return;\n",
              "\n",
              "          const docLinkHtml = 'Like what you see? Visit the ' +\n",
              "            '<a target=\"_blank\" href=https://colab.research.google.com/notebooks/data_table.ipynb>data table notebook</a>'\n",
              "            + ' to learn more about interactive tables.';\n",
              "          element.innerHTML = '';\n",
              "          dataTable['output_type'] = 'display_data';\n",
              "          await google.colab.output.renderOutput(dataTable, element);\n",
              "          const docLink = document.createElement('div');\n",
              "          docLink.innerHTML = docLinkHtml;\n",
              "          element.appendChild(docLink);\n",
              "        }\n",
              "      </script>\n",
              "    </div>\n",
              "  </div>\n",
              "  "
            ]
          },
          "metadata": {},
          "execution_count": 6
        }
      ]
    },
    {
      "cell_type": "markdown",
      "source": [
        "Let's check the size of the data set:"
      ],
      "metadata": {
        "id": "UqDdSqAHmgeP"
      }
    },
    {
      "cell_type": "code",
      "source": [
        "print(f\"No. of sentences: {len(df)}\")"
      ],
      "metadata": {
        "execution": {
          "iopub.status.busy": "2023-05-07T14:23:38.308348Z",
          "iopub.execute_input": "2023-05-07T14:23:38.310069Z",
          "iopub.status.idle": "2023-05-07T14:23:38.316807Z",
          "shell.execute_reply.started": "2023-05-07T14:23:38.310022Z",
          "shell.execute_reply": "2023-05-07T14:23:38.315481Z"
        },
        "trusted": true,
        "colab": {
          "base_uri": "https://localhost:8080/"
        },
        "id": "cL7SOfeemgeP",
        "outputId": "99a6cb2e-4f99-45bc-f88c-e12254406be4"
      },
      "execution_count": 7,
      "outputs": [
        {
          "output_type": "stream",
          "name": "stdout",
          "text": [
            "No. of sentences: 33845\n"
          ]
        }
      ]
    },
    {
      "cell_type": "markdown",
      "source": [
        "We have quite a few documents.\n",
        "Let's see if the classes are distributed over the population."
      ],
      "metadata": {
        "id": "HURlghoEmgeP"
      }
    },
    {
      "cell_type": "code",
      "source": [
        "df['text'][0]"
      ],
      "metadata": {
        "execution": {
          "iopub.status.busy": "2023-05-07T14:23:38.320630Z",
          "iopub.execute_input": "2023-05-07T14:23:38.321470Z",
          "iopub.status.idle": "2023-05-07T14:23:38.333140Z",
          "shell.execute_reply.started": "2023-05-07T14:23:38.321426Z",
          "shell.execute_reply": "2023-05-07T14:23:38.331796Z"
        },
        "trusted": true,
        "colab": {
          "base_uri": "https://localhost:8080/",
          "height": 36
        },
        "id": "4ETkh-e-mgeP",
        "outputId": "a2b164dd-40c0-4493-9207-9b5cc7eb169a"
      },
      "execution_count": 8,
      "outputs": [
        {
          "output_type": "execute_result",
          "data": {
            "text/plain": [
              "'you need to stop the engine and wait until it stops. This is how I would do it: // Check if its safe'"
            ],
            "application/vnd.google.colaboratory.intrinsic+json": {
              "type": "string"
            }
          },
          "metadata": {},
          "execution_count": 8
        }
      ]
    },
    {
      "cell_type": "code",
      "source": [
        "df['lenght']=df['text'].str.len()\n",
        "max=df['lenght'].max()\n",
        "min=df['lenght'].min()\n",
        "avg=df['lenght'].mean()\n",
        "print( 'maximum value: '+str(max))\n",
        "print('minimum value: '+str(min))\n",
        "print('average value: '+str(avg))\n",
        "df.head()"
      ],
      "metadata": {
        "execution": {
          "iopub.status.busy": "2023-05-07T14:23:38.335792Z",
          "iopub.execute_input": "2023-05-07T14:23:38.343447Z",
          "iopub.status.idle": "2023-05-07T14:23:38.397001Z",
          "shell.execute_reply.started": "2023-05-07T14:23:38.343407Z",
          "shell.execute_reply": "2023-05-07T14:23:38.395913Z"
        },
        "trusted": true,
        "colab": {
          "base_uri": "https://localhost:8080/",
          "height": 337
        },
        "id": "sVgdMhunmgeP",
        "outputId": "b5404ba6-c7cc-4c9a-e56f-4f97044355bd"
      },
      "execution_count": 9,
      "outputs": [
        {
          "output_type": "stream",
          "name": "stdout",
          "text": [
            "maximum value: 669\n",
            "minimum value: 3\n",
            "average value: 305.25058354262075\n"
          ]
        },
        {
          "output_type": "execute_result",
          "data": {
            "text/plain": [
              "      id  \\\n",
              "0  12322   \n",
              "1   1682   \n",
              "2  22592   \n",
              "3  17390   \n",
              "4  30453   \n",
              "\n",
              "                                                                                                                                                    text  \\\n",
              "0                                                   you need to stop the engine and wait until it stops. This is how I would do it: // Check if its safe   \n",
              "1  The Commission shall publish the report; an interim report at least once every two years, and whenever it considers that such a report is necessar...   \n",
              "2                                                   I have not been tweeting a lot lately, but I did in November, and it was a really good month. I also   \n",
              "3                                                             I pass my exam and really thankgod for that but idk where will I go for shsmy result is ah   \n",
              "4  The template will have 3 parts: a mustache shape, a bow tie shape, and a skinny rectangle. The mustache shape will eventually make the bow loops. ...   \n",
              "\n",
              "       label  lenght  \n",
              "0  generated     100  \n",
              "1  generated     571  \n",
              "2  generated     100  \n",
              "3      human      90  \n",
              "4      human     329  "
            ],
            "text/html": [
              "\n",
              "  <div id=\"df-406600d2-9677-450e-99bd-e007fca93f52\">\n",
              "    <div class=\"colab-df-container\">\n",
              "      <div>\n",
              "<style scoped>\n",
              "    .dataframe tbody tr th:only-of-type {\n",
              "        vertical-align: middle;\n",
              "    }\n",
              "\n",
              "    .dataframe tbody tr th {\n",
              "        vertical-align: top;\n",
              "    }\n",
              "\n",
              "    .dataframe thead th {\n",
              "        text-align: right;\n",
              "    }\n",
              "</style>\n",
              "<table border=\"1\" class=\"dataframe\">\n",
              "  <thead>\n",
              "    <tr style=\"text-align: right;\">\n",
              "      <th></th>\n",
              "      <th>id</th>\n",
              "      <th>text</th>\n",
              "      <th>label</th>\n",
              "      <th>lenght</th>\n",
              "    </tr>\n",
              "  </thead>\n",
              "  <tbody>\n",
              "    <tr>\n",
              "      <th>0</th>\n",
              "      <td>12322</td>\n",
              "      <td>you need to stop the engine and wait until it stops. This is how I would do it: // Check if its safe</td>\n",
              "      <td>generated</td>\n",
              "      <td>100</td>\n",
              "    </tr>\n",
              "    <tr>\n",
              "      <th>1</th>\n",
              "      <td>1682</td>\n",
              "      <td>The Commission shall publish the report; an interim report at least once every two years, and whenever it considers that such a report is necessar...</td>\n",
              "      <td>generated</td>\n",
              "      <td>571</td>\n",
              "    </tr>\n",
              "    <tr>\n",
              "      <th>2</th>\n",
              "      <td>22592</td>\n",
              "      <td>I have not been tweeting a lot lately, but I did in November, and it was a really good month. I also</td>\n",
              "      <td>generated</td>\n",
              "      <td>100</td>\n",
              "    </tr>\n",
              "    <tr>\n",
              "      <th>3</th>\n",
              "      <td>17390</td>\n",
              "      <td>I pass my exam and really thankgod for that but idk where will I go for shsmy result is ah</td>\n",
              "      <td>human</td>\n",
              "      <td>90</td>\n",
              "    </tr>\n",
              "    <tr>\n",
              "      <th>4</th>\n",
              "      <td>30453</td>\n",
              "      <td>The template will have 3 parts: a mustache shape, a bow tie shape, and a skinny rectangle. The mustache shape will eventually make the bow loops. ...</td>\n",
              "      <td>human</td>\n",
              "      <td>329</td>\n",
              "    </tr>\n",
              "  </tbody>\n",
              "</table>\n",
              "</div>\n",
              "      <button class=\"colab-df-convert\" onclick=\"convertToInteractive('df-406600d2-9677-450e-99bd-e007fca93f52')\"\n",
              "              title=\"Convert this dataframe to an interactive table.\"\n",
              "              style=\"display:none;\">\n",
              "        \n",
              "  <svg xmlns=\"http://www.w3.org/2000/svg\" height=\"24px\"viewBox=\"0 0 24 24\"\n",
              "       width=\"24px\">\n",
              "    <path d=\"M0 0h24v24H0V0z\" fill=\"none\"/>\n",
              "    <path d=\"M18.56 5.44l.94 2.06.94-2.06 2.06-.94-2.06-.94-.94-2.06-.94 2.06-2.06.94zm-11 1L8.5 8.5l.94-2.06 2.06-.94-2.06-.94L8.5 2.5l-.94 2.06-2.06.94zm10 10l.94 2.06.94-2.06 2.06-.94-2.06-.94-.94-2.06-.94 2.06-2.06.94z\"/><path d=\"M17.41 7.96l-1.37-1.37c-.4-.4-.92-.59-1.43-.59-.52 0-1.04.2-1.43.59L10.3 9.45l-7.72 7.72c-.78.78-.78 2.05 0 2.83L4 21.41c.39.39.9.59 1.41.59.51 0 1.02-.2 1.41-.59l7.78-7.78 2.81-2.81c.8-.78.8-2.07 0-2.86zM5.41 20L4 18.59l7.72-7.72 1.47 1.35L5.41 20z\"/>\n",
              "  </svg>\n",
              "      </button>\n",
              "      \n",
              "  <style>\n",
              "    .colab-df-container {\n",
              "      display:flex;\n",
              "      flex-wrap:wrap;\n",
              "      gap: 12px;\n",
              "    }\n",
              "\n",
              "    .colab-df-convert {\n",
              "      background-color: #E8F0FE;\n",
              "      border: none;\n",
              "      border-radius: 50%;\n",
              "      cursor: pointer;\n",
              "      display: none;\n",
              "      fill: #1967D2;\n",
              "      height: 32px;\n",
              "      padding: 0 0 0 0;\n",
              "      width: 32px;\n",
              "    }\n",
              "\n",
              "    .colab-df-convert:hover {\n",
              "      background-color: #E2EBFA;\n",
              "      box-shadow: 0px 1px 2px rgba(60, 64, 67, 0.3), 0px 1px 3px 1px rgba(60, 64, 67, 0.15);\n",
              "      fill: #174EA6;\n",
              "    }\n",
              "\n",
              "    [theme=dark] .colab-df-convert {\n",
              "      background-color: #3B4455;\n",
              "      fill: #D2E3FC;\n",
              "    }\n",
              "\n",
              "    [theme=dark] .colab-df-convert:hover {\n",
              "      background-color: #434B5C;\n",
              "      box-shadow: 0px 1px 3px 1px rgba(0, 0, 0, 0.15);\n",
              "      filter: drop-shadow(0px 1px 2px rgba(0, 0, 0, 0.3));\n",
              "      fill: #FFFFFF;\n",
              "    }\n",
              "  </style>\n",
              "\n",
              "      <script>\n",
              "        const buttonEl =\n",
              "          document.querySelector('#df-406600d2-9677-450e-99bd-e007fca93f52 button.colab-df-convert');\n",
              "        buttonEl.style.display =\n",
              "          google.colab.kernel.accessAllowed ? 'block' : 'none';\n",
              "\n",
              "        async function convertToInteractive(key) {\n",
              "          const element = document.querySelector('#df-406600d2-9677-450e-99bd-e007fca93f52');\n",
              "          const dataTable =\n",
              "            await google.colab.kernel.invokeFunction('convertToInteractive',\n",
              "                                                     [key], {});\n",
              "          if (!dataTable) return;\n",
              "\n",
              "          const docLinkHtml = 'Like what you see? Visit the ' +\n",
              "            '<a target=\"_blank\" href=https://colab.research.google.com/notebooks/data_table.ipynb>data table notebook</a>'\n",
              "            + ' to learn more about interactive tables.';\n",
              "          element.innerHTML = '';\n",
              "          dataTable['output_type'] = 'display_data';\n",
              "          await google.colab.output.renderOutput(dataTable, element);\n",
              "          const docLink = document.createElement('div');\n",
              "          docLink.innerHTML = docLinkHtml;\n",
              "          element.appendChild(docLink);\n",
              "        }\n",
              "      </script>\n",
              "    </div>\n",
              "  </div>\n",
              "  "
            ]
          },
          "metadata": {},
          "execution_count": 9
        }
      ]
    },
    {
      "cell_type": "markdown",
      "source": [
        "I have added a feature to our datset containing the lenght of the documents.\n"
      ],
      "metadata": {
        "id": "zcDOq7FZmgeQ"
      }
    },
    {
      "cell_type": "code",
      "source": [
        "\n",
        "\n",
        "label_count = Counter(df['label'])\n",
        "\n",
        "print(f\"we have {len(label_count.keys())} different categories:\")\n",
        "\n",
        "\n",
        "plt.figure(figsize=(4, 4))\n",
        "plt.bar(range(len(label_count)), label_count.values())\n",
        "plt.xticks(range(len(label_count)), label_count.keys())\n",
        "plt.ylim([1, 20000])\n",
        "plt.show()"
      ],
      "metadata": {
        "execution": {
          "iopub.status.busy": "2023-05-07T14:23:38.401288Z",
          "iopub.execute_input": "2023-05-07T14:23:38.402285Z",
          "iopub.status.idle": "2023-05-07T14:23:38.605414Z",
          "shell.execute_reply.started": "2023-05-07T14:23:38.402245Z",
          "shell.execute_reply": "2023-05-07T14:23:38.604315Z"
        },
        "trusted": true,
        "colab": {
          "base_uri": "https://localhost:8080/",
          "height": 391
        },
        "id": "HwJ54_L2mgeQ",
        "outputId": "f91d5e18-6ec6-4d5a-c150-748d8373a8cc"
      },
      "execution_count": 10,
      "outputs": [
        {
          "output_type": "stream",
          "name": "stdout",
          "text": [
            "we have 2 different categories:\n"
          ]
        },
        {
          "output_type": "display_data",
          "data": {
            "text/plain": [
              "<Figure size 400x400 with 1 Axes>"
            ],
            "image/png": "[encoded data removed]"
          },
          "metadata": {}
        }
      ]
    },
    {
      "cell_type": "markdown",
      "source": [
        "The categories are equally distributed.\n"
      ],
      "metadata": {
        "id": "zrzkSfOamgeQ"
      }
    },
    {
      "cell_type": "markdown",
      "source": [
        "# Search Engine"
      ],
      "metadata": {
        "id": "gAUfVUtLmgeQ"
      }
    },
    {
      "cell_type": "code",
      "source": [
        "!pip install -q python-terrier\n"
      ],
      "metadata": {
        "execution": {
          "iopub.status.busy": "2023-05-07T14:23:38.607059Z",
          "iopub.execute_input": "2023-05-07T14:23:38.607719Z",
          "iopub.status.idle": "2023-05-07T14:24:04.425594Z",
          "shell.execute_reply.started": "2023-05-07T14:23:38.607681Z",
          "shell.execute_reply": "2023-05-07T14:24:04.424394Z"
        },
        "trusted": true,
        "colab": {
          "base_uri": "https://localhost:8080/"
        },
        "id": "2XI86vpXmgeR",
        "outputId": "58c4dba8-8a11-444b-faf9-525be03f1e42"
      },
      "execution_count": 11,
      "outputs": [
        {
          "output_type": "stream",
          "name": "stdout",
          "text": [
            "\u001b[?25l     \u001b[90m━━━━━━━━━━━━━━━━━━━━━━━━━━━━━━━━━━━━━━━━\u001b[0m \u001b[32m0.0/104.4 kB\u001b[0m \u001b[31m?\u001b[0m eta \u001b[36m-:--:--\u001b[0m\r\u001b[2K     \u001b[91m━━━━━━━━━━━━━━━━━━━━━━━━━━━━━━━━━━━━━━\u001b[0m\u001b[90m╺\u001b[0m \u001b[32m102.4/104.4 kB\u001b[0m \u001b[31m6.0 MB/s\u001b[0m eta \u001b[36m0:00:01\u001b[0m\r\u001b[2K     \u001b[90m━━━━━━━━━━━━━━━━━━━━━━━━━━━━━━━━━━━━━━━\u001b[0m \u001b[32m104.4/104.4 kB\u001b[0m \u001b[31m2.6 MB/s\u001b[0m eta \u001b[36m0:00:00\u001b[0m\n",
            "\u001b[?25h  Preparing metadata (setup.py) ... \u001b[?25l\u001b[?25hdone\n",
            "  Preparing metadata (setup.py) ... \u001b[?25l\u001b[?25hdone\n",
            "\u001b[2K     \u001b[90m━━━━━━━━━━━━━━━━━━━━━━━━━━━━━━━━━━━━━━━━\u001b[0m \u001b[32m1.5/1.5 MB\u001b[0m \u001b[31m28.3 MB/s\u001b[0m eta \u001b[36m0:00:00\u001b[0m\n",
            "\u001b[2K     \u001b[90m━━━━━━━━━━━━━━━━━━━━━━━━━━━━━━━━━━━━━━━━\u001b[0m \u001b[32m69.6/69.6 kB\u001b[0m \u001b[31m8.3 MB/s\u001b[0m eta \u001b[36m0:00:00\u001b[0m\n",
            "\u001b[?25h  Preparing metadata (setup.py) ... \u001b[?25l\u001b[?25hdone\n",
            "\u001b[2K     \u001b[90m━━━━━━━━━━━━━━━━━━━━━━━━━━━━━━━━━━━━━━\u001b[0m \u001b[32m311.5/311.5 kB\u001b[0m \u001b[31m23.9 MB/s\u001b[0m eta \u001b[36m0:00:00\u001b[0m\n",
            "\u001b[2K     \u001b[90m━━━━━━━━━━━━━━━━━━━━━━━━━━━━━━━━━━━━━━━━\u001b[0m \u001b[32m46.5/46.5 kB\u001b[0m \u001b[31m5.3 MB/s\u001b[0m eta \u001b[36m0:00:00\u001b[0m\n",
            "\u001b[?25h  Preparing metadata (setup.py) ... \u001b[?25l\u001b[?25hdone\n",
            "\u001b[2K     \u001b[90m━━━━━━━━━━━━━━━━━━━━━━━━━━━━━━━━━━━━━━\u001b[0m \u001b[32m110.5/110.5 kB\u001b[0m \u001b[31m13.0 MB/s\u001b[0m eta \u001b[36m0:00:00\u001b[0m\n",
            "\u001b[2K     \u001b[90m━━━━━━━━━━━━━━━━━━━━━━━━━━━━━━━━━━━━━━\u001b[0m \u001b[32m287.4/287.4 kB\u001b[0m \u001b[31m19.9 MB/s\u001b[0m eta \u001b[36m0:00:00\u001b[0m\n",
            "\u001b[2K     \u001b[90m━━━━━━━━━━━━━━━━━━━━━━━━━━━━━━━━━━━━━━━━\u001b[0m \u001b[32m45.1/45.1 kB\u001b[0m \u001b[31m5.1 MB/s\u001b[0m eta \u001b[36m0:00:00\u001b[0m\n",
            "\u001b[2K     \u001b[90m━━━━━━━━━━━━━━━━━━━━━━━━━━━━━━━━━━━━━━━━\u001b[0m \u001b[32m1.3/1.3 MB\u001b[0m \u001b[31m58.0 MB/s\u001b[0m eta \u001b[36m0:00:00\u001b[0m\n",
            "\u001b[?25h  Preparing metadata (setup.py) ... \u001b[?25l\u001b[?25hdone\n",
            "  Preparing metadata (setup.py) ... \u001b[?25l\u001b[?25hdone\n",
            "  Preparing metadata (setup.py) ... \u001b[?25l\u001b[?25hdone\n",
            "\u001b[2K     \u001b[90m━━━━━━━━━━━━━━━━━━━━━━━━━━━━━━━━━━━━━━\u001b[0m \u001b[32m113.3/113.3 kB\u001b[0m \u001b[31m13.6 MB/s\u001b[0m eta \u001b[36m0:00:00\u001b[0m\n",
            "\u001b[?25h  Preparing metadata (setup.py) ... \u001b[?25l\u001b[?25hdone\n",
            "  Preparing metadata (setup.py) ... \u001b[?25l\u001b[?25hdone\n",
            "  Building wheel for python-terrier (setup.py) ... \u001b[?25l\u001b[?25hdone\n",
            "  Building wheel for ir_measures (setup.py) ... \u001b[?25l\u001b[?25hdone\n",
            "  Building wheel for chest (setup.py) ... \u001b[?25l\u001b[?25hdone\n",
            "  Building wheel for wget (setup.py) ... \u001b[?25l\u001b[?25hdone\n",
            "  Building wheel for cwl-eval (setup.py) ... \u001b[?25l\u001b[?25hdone\n",
            "  Building wheel for pyautocorpus (setup.py) ... \u001b[?25l\u001b[?25hdone\n",
            "  Building wheel for warc3-wet-clueweb09 (setup.py) ... \u001b[?25l\u001b[?25hdone\n",
            "  Building wheel for zlib-state (setup.py) ... \u001b[?25l\u001b[?25hdone\n",
            "  Building wheel for cbor (setup.py) ... \u001b[?25l\u001b[?25hdone\n"
          ]
        }
      ]
    },
    {
      "cell_type": "code",
      "source": [
        "import pyterrier as pt\n",
        "if not pt.started():\n",
        "  pt.init()"
      ],
      "metadata": {
        "execution": {
          "iopub.status.busy": "2023-05-07T14:24:06.660063Z",
          "iopub.execute_input": "2023-05-07T14:24:06.660537Z",
          "iopub.status.idle": "2023-05-07T14:24:07.751330Z",
          "shell.execute_reply.started": "2023-05-07T14:24:06.660483Z",
          "shell.execute_reply": "2023-05-07T14:24:07.749756Z"
        },
        "trusted": true,
        "colab": {
          "base_uri": "https://localhost:8080/"
        },
        "id": "0xJV8xsMmgeR",
        "outputId": "6b0ccb1c-cfdd-49b1-d060-287414304950"
      },
      "execution_count": 12,
      "outputs": [
        {
          "output_type": "stream",
          "name": "stdout",
          "text": [
            "terrier-assemblies 5.7 jar-with-dependencies not found, downloading to /root/.pyterrier...\n",
            "Done\n",
            "terrier-python-helper 0.0.7 jar not found, downloading to /root/.pyterrier...\n",
            "Done\n"
          ]
        },
        {
          "output_type": "stream",
          "name": "stderr",
          "text": [
            "PyTerrier 0.9.2 has loaded Terrier 5.7 (built by craigm on 2022-11-10 18:30) and terrier-helper 0.0.7\n",
            "\n"
          ]
        }
      ]
    },
    {
      "cell_type": "markdown",
      "source": [
        "Before any search engine can estimate which documents are most likely to be relevant for a given query, it must index the documents.\n",
        "\n",
        "In the following cell, we index the dataframe's documents. The index, with all its data structures, is written into a directory that we will call index_3docs. "
      ],
      "metadata": {
        "id": "iSHAY2vwmgeR"
      }
    },
    {
      "cell_type": "code",
      "source": [
        "indexer = pt.DFIndexer(\"./index_3docs\", overwrite=True)\n",
        "df['docno']=str(df[\"id\"])\n",
        "index_ref = indexer.index(df[\"text\"], df[\"docno\"])\n",
        "index_ref.toString()"
      ],
      "metadata": {
        "execution": {
          "iopub.status.busy": "2023-05-07T14:22:13.495062Z",
          "iopub.status.idle": "2023-05-07T14:22:13.496087Z",
          "shell.execute_reply.started": "2023-05-07T14:22:13.495809Z",
          "shell.execute_reply": "2023-05-07T14:22:13.495834Z"
        },
        "trusted": true,
        "colab": {
          "base_uri": "https://localhost:8080/",
          "height": 316
        },
        "id": "hiqlrMj4mgeR",
        "outputId": "e0f661d0-0d4d-45a5-86ec-954c27c31e92"
      },
      "execution_count": 13,
      "outputs": [
        {
          "output_type": "stream",
          "name": "stderr",
          "text": [
            "/usr/local/lib/python3.10/dist-packages/pyterrier/index.py:628: FutureWarning: iteritems is deprecated and will be removed in a future version. Use .items instead.\n",
            "  for column, value in meta_column[1].iteritems():\n"
          ]
        },
        {
          "output_type": "stream",
          "name": "stdout",
          "text": [
            "13:04:22.451 [main] WARN org.terrier.structures.indexing.Indexer - Adding an empty document to the index (0        12322\n",
            "1         1682\n",
            "2        22592\n",
            "3        17390\n",
            "4        30453\n",
            "         ...  \n",
            "33840    16850\n",
            "33841     6265\n",
            "33842    11284\n",
            "33843      860\n",
            "33844    15795\n",
            "Name: id, Length: 33845, dtype: int64) - further warnings are suppressed\n",
            "13:04:52.665 [main] WARN org.terrier.structures.indexing.Indexer - Indexed 4 empty documents\n"
          ]
        },
        {
          "output_type": "execute_result",
          "data": {
            "text/plain": [
              "'./index_3docs/data.properties'"
            ],
            "application/vnd.google.colaboratory.intrinsic+json": {
              "type": "string"
            }
          },
          "metadata": {},
          "execution_count": 13
        }
      ]
    },
    {
      "cell_type": "code",
      "source": [
        "index = pt.IndexFactory.of(index_ref)"
      ],
      "metadata": {
        "id": "DoHb2T-KoDuG"
      },
      "execution_count": 14,
      "outputs": []
    },
    {
      "cell_type": "code",
      "source": [
        "print(index.getCollectionStatistics().toString())"
      ],
      "metadata": {
        "colab": {
          "base_uri": "https://localhost:8080/"
        },
        "id": "pQs3-w9MoGOr",
        "outputId": "b1b5dc75-8439-4051-b9eb-2a5b6fe95672"
      },
      "execution_count": 15,
      "outputs": [
        {
          "output_type": "stream",
          "name": "stdout",
          "text": [
            "Number of documents: 33845\n",
            "Number of terms: 31825\n",
            "Number of postings: 751277\n",
            "Number of fields: 0\n",
            "Number of tokens: 923471\n",
            "Field names: []\n",
            "Positions:   false\n",
            "\n"
          ]
        }
      ]
    },
    {
      "cell_type": "code",
      "source": [
        "query = \"potato\"\n",
        "bm25 = pt.BatchRetrieve(index, wmodel=\"BM25\")\n",
        "bm25.search(query)\n",
        "br = pt.BatchRetrieve(index, wmodel=\"TF_IDF\")\n",
        "queries=br.search(query)\n",
        "queries.head()"
      ],
      "metadata": {
        "colab": {
          "base_uri": "https://localhost:8080/",
          "height": 206
        },
        "id": "reSrsoIhoNJE",
        "outputId": "020fd96d-6301-4fd5-a82c-7f5008d83371"
      },
      "execution_count": 16,
      "outputs": [
        {
          "output_type": "execute_result",
          "data": {
            "text/plain": [
              "  qid  docid  \\\n",
              "0   1  21593   \n",
              "1   1  13963   \n",
              "2   1   5780   \n",
              "3   1  24231   \n",
              "4   1  25694   \n",
              "\n",
              "                                                                                                                                                   docno  \\\n",
              "0  0        123221         16822        225923        173904        30453         ...  33840    1685033841     626533842    1128433843      86033844 ...   \n",
              "1  0        123221         16822        225923        173904        30453         ...  33840    1685033841     626533842    1128433843      86033844 ...   \n",
              "2  0        123221         16822        225923        173904        30453         ...  33840    1685033841     626533842    1128433843      86033844 ...   \n",
              "3  0        123221         16822        225923        173904        30453         ...  33840    1685033841     626533842    1128433843      86033844 ...   \n",
              "4  0        123221         16822        225923        173904        30453         ...  33840    1685033841     626533842    1128433843      86033844 ...   \n",
              "\n",
              "   rank     score   query  \n",
              "0     0  8.106677  potato  \n",
              "1     1  8.024425  potato  \n",
              "2     2  7.984238  potato  \n",
              "3     3  7.944453  potato  \n",
              "4     4  7.827439  potato  "
            ],
            "text/html": [
              "\n",
              "  <div id=\"df-e843d42f-6890-4644-9e86-8e6d41fc245d\">\n",
              "    <div class=\"colab-df-container\">\n",
              "      <div>\n",
              "<style scoped>\n",
              "    .dataframe tbody tr th:only-of-type {\n",
              "        vertical-align: middle;\n",
              "    }\n",
              "\n",
              "    .dataframe tbody tr th {\n",
              "        vertical-align: top;\n",
              "    }\n",
              "\n",
              "    .dataframe thead th {\n",
              "        text-align: right;\n",
              "    }\n",
              "</style>\n",
              "<table border=\"1\" class=\"dataframe\">\n",
              "  <thead>\n",
              "    <tr style=\"text-align: right;\">\n",
              "      <th></th>\n",
              "      <th>qid</th>\n",
              "      <th>docid</th>\n",
              "      <th>docno</th>\n",
              "      <th>rank</th>\n",
              "      <th>score</th>\n",
              "      <th>query</th>\n",
              "    </tr>\n",
              "  </thead>\n",
              "  <tbody>\n",
              "    <tr>\n",
              "      <th>0</th>\n",
              "      <td>1</td>\n",
              "      <td>21593</td>\n",
              "      <td>0        123221         16822        225923        173904        30453         ...  33840    1685033841     626533842    1128433843      86033844 ...</td>\n",
              "      <td>0</td>\n",
              "      <td>8.106677</td>\n",
              "      <td>potato</td>\n",
              "    </tr>\n",
              "    <tr>\n",
              "      <th>1</th>\n",
              "      <td>1</td>\n",
              "      <td>13963</td>\n",
              "      <td>0        123221         16822        225923        173904        30453         ...  33840    1685033841     626533842    1128433843      86033844 ...</td>\n",
              "      <td>1</td>\n",
              "      <td>8.024425</td>\n",
              "      <td>potato</td>\n",
              "    </tr>\n",
              "    <tr>\n",
              "      <th>2</th>\n",
              "      <td>1</td>\n",
              "      <td>5780</td>\n",
              "      <td>0        123221         16822        225923        173904        30453         ...  33840    1685033841     626533842    1128433843      86033844 ...</td>\n",
              "      <td>2</td>\n",
              "      <td>7.984238</td>\n",
              "      <td>potato</td>\n",
              "    </tr>\n",
              "    <tr>\n",
              "      <th>3</th>\n",
              "      <td>1</td>\n",
              "      <td>24231</td>\n",
              "      <td>0        123221         16822        225923        173904        30453         ...  33840    1685033841     626533842    1128433843      86033844 ...</td>\n",
              "      <td>3</td>\n",
              "      <td>7.944453</td>\n",
              "      <td>potato</td>\n",
              "    </tr>\n",
              "    <tr>\n",
              "      <th>4</th>\n",
              "      <td>1</td>\n",
              "      <td>25694</td>\n",
              "      <td>0        123221         16822        225923        173904        30453         ...  33840    1685033841     626533842    1128433843      86033844 ...</td>\n",
              "      <td>4</td>\n",
              "      <td>7.827439</td>\n",
              "      <td>potato</td>\n",
              "    </tr>\n",
              "  </tbody>\n",
              "</table>\n",
              "</div>\n",
              "      <button class=\"colab-df-convert\" onclick=\"convertToInteractive('df-e843d42f-6890-4644-9e86-8e6d41fc245d')\"\n",
              "              title=\"Convert this dataframe to an interactive table.\"\n",
              "              style=\"display:none;\">\n",
              "        \n",
              "  <svg xmlns=\"http://www.w3.org/2000/svg\" height=\"24px\"viewBox=\"0 0 24 24\"\n",
              "       width=\"24px\">\n",
              "    <path d=\"M0 0h24v24H0V0z\" fill=\"none\"/>\n",
              "    <path d=\"M18.56 5.44l.94 2.06.94-2.06 2.06-.94-2.06-.94-.94-2.06-.94 2.06-2.06.94zm-11 1L8.5 8.5l.94-2.06 2.06-.94-2.06-.94L8.5 2.5l-.94 2.06-2.06.94zm10 10l.94 2.06.94-2.06 2.06-.94-2.06-.94-.94-2.06-.94 2.06-2.06.94z\"/><path d=\"M17.41 7.96l-1.37-1.37c-.4-.4-.92-.59-1.43-.59-.52 0-1.04.2-1.43.59L10.3 9.45l-7.72 7.72c-.78.78-.78 2.05 0 2.83L4 21.41c.39.39.9.59 1.41.59.51 0 1.02-.2 1.41-.59l7.78-7.78 2.81-2.81c.8-.78.8-2.07 0-2.86zM5.41 20L4 18.59l7.72-7.72 1.47 1.35L5.41 20z\"/>\n",
              "  </svg>\n",
              "      </button>\n",
              "      \n",
              "  <style>\n",
              "    .colab-df-container {\n",
              "      display:flex;\n",
              "      flex-wrap:wrap;\n",
              "      gap: 12px;\n",
              "    }\n",
              "\n",
              "    .colab-df-convert {\n",
              "      background-color: #E8F0FE;\n",
              "      border: none;\n",
              "      border-radius: 50%;\n",
              "      cursor: pointer;\n",
              "      display: none;\n",
              "      fill: #1967D2;\n",
              "      height: 32px;\n",
              "      padding: 0 0 0 0;\n",
              "      width: 32px;\n",
              "    }\n",
              "\n",
              "    .colab-df-convert:hover {\n",
              "      background-color: #E2EBFA;\n",
              "      box-shadow: 0px 1px 2px rgba(60, 64, 67, 0.3), 0px 1px 3px 1px rgba(60, 64, 67, 0.15);\n",
              "      fill: #174EA6;\n",
              "    }\n",
              "\n",
              "    [theme=dark] .colab-df-convert {\n",
              "      background-color: #3B4455;\n",
              "      fill: #D2E3FC;\n",
              "    }\n",
              "\n",
              "    [theme=dark] .colab-df-convert:hover {\n",
              "      background-color: #434B5C;\n",
              "      box-shadow: 0px 1px 3px 1px rgba(0, 0, 0, 0.15);\n",
              "      filter: drop-shadow(0px 1px 2px rgba(0, 0, 0, 0.3));\n",
              "      fill: #FFFFFF;\n",
              "    }\n",
              "  </style>\n",
              "\n",
              "      <script>\n",
              "        const buttonEl =\n",
              "          document.querySelector('#df-e843d42f-6890-4644-9e86-8e6d41fc245d button.colab-df-convert');\n",
              "        buttonEl.style.display =\n",
              "          google.colab.kernel.accessAllowed ? 'block' : 'none';\n",
              "\n",
              "        async function convertToInteractive(key) {\n",
              "          const element = document.querySelector('#df-e843d42f-6890-4644-9e86-8e6d41fc245d');\n",
              "          const dataTable =\n",
              "            await google.colab.kernel.invokeFunction('convertToInteractive',\n",
              "                                                     [key], {});\n",
              "          if (!dataTable) return;\n",
              "\n",
              "          const docLinkHtml = 'Like what you see? Visit the ' +\n",
              "            '<a target=\"_blank\" href=https://colab.research.google.com/notebooks/data_table.ipynb>data table notebook</a>'\n",
              "            + ' to learn more about interactive tables.';\n",
              "          element.innerHTML = '';\n",
              "          dataTable['output_type'] = 'display_data';\n",
              "          await google.colab.output.renderOutput(dataTable, element);\n",
              "          const docLink = document.createElement('div');\n",
              "          docLink.innerHTML = docLinkHtml;\n",
              "          element.appendChild(docLink);\n",
              "        }\n",
              "      </script>\n",
              "    </div>\n",
              "  </div>\n",
              "  "
            ]
          },
          "metadata": {},
          "execution_count": 16
        }
      ]
    },
    {
      "cell_type": "markdown",
      "source": [
        "Word Embedding"
      ],
      "metadata": {
        "id": "sRWa_IQlykDP"
      }
    },
    {
      "cell_type": "code",
      "source": [
        "!pip install --upgrade gensim\n",
        "!pip install plotly"
      ],
      "metadata": {
        "colab": {
          "base_uri": "https://localhost:8080/"
        },
        "id": "t6EwvQb0ymfp",
        "outputId": "1bfdad21-1696-4ec7-d652-e1930958e32b"
      },
      "execution_count": 17,
      "outputs": [
        {
          "output_type": "stream",
          "name": "stdout",
          "text": [
            "Looking in indexes: https://pypi.org/simple, https://us-python.pkg.dev/colab-wheels/public/simple/\n",
            "Requirement already satisfied: gensim in /usr/local/lib/python3.10/dist-packages (4.3.1)\n",
            "Requirement already satisfied: numpy>=1.18.5 in /usr/local/lib/python3.10/dist-packages (from gensim) (1.22.4)\n",
            "Requirement already satisfied: scipy>=1.7.0 in /usr/local/lib/python3.10/dist-packages (from gensim) (1.10.1)\n",
            "Requirement already satisfied: smart-open>=1.8.1 in /usr/local/lib/python3.10/dist-packages (from gensim) (6.3.0)\n",
            "Looking in indexes: https://pypi.org/simple, https://us-python.pkg.dev/colab-wheels/public/simple/\n",
            "Requirement already satisfied: plotly in /usr/local/lib/python3.10/dist-packages (5.13.1)\n",
            "Requirement already satisfied: tenacity>=6.2.0 in /usr/local/lib/python3.10/dist-packages (from plotly) (8.2.2)\n"
          ]
        }
      ]
    },
    {
      "cell_type": "code",
      "source": [
        "import re\n",
        "from pandas.core.common import flatten\n",
        "from gensim.models.word2vec import Word2Vec\n",
        "import random\n",
        "from sklearn.manifold import TSNE\n",
        "import plotly.express as px"
      ],
      "metadata": {
        "id": "hrC03K27lhwA"
      },
      "execution_count": 18,
      "outputs": []
    },
    {
      "cell_type": "code",
      "source": [
        "\n",
        "# remove newline characters\n",
        "docs = [re.sub('\\n', ' ', doc) for doc in df.text]\n",
        "# remove email addresses\n",
        "docs = [re.sub('[a-zA-Z0-9._%+-]+@[a-zA-Z0-9.-]+\\.[a-zA-Z]{2,}', '', doc) for doc in docs]\n",
        "# split sentences \n",
        "sentences = [re.split('[?!.]\\s', doc) for doc in docs]\n",
        "sentences[:3]"
      ],
      "metadata": {
        "colab": {
          "base_uri": "https://localhost:8080/"
        },
        "id": "5Q-CvB5lyqBj",
        "outputId": "a9ed9451-ea00-4591-ccd9-5d9d8340db96"
      },
      "execution_count": 19,
      "outputs": [
        {
          "output_type": "execute_result",
          "data": {
            "text/plain": [
              "[['you need to stop the engine and wait until it stops',\n",
              "  'This is how I would do it: // Check if its safe'],\n",
              " ['The Commission shall publish the report; an interim report at least once every two years, and whenever it considers that such a report is necessary or appropriate',\n",
              "  '2',\n",
              "  'The Commission may request any relevant information from the Member States, the Council, the European Parliament, international organizations, bodies or specialized agencies',\n",
              "  '3',\n",
              "  'The Commission shall ensure adequate access by the competent national authorities for the purpose of implementing this Regulation',\n",
              "  '4',\n",
              "  'The Commission shall give special attention to the social dimension of the programme',\n",
              "  '5',\n",
              "  'The'],\n",
              " ['I have not been tweeting a lot lately, but I did in November, and it was a really good month',\n",
              "  'I also']]"
            ]
          },
          "metadata": {},
          "execution_count": 19
        }
      ]
    },
    {
      "cell_type": "code",
      "source": [
        "sentences = list(flatten(sentences))\n",
        "sentences[:20]"
      ],
      "metadata": {
        "colab": {
          "base_uri": "https://localhost:8080/"
        },
        "id": "dwnKMMoKyyHV",
        "outputId": "bafd5670-b218-4f20-e2c4-179da836be1d"
      },
      "execution_count": 20,
      "outputs": [
        {
          "output_type": "execute_result",
          "data": {
            "text/plain": [
              "['you need to stop the engine and wait until it stops',\n",
              " 'This is how I would do it: // Check if its safe',\n",
              " 'The Commission shall publish the report; an interim report at least once every two years, and whenever it considers that such a report is necessary or appropriate',\n",
              " '2',\n",
              " 'The Commission may request any relevant information from the Member States, the Council, the European Parliament, international organizations, bodies or specialized agencies',\n",
              " '3',\n",
              " 'The Commission shall ensure adequate access by the competent national authorities for the purpose of implementing this Regulation',\n",
              " '4',\n",
              " 'The Commission shall give special attention to the social dimension of the programme',\n",
              " '5',\n",
              " 'The',\n",
              " 'I have not been tweeting a lot lately, but I did in November, and it was a really good month',\n",
              " 'I also',\n",
              " 'I pass my exam and really thankgod for that but idk where will I go for shsmy result is ah',\n",
              " 'The template will have 3 parts: a mustache shape, a bow tie shape, and a skinny rectangle',\n",
              " 'The mustache shape will eventually make the bow loops',\n",
              " 'The bow tie shape will actually make the bow tails',\n",
              " 'Glue the bow to scrapbooking project, or secure it with glue dots instead',\n",
              " 'You can also use doublesided tape or foam mounting tape.',\n",
              " '@Jonasbrothers Guys.']"
            ]
          },
          "metadata": {},
          "execution_count": 20
        }
      ]
    },
    {
      "cell_type": "code",
      "source": [
        "tokenized_sentences = [re.sub('\\W', ' ', sentence).lower().split() for sentence in sentences]\n",
        "# remove sentences that are only 1 word long\n",
        "tokenized_sentences = [sentence for sentence in tokenized_sentences if len(sentence) > 1]\n",
        "\n",
        "for sentence in tokenized_sentences[:10]:\n",
        "    print(sentence)"
      ],
      "metadata": {
        "colab": {
          "base_uri": "https://localhost:8080/"
        },
        "id": "LzTFaKkiy0AG",
        "outputId": "47dba468-925b-4c05-a7df-6f02bd02f556"
      },
      "execution_count": 21,
      "outputs": [
        {
          "output_type": "stream",
          "name": "stdout",
          "text": [
            "['you', 'need', 'to', 'stop', 'the', 'engine', 'and', 'wait', 'until', 'it', 'stops']\n",
            "['this', 'is', 'how', 'i', 'would', 'do', 'it', 'check', 'if', 'its', 'safe']\n",
            "['the', 'commission', 'shall', 'publish', 'the', 'report', 'an', 'interim', 'report', 'at', 'least', 'once', 'every', 'two', 'years', 'and', 'whenever', 'it', 'considers', 'that', 'such', 'a', 'report', 'is', 'necessary', 'or', 'appropriate']\n",
            "['the', 'commission', 'may', 'request', 'any', 'relevant', 'information', 'from', 'the', 'member', 'states', 'the', 'council', 'the', 'european', 'parliament', 'international', 'organizations', 'bodies', 'or', 'specialized', 'agencies']\n",
            "['the', 'commission', 'shall', 'ensure', 'adequate', 'access', 'by', 'the', 'competent', 'national', 'authorities', 'for', 'the', 'purpose', 'of', 'implementing', 'this', 'regulation']\n",
            "['the', 'commission', 'shall', 'give', 'special', 'attention', 'to', 'the', 'social', 'dimension', 'of', 'the', 'programme']\n",
            "['i', 'have', 'not', 'been', 'tweeting', 'a', 'lot', 'lately', 'but', 'i', 'did', 'in', 'november', 'and', 'it', 'was', 'a', 'really', 'good', 'month']\n",
            "['i', 'also']\n",
            "['i', 'pass', 'my', 'exam', 'and', 'really', 'thankgod', 'for', 'that', 'but', 'idk', 'where', 'will', 'i', 'go', 'for', 'shsmy', 'result', 'is', 'ah']\n",
            "['the', 'template', 'will', 'have', '3', 'parts', 'a', 'mustache', 'shape', 'a', 'bow', 'tie', 'shape', 'and', 'a', 'skinny', 'rectangle']\n"
          ]
        }
      ]
    },
    {
      "cell_type": "markdown",
      "source": [
        "Finally we have the data in the right format for training Word2Vec, so we can provide it to the algorithm. For parameters, we set:\n",
        "\n",
        "the embedding size to be 30,\n",
        "the minimum count for any vocabulary term to be 5\n",
        "the size of the context window to 10."
      ],
      "metadata": {
        "id": "3fosppB0y_Se"
      }
    },
    {
      "cell_type": "code",
      "source": [
        "model = Word2Vec(tokenized_sentences, vector_size=30, min_count=5, window=10)"
      ],
      "metadata": {
        "id": "CSKaEwCJy26o"
      },
      "execution_count": 22,
      "outputs": []
    },
    {
      "cell_type": "markdown",
      "source": [
        "Vocubalary"
      ],
      "metadata": {
        "id": "9kFzCibCy6xI"
      }
    },
    {
      "cell_type": "code",
      "source": [
        "len(model.wv)"
      ],
      "metadata": {
        "colab": {
          "base_uri": "https://localhost:8080/"
        },
        "id": "UWTGwe39y6O0",
        "outputId": "2fd16c59-5436-4864-d302-3c073ffb720f"
      },
      "execution_count": 23,
      "outputs": [
        {
          "output_type": "execute_result",
          "data": {
            "text/plain": [
              "12946"
            ]
          },
          "metadata": {},
          "execution_count": 23
        }
      ]
    },
    {
      "cell_type": "code",
      "source": [
        "term ='semen'\n",
        "model.wv.most_similar(term)"
      ],
      "metadata": {
        "colab": {
          "base_uri": "https://localhost:8080/"
        },
        "id": "CE_-1EDMzDLE",
        "outputId": "de1b0922-b8de-46f4-ed00-f3d261df723b"
      },
      "execution_count": 24,
      "outputs": [
        {
          "output_type": "execute_result",
          "data": {
            "text/plain": [
              "[('firms', 0.9162229895591736),\n",
              " ('hydrocarbons', 0.9145749807357788),\n",
              " ('slaughtering', 0.9015233516693115),\n",
              " ('wildlife', 0.8907645344734192),\n",
              " ('rail', 0.8906515836715698),\n",
              " ('sugarcontaining', 0.8864102363586426),\n",
              " ('nouns', 0.8859108090400696),\n",
              " ('whatsoever', 0.8858200311660767),\n",
              " ('diseased', 0.8847671747207642),\n",
              " ('continuously', 0.8844702839851379)]"
            ]
          },
          "metadata": {},
          "execution_count": 24
        }
      ]
    },
    {
      "cell_type": "code",
      "source": [
        "sample = random.sample(list(model.wv.key_to_index), 500)\n",
        "print(sample)\n",
        "word_vectors = model.wv[sample]\n",
        "word_vectors"
      ],
      "metadata": {
        "colab": {
          "base_uri": "https://localhost:8080/"
        },
        "id": "S-dlMY8azk1E",
        "outputId": "df563ef5-320f-4fb1-d2c0-d473ff0d32a6"
      },
      "execution_count": 25,
      "outputs": [
        {
          "output_type": "stream",
          "name": "stdout",
          "text": [
            "['scars', 'bundle', 'shrubs', 'cornus', 'seem', 'venture', 'courtesy', 'manner', 'canal', 'establishments', 'rides', 'response', 'uncertainty', 'organizing', 'similarly', 'bottles', 'critical', 'medicinal', 'sealant', 'concert', 'organisations', 'fur', 'lt', 'heatsafe', 'plenary', 'glutamine', 'eric', 'grumpy', 'soups', 'skirts', 'amend', 'grinder', 'll', 'sweetened', 'meeting', 'hatching', 'skill', 'staining', 'followfriday', 'boiling', 'resin', 'infant', 'stray', 'sequence', 'pins', 'blank', 'james', 'playful', 'tells', 'share', 'structured', 'dandruff', 'herbal', 'educators', 'arches', 'recovery', 'hence', 'collecting', 'sole', 'residual', 'uniformity', 'figuring', 'shows', 'tulle', 'pumps', 'algebra', 'throws', 'guess', 'threw', 'koolaid', 'antibiotics', 'accounts', 'puzzle', 'union', 'trimming', 'organized', 'electrons', 'cows', 'enforcement', 'epic', 'conditioner', 'san', 'keyboard', 'levels', 'processes', 'humanitarian', 'recipients', '157', 'fiveyear', 'reimbursement', 'organisation', 'waterways', 'documentary', 'roughly', 'priced', 'fab', 'saturdays', 'died', 'epsom', 'dim', 'cook', 'racial', 'prenatal', 'wake', 'squeeze', 'average', 'intended', 'limes', 'thanksgiving', 'assuming', 'directly', 'gfalcone601', 'statistical', 'brazil', 'sends', 'disable', '135', 'policies', 'panic', 'exact', 'shift', 'remuneration', 'dragon', '1249', 'forearm', 'rejection', 'stickers', 'pineapple', 'waiver', 'stain', 'multiannual', 'preheated', 'your', 'countrys', 'resume', 'checked', '41', 'prop', 'duchy', 'disposable', 'hardy', 'berries', '1907', 'unhealthy', 'faith', 'negativity', 'mixer', 'roots', 'webpage', 'launched', '92', 'aerial', 'addiction', 'areas', 'purebred', 'alcoholic', 'notification', 'sniffing', 'shitty', 'researchers', 'distracted', 'teu', 'tongue', 'preventing', 'suggest', 'swimmers', 'ddlovato', 'pulp', 'destruction', 'fires', 'resolved', 'trend', 'puppies', 'products', 'isn', 'currently', 'moves', 'nurture', 'holding', 'cells', 'repeating', 'equal', 'controlling', 'tweeps', 'updating', '388', 'sunglasses', 'pus', 'gain', 'email', 'hunter', 'hotline', 'repetitions', 'concern', 'hazardous', 'jealous', 'hug', 'obsessed', 'missions', 'las', 'empathy', 'lice', 'prevailing', 'silkworm', '190', 'palette', 'received', 'committee', 'politely', 'rains', 'headset', 'homeowner', 'entrusted', 'determines', 'bonein', 'creates', 'damp', 'involved', 'dump', 'textured', 'ftw', '1953', 'yogurt', 'lipstick', 'hydrated', 'saying', 'slovak', 'subjects', 'spread', 'doesnt', 'investing', 'chick', 'knowledge', 'furnaces', 'creed', 'bitcoin', 'challenges', '1975', '3', 'strains', 'chiles', 'watching', 'circle', 'agents', 'heal', 'dreads', 'shy', 'pr', 'wondering', 'leases', 'switch', 'witness', 'doses', 'digestive', 'safari', 'appealing', 'nkotb', 'swiss', 'autistic', 'agree', 'appointed', 'club', 'gaps', 'diy', '267', 'cigarette', 'symbols', 'genres', '50', 'advertisement', 'nsaids', 'given', 'obstacle', 'discard', 'thereto', 'glued', 'all', 'static', 'gun', 'fucking', 'cookies', 'regret', 'connection', 'trousers', 'rats', 'sand', 'bing', 'workin', '441', 'attachment', 'location', 'securing', 'step', 'mediumhigh', 'favor', 'electrician', 'humans', 'olive', 'slime', 'scientists', 'support', 'christina1973', 'easytouse', 'prohibition', 'fear', 'thorough', '176', 'neighborhood', 'forms', 'banking', 'bodys', '2038', 'violets', 'consignor', 'guacamole', 'ensuring', 'holder', 'travelling', 'ooo', 'diffuser', 'bears', 'milligrams', 'impulsive', '797', 'incorporate', 'warming', 'percentages', 'collections', 'prep', 'silicone', 'hive', 'cycle', 'amino', '159', 'kayaking', 'compound', 'wah', 'conduit', 'infected', 'pollution', 'walks', 'suitable', '4inch', '2727', 'catheter', 'defines', 'ec', 'varnish', 'bro', 'arthritis', 'capability', 'sister', 'rt', 'amends', 'velvet', '54', 'j', 'heavy', 'toner', 'proceedings', 'foster', 'gratitude', 'debt', 'annexes', 'cope', 'stories', 'left', 'qualified', 'bent', 'budget', '25th', 'creams', 'gravy', 'accreditation', 'english', 'rightclicking', 'stressful', 'drupal', 'shoulderwidth', 'nimexe', 'resentful', 'soluble', 'homie', 'aware', 'exemptions', 'stranger', 'quality', 'explains', 'sm', 'pass', 'rotate', 'facing', 'july', 'odors', 'vest', 'a1', 'assessing', 'repaid', 'ultra', 'airflow', 'realize', 'online', 'cross', 'ripe', 'toast', 'joe', 'tying', 'petrol', 'stretched', 'pie', 'taut', 'greek', 'owed', 'flavors', 'coat', 'devinenews', 'protocols', 'invisible', 'hereto', 'members', 'diabetes', 'rack', 'smoothies', '70', 'pans', 'investigated', 'failing', 'guys', 'paddy', 'lethargy', 'receptive', 'evening', 'provision', 'cons', 'headshots', 'ingested', 'speed', 'customer', 'renewed', 'elliott', 'colza', 'heels', 'props', 'nose', '510', 'antenna', 'path', '1234', 'curious', 'languages', 'creative', 'ash', 'inseam', 'hurtful', 'volatile', 'agreements', 'surplus', 'pivottable', 'modernization', 'ruin', 'polish', 'drones', 'technique', 'spent', 'solids', 'blending', 'dictionary', 'notepad', 'simmering', 'shorter', 'stepdad', 'leaving', 'sliding', 'onion', 'comprising', 'nude', 'meningitis', 'reach', 'dad', 'heartburn', 'mc', 'competitions', 'preservatives', '265', 'secretary', 'bites', 'stole', 'cancel', 'permit', 'its', 'arrested', 'verse', 'pausing', 'talk', 'taken', 'modes', 'terms', 'at', 'sheepmeat', 'tht']\n"
          ]
        },
        {
          "output_type": "execute_result",
          "data": {
            "text/plain": [
              "array([[-0.37306556, -0.01944304,  0.09631151, ...,  0.20832953,\n",
              "        -0.14092158, -0.19754337],\n",
              "       [-0.08155141, -0.05042978,  0.0687318 , ...,  0.03907094,\n",
              "        -0.02515888, -0.10865325],\n",
              "       [-0.0073352 , -0.15934078,  0.15977111, ...,  0.173683  ,\n",
              "        -0.20975716, -0.2637592 ],\n",
              "       ...,\n",
              "       [-0.5352    ,  1.6169602 ,  2.8228564 , ..., -1.7948025 ,\n",
              "         2.734998  ,  0.5953279 ],\n",
              "       [ 0.11578821, -0.13833557, -0.27408332, ...,  0.3020056 ,\n",
              "        -0.20146507,  0.03220257],\n",
              "       [ 0.02894991, -0.2821602 ,  0.12804161, ...,  0.14221872,\n",
              "         0.1288508 , -0.26577342]], dtype=float32)"
            ]
          },
          "metadata": {},
          "execution_count": 25
        }
      ]
    },
    {
      "cell_type": "code",
      "source": [
        "tsne = TSNE(n_components=3, n_iter=2000)\n",
        "tsne_embedding = tsne.fit_transform(word_vectors)"
      ],
      "metadata": {
        "id": "h1__LBdxzRcD"
      },
      "execution_count": 26,
      "outputs": []
    },
    {
      "cell_type": "code",
      "source": [
        "x, y, z = np.transpose(tsne_embedding)"
      ],
      "metadata": {
        "id": "WcQQn-4Zzp-6"
      },
      "execution_count": 27,
      "outputs": []
    },
    {
      "cell_type": "code",
      "source": [
        "fig = px.scatter_3d(x=x[:200],y=y[:200],z=z[:200],text=sample[:200])\n",
        "fig.update_traces(marker=dict(size=3,line=dict(width=2)),textfont_size=10)\n",
        "fig.show()"
      ],
      "metadata": {
        "colab": {
          "base_uri": "https://localhost:8080/",
          "height": 542
        },
        "id": "BzcthSYhzx2i",
        "outputId": "cc0aa094-82aa-4278-82c0-45c765825122"
      },
      "execution_count": 28,
      "outputs": [
        {
          "output_type": "display_data",
          "data": {
            "text/html": [
              "<html>\n",
              "<head><meta charset=\"utf-8\" /></head>\n",
              "<body>\n",
              "    <div>            <script src=\"https://cdnjs.cloudflare.com/ajax/libs/mathjax/2.7.5/MathJax.js?config=TeX-AMS-MML_SVG\"></script><script type=\"text/javascript\">if (window.MathJax && window.MathJax.Hub && window.MathJax.Hub.Config) {window.MathJax.Hub.Config({SVG: {font: \"STIX-Web\"}});}</script>                <script type=\"text/javascript\">window.PlotlyConfig = {MathJaxConfig: 'local'};</script>\n",
              "        <script src=\"https://cdn.plot.ly/plotly-2.18.2.min.js\"></script>                <div id=\"413a3922-3bab-478f-9a25-45e1d4067025\" class=\"plotly-graph-div\" style=\"height:525px; width:100%;\"></div>            <script type=\"text/javascript\">                                    window.PLOTLYENV=window.PLOTLYENV || {};                                    if (document.getElementById(\"413a3922-3bab-478f-9a25-45e1d4067025\")) {                    Plotly.newPlot(                        \"413a3922-3bab-478f-9a25-45e1d4067025\",                        [{\"hovertemplate\":\"x=%{x}<br>y=%{y}<br>z=%{z}<br>text=%{text}<extra></extra>\",\"legendgroup\":\"\",\"marker\":{\"color\":\"#636efa\",\"symbol\":\"circle\",\"line\":{\"width\":2},\"size\":3},\"mode\":\"markers+text\",\"name\":\"\",\"scene\":\"scene\",\"showlegend\":false,\"text\":[\"scars\",\"bundle\",\"shrubs\",\"cornus\",\"seem\",\"venture\",\"courtesy\",\"manner\",\"canal\",\"establishments\",\"rides\",\"response\",\"uncertainty\",\"organizing\",\"similarly\",\"bottles\",\"critical\",\"medicinal\",\"sealant\",\"concert\",\"organisations\",\"fur\",\"lt\",\"heatsafe\",\"plenary\",\"glutamine\",\"eric\",\"grumpy\",\"soups\",\"skirts\",\"amend\",\"grinder\",\"ll\",\"sweetened\",\"meeting\",\"hatching\",\"skill\",\"staining\",\"followfriday\",\"boiling\",\"resin\",\"infant\",\"stray\",\"sequence\",\"pins\",\"blank\",\"james\",\"playful\",\"tells\",\"share\",\"structured\",\"dandruff\",\"herbal\",\"educators\",\"arches\",\"recovery\",\"hence\",\"collecting\",\"sole\",\"residual\",\"uniformity\",\"figuring\",\"shows\",\"tulle\",\"pumps\",\"algebra\",\"throws\",\"guess\",\"threw\",\"koolaid\",\"antibiotics\",\"accounts\",\"puzzle\",\"union\",\"trimming\",\"organized\",\"electrons\",\"cows\",\"enforcement\",\"epic\",\"conditioner\",\"san\",\"keyboard\",\"levels\",\"processes\",\"humanitarian\",\"recipients\",\"157\",\"fiveyear\",\"reimbursement\",\"organisation\",\"waterways\",\"documentary\",\"roughly\",\"priced\",\"fab\",\"saturdays\",\"died\",\"epsom\",\"dim\",\"cook\",\"racial\",\"prenatal\",\"wake\",\"squeeze\",\"average\",\"intended\",\"limes\",\"thanksgiving\",\"assuming\",\"directly\",\"gfalcone601\",\"statistical\",\"brazil\",\"sends\",\"disable\",\"135\",\"policies\",\"panic\",\"exact\",\"shift\",\"remuneration\",\"dragon\",\"1249\",\"forearm\",\"rejection\",\"stickers\",\"pineapple\",\"waiver\",\"stain\",\"multiannual\",\"preheated\",\"your\",\"countrys\",\"resume\",\"checked\",\"41\",\"prop\",\"duchy\",\"disposable\",\"hardy\",\"berries\",\"1907\",\"unhealthy\",\"faith\",\"negativity\",\"mixer\",\"roots\",\"webpage\",\"launched\",\"92\",\"aerial\",\"addiction\",\"areas\",\"purebred\",\"alcoholic\",\"notification\",\"sniffing\",\"shitty\",\"researchers\",\"distracted\",\"teu\",\"tongue\",\"preventing\",\"suggest\",\"swimmers\",\"ddlovato\",\"pulp\",\"destruction\",\"fires\",\"resolved\",\"trend\",\"puppies\",\"products\",\"isn\",\"currently\",\"moves\",\"nurture\",\"holding\",\"cells\",\"repeating\",\"equal\",\"controlling\",\"tweeps\",\"updating\",\"388\",\"sunglasses\",\"pus\",\"gain\",\"email\",\"hunter\",\"hotline\",\"repetitions\",\"concern\",\"hazardous\",\"jealous\",\"hug\",\"obsessed\",\"missions\",\"las\"],\"x\":[-5.208686828613281,4.9534430503845215,-5.67413854598999,-14.482431411743164,-31.547128677368164,-2.987403154373169,-11.448967933654785,7.332674026489258,5.024203300476074,4.123197555541992,-8.897384643554688,2.282081365585327,0.9631339311599731,-21.94165802001953,-13.02146053314209,18.48649024963379,-2.4969189167022705,17.908212661743164,-5.621304512023926,-22.88995361328125,8.429706573486328,5.7993855476379395,-28.58346176147461,10.286214828491211,-4.5744500160217285,-3.0268161296844482,-5.981964588165283,-10.516151428222656,-3.737622022628784,5.398890495300293,0.6442949771881104,-5.045501232147217,-30.180755615234375,10.841225624084473,19.768165588378906,-2.5195226669311523,-17.541820526123047,8.129968643188477,-20.590667724609375,23.85804557800293,9.350715637207031,11.268255233764648,-1.3757115602493286,1.5052947998046875,12.996511459350586,6.336184978485107,-11.531912803649902,0.03086395561695099,-30.0214786529541,-30.749820709228516,-16.85298728942871,-5.113399028778076,6.6384429931640625,-3.8337056636810303,-6.3635711669921875,20.757659912109375,-13.441394805908203,8.717007637023926,9.853955268859863,22.024866104125977,6.019618034362793,-4.710242748260498,-34.95947265625,2.799450397491455,-5.63749361038208,-14.598807334899902,-6.70823860168457,-30.903743743896484,-10.542914390563965,0.6827366948127747,10.005236625671387,-12.207884788513184,-20.416095733642578,24.368507385253906,13.43305492401123,-21.628353118896484,-11.341184616088867,19.75252342224121,11.621119499206543,-18.766969680786133,19.347759246826172,-21.76923370361328,8.890472412109375,22.380943298339844,10.393107414245605,5.506998062133789,-4.158850193023682,-4.208904266357422,-0.6361758708953857,8.565044403076172,18.303184509277344,5.5328497886657715,-12.949297904968262,5.439153671264648,5.259997367858887,-16.483448028564453,-16.625200271606445,-18.07457160949707,15.803078651428223,-1.4068548679351807,30.281089782714844,7.433749198913574,-7.0338287353515625,-19.710792541503906,19.227127075195312,19.96589469909668,24.34876823425293,11.70624828338623,-19.1348819732666,-11.393244743347168,3.3328068256378174,-10.366015434265137,16.547643661499023,-12.046541213989258,-27.183887481689453,-32.3505744934082,-9.775553703308105,13.929210662841797,6.556163787841797,-29.512685775756836,8.050224304199219,14.618545532226562,-6.8730902671813965,-0.8500722050666809,-0.2996576726436615,5.307384014129639,5.259250164031982,5.797494888305664,10.7654390335083,18.651206970214844,10.963807106018066,6.623974323272705,-1.8990577459335327,12.609469413757324,-22.28020668029785,-5.848881244659424,4.02214241027832,-7.370315074920654,-2.413445234298706,15.027981758117676,-4.786855220794678,13.424367904663086,-0.2564888000488281,-9.866121292114258,-9.145316123962402,-1.6432292461395264,17.175846099853516,11.534995079040527,-27.793270111083984,-0.6476863622665405,11.125701904296875,2.495321273803711,-17.265350341796875,19.386837005615234,2.4267466068267822,19.563425064086914,16.033615112304688,0.07101456820964813,-18.24236297607422,-13.599903106689453,-17.271175384521484,12.433216094970703,2.307339668273926,2.3563759326934814,-36.43889617919922,-4.158227920532227,-25.96129608154297,19.405092239379883,10.991645812988281,-15.115962028503418,9.091995239257812,-25.64665412902832,-6.7849321365356445,28.217571258544922,-10.19442367553711,-4.74052619934082,0.8633272647857666,-11.502229690551758,4.194938659667969,12.705398559570312,-15.827099800109863,23.306415557861328,4.509634017944336,-15.76362419128418,-27.479814529418945,7.542026042938232,-2.9645137786865234,3.6565420627593994,-4.036792755126953,4.333791255950928,-14.361076354980469,17.730417251586914,1.7994493246078491,-5.5667266845703125,14.745818138122559,-23.263307571411133,-16.428102493286133,-20.655935287475586,-5.1581597328186035,-14.570122718811035],\"y\":[-19.989551544189453,13.313337326049805,-4.794961929321289,27.32248878479004,6.086141586303711,-6.556576728820801,-6.145031452178955,-36.06861877441406,-4.172195911407471,-24.54459571838379,-0.20822392404079437,28.40453338623047,-4.181302070617676,0.32019415497779846,1.9106624126434326,6.508205413818359,-31.956111907958984,-16.720848083496094,11.21839714050293,26.20917320251465,-21.84363555908203,7.9553937911987305,23.7283992767334,9.023327827453613,18.62158966064453,-19.49469566345215,7.71066427230835,1.513328194618225,-6.116644382476807,8.357904434204102,-33.47636032104492,1.7274073362350464,-1.760703206062317,-5.244961261749268,-36.9317512512207,4.186625003814697,-9.31486988067627,14.243999481201172,10.682657241821289,6.175686359405518,3.530951738357544,-3.9787657260894775,6.452629566192627,26.785343170166016,16.54815101623535,30.574481964111328,20.12712860107422,-3.0099964141845703,7.610776901245117,-5.1416168212890625,-7.554710865020752,-24.45301055908203,-8.317014694213867,-12.221844673156738,4.939229488372803,-23.46745491027832,2.2338364124298096,-13.033231735229492,33.143096923828125,-4.438912391662598,-20.47625732421875,26.4403018951416,13.58047866821289,4.103396892547607,-1.8803893327713013,0.8677512407302856,9.090185165405273,18.52854347229004,20.364215850830078,0.4213261008262634,-14.450605392456055,-27.889245986938477,-9.396146774291992,-32.236812591552734,14.509272575378418,-12.283540725708008,-5.896437644958496,-1.6171858310699463,-32.16291046142578,22.572818756103516,6.334155082702637,27.444665908813477,27.93543815612793,-19.024795532226562,-22.929258346557617,-13.231602668762207,-24.351970672607422,22.890621185302734,-16.82196617126465,-26.572933197021484,-28.195140838623047,-10.643630027770996,16.704679489135742,20.063304901123047,2.370208978652954,12.948799133300781,10.493370056152344,22.780406951904297,12.172712326049805,9.698399543762207,5.29849100112915,-18.970075607299805,-14.07300090789795,29.746051788330078,12.347294807434082,23.897260665893555,-22.23590087890625,5.575166702270508,6.012932300567627,11.671513557434082,1.35178804397583,4.675502777099609,-21.99936294555664,31.59261703491211,-3.400297164916992,-9.393925666809082,22.510555267333984,-32.304630279541016,-9.71701431274414,-12.39523983001709,24.12447166442871,-24.983930587768555,10.489045143127441,-11.304608345031738,12.519124984741211,-8.835880279541016,6.753613471984863,-0.33476725220680237,-24.09601593017578,13.000944137573242,-16.62326431274414,18.452377319335938,24.72859001159668,-18.42074203491211,-17.176979064941406,27.406583786010742,28.385623931884766,1.7358009815216064,21.969079971313477,11.859979629516602,-2.2616019248962402,1.0840872526168823,-1.5299022197723389,-14.127947807312012,-19.792556762695312,1.7969937324523926,7.644288063049316,10.043967247009277,-9.45698356628418,22.513639450073242,31.264389038085938,-14.498408317565918,6.61914587020874,-23.275543212890625,-16.714448928833008,-15.195003509521484,-37.20372009277344,3.606314182281494,18.777542114257812,-26.014488220214844,-7.202608108520508,-16.805585861206055,10.01037311553955,-22.476472854614258,7.527802467346191,-8.121114730834961,19.053298950195312,4.019890785217285,-16.380834579467773,-2.42256236076355,14.482222557067871,17.626914978027344,-5.34817361831665,-19.8745059967041,12.777481079101562,-34.48371505737305,18.3963623046875,1.9135899543762207,19.158241271972656,-1.3743735551834106,0.02613884210586548,21.695608139038086,-17.825603485107422,13.833195686340332,15.944415092468262,-11.347599029541016,3.649195671081543,1.424824833869934,-15.379682540893555,34.30048751831055,-3.146148920059204,-12.100003242492676,-5.984062671661377,-11.154425621032715,-18.477367401123047,9.766030311584473,13.169096946716309,16.862314224243164,-13.512625694274902,15.153460502624512],\"z\":[-20.123519897460938,16.840087890625,-9.796634674072266,1.6051119565963745,-19.602087020874023,9.567447662353516,9.613218307495117,0.668738067150116,9.92110538482666,9.643027305603027,-16.61488151550293,18.104660034179688,27.837251663208008,11.43643856048584,-19.03468894958496,-19.62761116027832,-9.437902450561523,-7.062443733215332,-18.293228149414062,-15.747522354125977,-1.6135088205337524,-29.622900009155273,-10.200114250183105,7.939803600311279,25.486854553222656,-12.57166862487793,18.082134246826172,29.211530685424805,-1.0035988092422485,-21.824106216430664,12.26239013671875,-10.099098205566406,-10.067805290222168,16.591373443603516,10.10354995727539,0.3606095612049103,-25.131315231323242,-2.1236636638641357,-1.9611538648605347,-26.2263240814209,1.9248406887054443,-9.965749740600586,-7.9431328773498535,-12.88094425201416,-21.18878936767578,-12.387957572937012,-2.1203904151916504,-14.40408992767334,-8.244247436523438,-19.782649993896484,12.155235290527344,-16.196128845214844,-18.983617782592773,8.265419006347656,-3.967066764831543,12.429901123046875,2.341844320297241,-13.326011657714844,-1.5283591747283936,11.481249809265137,25.802698135375977,-5.890054225921631,-8.121241569519043,-14.388360023498535,-14.345497131347656,35.46961975097656,3.8288261890411377,-15.2413969039917,-6.905462741851807,-0.36232811212539673,-22.834083557128906,1.6682385206222534,4.711572170257568,-0.21306274831295013,1.091697096824646,-17.457942962646484,-7.806926727294922,-16.52119255065918,-0.10374297201633453,-0.028379734605550766,-33.43240737915039,0.21822455525398254,-26.72620391845703,-19.389535903930664,-15.883127212524414,-1.1235377788543701,-2.152251958847046,5.434262275695801,27.523906707763672,4.803762912750244,-2.9087955951690674,13.665157318115234,18.051076889038086,5.972295761108398,17.84001350402832,11.10145378112793,1.1276755332946777,-11.340514183044434,14.784350395202637,19.979944229125977,-28.722959518432617,2.610426664352417,-10.120354652404785,-18.4833927154541,-25.23552703857422,5.4104790687561035,-9.12203598022461,26.60839080810547,2.2833597660064697,-1.2718183994293213,-39.8686408996582,15.689599990844727,0.003971130587160587,5.522563934326172,18.89200782775879,8.513160705566406,7.498119354248047,-3.3938958644866943,-30.442781448364258,-2.774113893508911,-25.915876388549805,5.999242305755615,-14.342620849609375,33.42051315307617,1.5217087268829346,-8.027200698852539,-6.398409366607666,-19.8227481842041,21.47451400756836,-36.868988037109375,14.966995239257812,15.441752433776855,-30.91533660888672,22.893413543701172,-15.902238845825195,-10.689655303955078,5.592951774597168,8.858014106750488,29.117603302001953,-18.10148811340332,32.60512924194336,-19.841827392578125,34.30852127075195,-16.679473876953125,6.928591728210449,13.081183433532715,-25.455392837524414,-35.14569091796875,5.166467189788818,22.973691940307617,11.826387405395508,6.1389946937561035,-8.08328914642334,-20.05834197998047,-2.664196252822876,-12.72329044342041,16.412731170654297,16.565574645996094,9.095705032348633,12.14894962310791,21.548925399780273,30.582128524780273,-35.09819030761719,-22.616352081298828,-14.202914237976074,-6.090875148773193,-9.158520698547363,-1.7670087814331055,7.263049602508545,17.857383728027344,29.586355209350586,11.661709785461426,-21.273298263549805,-7.486896514892578,-28.0126953125,-5.326405048370361,-17.278568267822266,23.024892807006836,-33.117862701416016,-35.47711944580078,-6.38344669342041,5.345840930938721,-7.90972375869751,4.760581016540527,2.818986654281616,42.1160888671875,-16.435914993286133,-6.786714553833008,-30.259906768798828,-23.386455535888672,6.51999044418335,16.813274383544922,23.0685977935791,-22.076274871826172,-11.778663635253906,-16.41228675842285,-20.06053924560547,-3.477545976638794,2.0062735080718994,-1.305954098701477],\"type\":\"scatter3d\",\"textfont\":{\"size\":10}}],                        {\"template\":{\"data\":{\"histogram2dcontour\":[{\"type\":\"histogram2dcontour\",\"colorbar\":{\"outlinewidth\":0,\"ticks\":\"\"},\"colorscale\":[[0.0,\"#0d0887\"],[0.1111111111111111,\"#46039f\"],[0.2222222222222222,\"#7201a8\"],[0.3333333333333333,\"#9c179e\"],[0.4444444444444444,\"#bd3786\"],[0.5555555555555556,\"#d8576b\"],[0.6666666666666666,\"#ed7953\"],[0.7777777777777778,\"#fb9f3a\"],[0.8888888888888888,\"#fdca26\"],[1.0,\"#f0f921\"]]}],\"choropleth\":[{\"type\":\"choropleth\",\"colorbar\":{\"outlinewidth\":0,\"ticks\":\"\"}}],\"histogram2d\":[{\"type\":\"histogram2d\",\"colorbar\":{\"outlinewidth\":0,\"ticks\":\"\"},\"colorscale\":[[0.0,\"#0d0887\"],[0.1111111111111111,\"#46039f\"],[0.2222222222222222,\"#7201a8\"],[0.3333333333333333,\"#9c179e\"],[0.4444444444444444,\"#bd3786\"],[0.5555555555555556,\"#d8576b\"],[0.6666666666666666,\"#ed7953\"],[0.7777777777777778,\"#fb9f3a\"],[0.8888888888888888,\"#fdca26\"],[1.0,\"#f0f921\"]]}],\"heatmap\":[{\"type\":\"heatmap\",\"colorbar\":{\"outlinewidth\":0,\"ticks\":\"\"},\"colorscale\":[[0.0,\"#0d0887\"],[0.1111111111111111,\"#46039f\"],[0.2222222222222222,\"#7201a8\"],[0.3333333333333333,\"#9c179e\"],[0.4444444444444444,\"#bd3786\"],[0.5555555555555556,\"#d8576b\"],[0.6666666666666666,\"#ed7953\"],[0.7777777777777778,\"#fb9f3a\"],[0.8888888888888888,\"#fdca26\"],[1.0,\"#f0f921\"]]}],\"heatmapgl\":[{\"type\":\"heatmapgl\",\"colorbar\":{\"outlinewidth\":0,\"ticks\":\"\"},\"colorscale\":[[0.0,\"#0d0887\"],[0.1111111111111111,\"#46039f\"],[0.2222222222222222,\"#7201a8\"],[0.3333333333333333,\"#9c179e\"],[0.4444444444444444,\"#bd3786\"],[0.5555555555555556,\"#d8576b\"],[0.6666666666666666,\"#ed7953\"],[0.7777777777777778,\"#fb9f3a\"],[0.8888888888888888,\"#fdca26\"],[1.0,\"#f0f921\"]]}],\"contourcarpet\":[{\"type\":\"contourcarpet\",\"colorbar\":{\"outlinewidth\":0,\"ticks\":\"\"}}],\"contour\":[{\"type\":\"contour\",\"colorbar\":{\"outlinewidth\":0,\"ticks\":\"\"},\"colorscale\":[[0.0,\"#0d0887\"],[0.1111111111111111,\"#46039f\"],[0.2222222222222222,\"#7201a8\"],[0.3333333333333333,\"#9c179e\"],[0.4444444444444444,\"#bd3786\"],[0.5555555555555556,\"#d8576b\"],[0.6666666666666666,\"#ed7953\"],[0.7777777777777778,\"#fb9f3a\"],[0.8888888888888888,\"#fdca26\"],[1.0,\"#f0f921\"]]}],\"surface\":[{\"type\":\"surface\",\"colorbar\":{\"outlinewidth\":0,\"ticks\":\"\"},\"colorscale\":[[0.0,\"#0d0887\"],[0.1111111111111111,\"#46039f\"],[0.2222222222222222,\"#7201a8\"],[0.3333333333333333,\"#9c179e\"],[0.4444444444444444,\"#bd3786\"],[0.5555555555555556,\"#d8576b\"],[0.6666666666666666,\"#ed7953\"],[0.7777777777777778,\"#fb9f3a\"],[0.8888888888888888,\"#fdca26\"],[1.0,\"#f0f921\"]]}],\"mesh3d\":[{\"type\":\"mesh3d\",\"colorbar\":{\"outlinewidth\":0,\"ticks\":\"\"}}],\"scatter\":[{\"fillpattern\":{\"fillmode\":\"overlay\",\"size\":10,\"solidity\":0.2},\"type\":\"scatter\"}],\"parcoords\":[{\"type\":\"parcoords\",\"line\":{\"colorbar\":{\"outlinewidth\":0,\"ticks\":\"\"}}}],\"scatterpolargl\":[{\"type\":\"scatterpolargl\",\"marker\":{\"colorbar\":{\"outlinewidth\":0,\"ticks\":\"\"}}}],\"bar\":[{\"error_x\":{\"color\":\"#2a3f5f\"},\"error_y\":{\"color\":\"#2a3f5f\"},\"marker\":{\"line\":{\"color\":\"#E5ECF6\",\"width\":0.5},\"pattern\":{\"fillmode\":\"overlay\",\"size\":10,\"solidity\":0.2}},\"type\":\"bar\"}],\"scattergeo\":[{\"type\":\"scattergeo\",\"marker\":{\"colorbar\":{\"outlinewidth\":0,\"ticks\":\"\"}}}],\"scatterpolar\":[{\"type\":\"scatterpolar\",\"marker\":{\"colorbar\":{\"outlinewidth\":0,\"ticks\":\"\"}}}],\"histogram\":[{\"marker\":{\"pattern\":{\"fillmode\":\"overlay\",\"size\":10,\"solidity\":0.2}},\"type\":\"histogram\"}],\"scattergl\":[{\"type\":\"scattergl\",\"marker\":{\"colorbar\":{\"outlinewidth\":0,\"ticks\":\"\"}}}],\"scatter3d\":[{\"type\":\"scatter3d\",\"line\":{\"colorbar\":{\"outlinewidth\":0,\"ticks\":\"\"}},\"marker\":{\"colorbar\":{\"outlinewidth\":0,\"ticks\":\"\"}}}],\"scattermapbox\":[{\"type\":\"scattermapbox\",\"marker\":{\"colorbar\":{\"outlinewidth\":0,\"ticks\":\"\"}}}],\"scatterternary\":[{\"type\":\"scatterternary\",\"marker\":{\"colorbar\":{\"outlinewidth\":0,\"ticks\":\"\"}}}],\"scattercarpet\":[{\"type\":\"scattercarpet\",\"marker\":{\"colorbar\":{\"outlinewidth\":0,\"ticks\":\"\"}}}],\"carpet\":[{\"aaxis\":{\"endlinecolor\":\"#2a3f5f\",\"gridcolor\":\"white\",\"linecolor\":\"white\",\"minorgridcolor\":\"white\",\"startlinecolor\":\"#2a3f5f\"},\"baxis\":{\"endlinecolor\":\"#2a3f5f\",\"gridcolor\":\"white\",\"linecolor\":\"white\",\"minorgridcolor\":\"white\",\"startlinecolor\":\"#2a3f5f\"},\"type\":\"carpet\"}],\"table\":[{\"cells\":{\"fill\":{\"color\":\"#EBF0F8\"},\"line\":{\"color\":\"white\"}},\"header\":{\"fill\":{\"color\":\"#C8D4E3\"},\"line\":{\"color\":\"white\"}},\"type\":\"table\"}],\"barpolar\":[{\"marker\":{\"line\":{\"color\":\"#E5ECF6\",\"width\":0.5},\"pattern\":{\"fillmode\":\"overlay\",\"size\":10,\"solidity\":0.2}},\"type\":\"barpolar\"}],\"pie\":[{\"automargin\":true,\"type\":\"pie\"}]},\"layout\":{\"autotypenumbers\":\"strict\",\"colorway\":[\"#636efa\",\"#EF553B\",\"#00cc96\",\"#ab63fa\",\"#FFA15A\",\"#19d3f3\",\"#FF6692\",\"#B6E880\",\"#FF97FF\",\"#FECB52\"],\"font\":{\"color\":\"#2a3f5f\"},\"hovermode\":\"closest\",\"hoverlabel\":{\"align\":\"left\"},\"paper_bgcolor\":\"white\",\"plot_bgcolor\":\"#E5ECF6\",\"polar\":{\"bgcolor\":\"#E5ECF6\",\"angularaxis\":{\"gridcolor\":\"white\",\"linecolor\":\"white\",\"ticks\":\"\"},\"radialaxis\":{\"gridcolor\":\"white\",\"linecolor\":\"white\",\"ticks\":\"\"}},\"ternary\":{\"bgcolor\":\"#E5ECF6\",\"aaxis\":{\"gridcolor\":\"white\",\"linecolor\":\"white\",\"ticks\":\"\"},\"baxis\":{\"gridcolor\":\"white\",\"linecolor\":\"white\",\"ticks\":\"\"},\"caxis\":{\"gridcolor\":\"white\",\"linecolor\":\"white\",\"ticks\":\"\"}},\"coloraxis\":{\"colorbar\":{\"outlinewidth\":0,\"ticks\":\"\"}},\"colorscale\":{\"sequential\":[[0.0,\"#0d0887\"],[0.1111111111111111,\"#46039f\"],[0.2222222222222222,\"#7201a8\"],[0.3333333333333333,\"#9c179e\"],[0.4444444444444444,\"#bd3786\"],[0.5555555555555556,\"#d8576b\"],[0.6666666666666666,\"#ed7953\"],[0.7777777777777778,\"#fb9f3a\"],[0.8888888888888888,\"#fdca26\"],[1.0,\"#f0f921\"]],\"sequentialminus\":[[0.0,\"#0d0887\"],[0.1111111111111111,\"#46039f\"],[0.2222222222222222,\"#7201a8\"],[0.3333333333333333,\"#9c179e\"],[0.4444444444444444,\"#bd3786\"],[0.5555555555555556,\"#d8576b\"],[0.6666666666666666,\"#ed7953\"],[0.7777777777777778,\"#fb9f3a\"],[0.8888888888888888,\"#fdca26\"],[1.0,\"#f0f921\"]],\"diverging\":[[0,\"#8e0152\"],[0.1,\"#c51b7d\"],[0.2,\"#de77ae\"],[0.3,\"#f1b6da\"],[0.4,\"#fde0ef\"],[0.5,\"#f7f7f7\"],[0.6,\"#e6f5d0\"],[0.7,\"#b8e186\"],[0.8,\"#7fbc41\"],[0.9,\"#4d9221\"],[1,\"#276419\"]]},\"xaxis\":{\"gridcolor\":\"white\",\"linecolor\":\"white\",\"ticks\":\"\",\"title\":{\"standoff\":15},\"zerolinecolor\":\"white\",\"automargin\":true,\"zerolinewidth\":2},\"yaxis\":{\"gridcolor\":\"white\",\"linecolor\":\"white\",\"ticks\":\"\",\"title\":{\"standoff\":15},\"zerolinecolor\":\"white\",\"automargin\":true,\"zerolinewidth\":2},\"scene\":{\"xaxis\":{\"backgroundcolor\":\"#E5ECF6\",\"gridcolor\":\"white\",\"linecolor\":\"white\",\"showbackground\":true,\"ticks\":\"\",\"zerolinecolor\":\"white\",\"gridwidth\":2},\"yaxis\":{\"backgroundcolor\":\"#E5ECF6\",\"gridcolor\":\"white\",\"linecolor\":\"white\",\"showbackground\":true,\"ticks\":\"\",\"zerolinecolor\":\"white\",\"gridwidth\":2},\"zaxis\":{\"backgroundcolor\":\"#E5ECF6\",\"gridcolor\":\"white\",\"linecolor\":\"white\",\"showbackground\":true,\"ticks\":\"\",\"zerolinecolor\":\"white\",\"gridwidth\":2}},\"shapedefaults\":{\"line\":{\"color\":\"#2a3f5f\"}},\"annotationdefaults\":{\"arrowcolor\":\"#2a3f5f\",\"arrowhead\":0,\"arrowwidth\":1},\"geo\":{\"bgcolor\":\"white\",\"landcolor\":\"#E5ECF6\",\"subunitcolor\":\"white\",\"showland\":true,\"showlakes\":true,\"lakecolor\":\"white\"},\"title\":{\"x\":0.05},\"mapbox\":{\"style\":\"light\"}}},\"scene\":{\"domain\":{\"x\":[0.0,1.0],\"y\":[0.0,1.0]},\"xaxis\":{\"title\":{\"text\":\"x\"}},\"yaxis\":{\"title\":{\"text\":\"y\"}},\"zaxis\":{\"title\":{\"text\":\"z\"}}},\"legend\":{\"tracegroupgap\":0},\"margin\":{\"t\":60}},                        {\"responsive\": true}                    ).then(function(){\n",
              "                            \n",
              "var gd = document.getElementById('413a3922-3bab-478f-9a25-45e1d4067025');\n",
              "var x = new MutationObserver(function (mutations, observer) {{\n",
              "        var display = window.getComputedStyle(gd).display;\n",
              "        if (!display || display === 'none') {{\n",
              "            console.log([gd, 'removed!']);\n",
              "            Plotly.purge(gd);\n",
              "            observer.disconnect();\n",
              "        }}\n",
              "}});\n",
              "\n",
              "// Listen for the removal of the full notebook cells\n",
              "var notebookContainer = gd.closest('#notebook-container');\n",
              "if (notebookContainer) {{\n",
              "    x.observe(notebookContainer, {childList: true});\n",
              "}}\n",
              "\n",
              "// Listen for the clearing of the current output cell\n",
              "var outputEl = gd.closest('.output');\n",
              "if (outputEl) {{\n",
              "    x.observe(outputEl, {childList: true});\n",
              "}}\n",
              "\n",
              "                        })                };                            </script>        </div>\n",
              "</body>\n",
              "</html>"
            ]
          },
          "metadata": {}
        }
      ]
    },
    {
      "cell_type": "markdown",
      "source": [
        "# Classifying with word embeddings"
      ],
      "metadata": {
        "id": "Q_zbFzm-4JmS"
      }
    },
    {
      "cell_type": "code",
      "source": [
        "import gensim.downloader as api\n",
        "import string\n",
        "import re\n",
        "from sklearn.ensemble import ExtraTreesClassifier\n",
        "import matplotlib.pyplot as plt  \n",
        "from sklearn.metrics import ConfusionMatrixDisplay\n",
        "from sklearn.metrics import accuracy_score\n"
      ],
      "metadata": {
        "id": "-ELUm_BEmB5z"
      },
      "execution_count": 29,
      "outputs": []
    },
    {
      "cell_type": "code",
      "source": [
        "df.sample(frac=1)\n",
        "n=len(df)\n",
        "df['label'] = df['label'].replace({'generated':0, 'human':1})\n",
        "# df['label'] = df['label'].replace({'A':0, 'B':1,'C':2,'D':3,'E':4,'F':5,})\n",
        "split1=int(n*0.7)\n",
        "split2=int(n*0.9)\n",
        "\n",
        "train =df[:split1]\n",
        "valid =  df[split1:split2]\n",
        "test =  df[split2:]"
      ],
      "metadata": {
        "id": "KF2Efq9U4I9Q"
      },
      "execution_count": 30,
      "outputs": []
    },
    {
      "cell_type": "code",
      "source": [
        "model_wiki = api.load(\"glove-wiki-gigaword-50\")"
      ],
      "metadata": {
        "id": "fo-I0J_r57SL",
        "colab": {
          "base_uri": "https://localhost:8080/"
        },
        "outputId": "b13e5645-56e9-4c35-be03-a13b505024de"
      },
      "execution_count": 31,
      "outputs": [
        {
          "output_type": "stream",
          "name": "stdout",
          "text": [
            "[==================================================] 100.0% 66.0/66.0MB downloaded\n"
          ]
        }
      ]
    },
    {
      "cell_type": "code",
      "source": [
        "\n",
        "regex = '[' + string.punctuation + ']'\n",
        "\n",
        "def vectorize(docs, embedding_model=model_wiki, useSum=False):\n",
        "    vectors = np.zeros((len(docs),50))\n",
        "    for i in range(len(docs)):\n",
        "        tokens = re.sub(regex, '', docs[i].lower()).split()\n",
        "        embeddings = [embedding_model.get_vector(token) for token in tokens if token in embedding_model]\n",
        "        if (len(embeddings) > 0):\n",
        "            if (useSum): \n",
        "                vectors[i] = sum(embeddings)\n",
        "            else:\n",
        "                vectors[i] = np.mean(embeddings, axis=0)\n",
        "    return vectors"
      ],
      "metadata": {
        "id": "6EESZJ3Q484e"
      },
      "execution_count": 32,
      "outputs": []
    },
    {
      "cell_type": "code",
      "source": [
        "train_x_vector = vectorize(np.array(train.text))"
      ],
      "metadata": {
        "id": "nyTiPh9b5SH5"
      },
      "execution_count": 33,
      "outputs": []
    },
    {
      "cell_type": "code",
      "source": [
        "train_y=train.label"
      ],
      "metadata": {
        "id": "-A3bm1fG7FGC"
      },
      "execution_count": 34,
      "outputs": []
    },
    {
      "cell_type": "code",
      "source": [
        "\n",
        "lr_model =ExtraTreesClassifier(n_estimators=500).fit(train_x_vector, train_y)\n",
        "print(lr_model)"
      ],
      "metadata": {
        "colab": {
          "base_uri": "https://localhost:8080/"
        },
        "id": "55o-kw5F7Mq5",
        "outputId": "da87330d-38c4-4259-bd6f-72c11ed22719"
      },
      "execution_count": 35,
      "outputs": [
        {
          "output_type": "stream",
          "name": "stdout",
          "text": [
            "ExtraTreesClassifier(n_estimators=500)\n"
          ]
        }
      ]
    },
    {
      "cell_type": "code",
      "source": [
        "valid_x_vector = vectorize(np.array(test.text))\n",
        "pred_y = lr_model.predict(valid_x_vector)\n",
        "\n",
        "print(f'Accuracy: {accuracy_score(test.label, pred_y)}')\n",
        "\n",
        "\n",
        "ConfusionMatrixDisplay.from_estimator(lr_model, valid_x_vector, test.label, values_format='d')  \n",
        "plt.show()"
      ],
      "metadata": {
        "colab": {
          "base_uri": "https://localhost:8080/",
          "height": 466
        },
        "id": "bivx54B87drd",
        "outputId": "6f92002c-7d9e-4e13-d7b7-30723965536f"
      },
      "execution_count": 36,
      "outputs": [
        {
          "output_type": "stream",
          "name": "stdout",
          "text": [
            "Accuracy: 0.7553914327917283\n"
          ]
        },
        {
          "output_type": "display_data",
          "data": {
            "text/plain": [
              "<Figure size 640x480 with 2 Axes>"
            ],
            "image/png": "[encoded data removed]"
          },
          "metadata": {}
        }
      ]
    },
    {
      "cell_type": "raw",
      "source": [
        "# Document vectorisation"
      ],
      "metadata": {
        "id": "5it3X0dXmgeR"
      }
    },
    {
      "cell_type": "markdown",
      "source": [
        "We create a vectorizer and we fit our data into."
      ],
      "metadata": {
        "id": "Ls10SZmamgeS"
      }
    },
    {
      "cell_type": "code",
      "source": [
        "from sklearn.feature_extraction.text import TfidfVectorizer\n",
        "from sklearn.cluster import KMeans\n",
        "from sklearn import metrics\n",
        "\n",
        "vectorizer = TfidfVectorizer(max_df=0.8, min_df=5, stop_words='english')"
      ],
      "metadata": {
        "execution": {
          "iopub.status.busy": "2023-05-03T10:27:23.089764Z",
          "iopub.execute_input": "2023-05-03T10:27:23.090251Z",
          "iopub.status.idle": "2023-05-03T10:27:23.108412Z",
          "shell.execute_reply.started": "2023-05-03T10:27:23.090167Z",
          "shell.execute_reply": "2023-05-03T10:27:23.107362Z"
        },
        "trusted": true,
        "id": "8DshH8rEmgeS"
      },
      "execution_count": 37,
      "outputs": []
    },
    {
      "cell_type": "code",
      "source": [
        "documents=np.array(df['text'])\n",
        "labels = np.array(df['label'])"
      ],
      "metadata": {
        "execution": {
          "iopub.status.busy": "2023-05-03T10:27:23.505845Z",
          "iopub.execute_input": "2023-05-03T10:27:23.506748Z",
          "iopub.status.idle": "2023-05-03T10:27:23.514133Z",
          "shell.execute_reply.started": "2023-05-03T10:27:23.506705Z",
          "shell.execute_reply": "2023-05-03T10:27:23.513149Z"
        },
        "trusted": true,
        "id": "v6ukRHEemgeS"
      },
      "execution_count": 38,
      "outputs": []
    },
    {
      "cell_type": "code",
      "source": [
        "\n",
        "vectorizer.fit(documents)\n",
        "vocab = vectorizer.get_feature_names_out()\n",
        "print(f\"Length of vocabulary: {len(vocab)}\")"
      ],
      "metadata": {
        "execution": {
          "iopub.status.busy": "2023-05-03T10:27:43.778582Z",
          "iopub.execute_input": "2023-05-03T10:27:43.779347Z"
        },
        "trusted": true,
        "id": "SCS38RxMmgeS",
        "colab": {
          "base_uri": "https://localhost:8080/"
        },
        "outputId": "7fd0cd6a-e5f6-46a7-ae02-42cfc36493e2"
      },
      "execution_count": 39,
      "outputs": [
        {
          "output_type": "stream",
          "name": "stdout",
          "text": [
            "Length of vocabulary: 11557\n"
          ]
        }
      ]
    },
    {
      "cell_type": "markdown",
      "source": [
        "We obtained a relative small vocubalary only 11557 words."
      ],
      "metadata": {
        "id": "kswNF5ymmgeS"
      }
    },
    {
      "cell_type": "code",
      "source": [
        "vector_documents = vectorizer.transform(documents)"
      ],
      "metadata": {
        "execution": {
          "iopub.status.busy": "2023-05-03T10:27:01.919927Z",
          "iopub.execute_input": "2023-05-03T10:27:01.921018Z",
          "iopub.status.idle": "2023-05-03T10:27:03.068250Z",
          "shell.execute_reply.started": "2023-05-03T10:27:01.920975Z",
          "shell.execute_reply": "2023-05-03T10:27:03.067151Z"
        },
        "trusted": true,
        "id": "XGXAUzrUmgeS"
      },
      "execution_count": 40,
      "outputs": []
    },
    {
      "cell_type": "markdown",
      "source": [
        "we try to see if the actual class can be classified simply by using a cluster algorithm.\n"
      ],
      "metadata": {
        "id": "3UI-NL5umgeT"
      }
    },
    {
      "cell_type": "code",
      "source": [
        "sorted([(vocab[j], vector_documents[0, j]) for j in vector_documents[0].nonzero()[1]], key=lambda x: -x[1])"
      ],
      "metadata": {
        "execution": {
          "iopub.status.busy": "2023-05-01T16:49:45.164455Z",
          "iopub.execute_input": "2023-05-01T16:49:45.165086Z",
          "iopub.status.idle": "2023-05-01T16:49:45.180612Z",
          "shell.execute_reply.started": "2023-05-01T16:49:45.165049Z",
          "shell.execute_reply": "2023-05-01T16:49:45.179427Z"
        },
        "trusted": true,
        "id": "U1whaeErmgeT",
        "outputId": "1c831008-7845-4444-c5ec-cd87f2d003ab",
        "colab": {
          "base_uri": "https://localhost:8080/"
        }
      },
      "execution_count": 41,
      "outputs": [
        {
          "output_type": "execute_result",
          "data": {
            "text/plain": [
              "[('stops', 0.5175669643660845),\n",
              " ('engine', 0.4398088411851892),\n",
              " ('safe', 0.3649985322600579),\n",
              " ('stop', 0.3635661001777833),\n",
              " ('wait', 0.3535613203867755),\n",
              " ('check', 0.3108401996160741),\n",
              " ('need', 0.22729088387073065)]"
            ]
          },
          "metadata": {},
          "execution_count": 41
        }
      ]
    },
    {
      "cell_type": "code",
      "source": [
        "for i in range(1,200):\n",
        "    if (labels[i] == labels[1]):\n",
        "      print('Similarity:', vector_documents[0].multiply(vector_documents[i]).sum())"
      ],
      "metadata": {
        "execution": {
          "iopub.status.busy": "2023-05-01T16:49:45.185086Z",
          "iopub.execute_input": "2023-05-01T16:49:45.185742Z",
          "iopub.status.idle": "2023-05-01T16:49:45.250919Z",
          "shell.execute_reply.started": "2023-05-01T16:49:45.185704Z",
          "shell.execute_reply": "2023-05-01T16:49:45.249666Z"
        },
        "trusted": true,
        "id": "0nxFF0NTmgeT",
        "outputId": "87b8071c-7c6f-48e7-c866-b0484d7c13c9",
        "colab": {
          "base_uri": "https://localhost:8080/"
        }
      },
      "execution_count": 42,
      "outputs": [
        {
          "output_type": "stream",
          "name": "stdout",
          "text": [
            "Similarity: 0.0\n",
            "Similarity: 0.0\n",
            "Similarity: 0.0\n",
            "Similarity: 0.0\n",
            "Similarity: 0.0\n",
            "Similarity: 0.0\n",
            "Similarity: 0.0\n",
            "Similarity: 0.0\n",
            "Similarity: 0.0\n",
            "Similarity: 0.0\n",
            "Similarity: 0.0\n",
            "Similarity: 0.0\n",
            "Similarity: 0.0\n",
            "Similarity: 0.0\n",
            "Similarity: 0.0\n",
            "Similarity: 0.0\n",
            "Similarity: 0.021988643765721246\n",
            "Similarity: 0.0\n",
            "Similarity: 0.0\n",
            "Similarity: 0.0\n",
            "Similarity: 0.0\n",
            "Similarity: 0.0\n",
            "Similarity: 0.0\n",
            "Similarity: 0.0\n",
            "Similarity: 0.0\n",
            "Similarity: 0.0\n",
            "Similarity: 0.023254981000023926\n",
            "Similarity: 0.0\n",
            "Similarity: 0.0\n",
            "Similarity: 0.05465414018686425\n",
            "Similarity: 0.0\n",
            "Similarity: 0.0\n",
            "Similarity: 0.04271130589763102\n",
            "Similarity: 0.0\n",
            "Similarity: 0.0\n",
            "Similarity: 0.0\n",
            "Similarity: 0.0\n",
            "Similarity: 0.0\n",
            "Similarity: 0.0\n",
            "Similarity: 0.0\n",
            "Similarity: 0.0\n",
            "Similarity: 0.0\n",
            "Similarity: 0.0\n",
            "Similarity: 0.0\n",
            "Similarity: 0.0\n",
            "Similarity: 0.0\n",
            "Similarity: 0.0\n",
            "Similarity: 0.0\n",
            "Similarity: 0.0\n",
            "Similarity: 0.0\n",
            "Similarity: 0.0\n",
            "Similarity: 0.0\n",
            "Similarity: 0.0\n",
            "Similarity: 0.0\n",
            "Similarity: 0.0\n",
            "Similarity: 0.0\n",
            "Similarity: 0.0\n",
            "Similarity: 0.0\n",
            "Similarity: 0.0\n",
            "Similarity: 0.0\n",
            "Similarity: 0.0\n",
            "Similarity: 0.0\n",
            "Similarity: 0.0\n",
            "Similarity: 0.09499333962920596\n",
            "Similarity: 0.0\n",
            "Similarity: 0.0\n",
            "Similarity: 0.0\n",
            "Similarity: 0.0\n",
            "Similarity: 0.0\n",
            "Similarity: 0.0\n",
            "Similarity: 0.0\n",
            "Similarity: 0.0\n",
            "Similarity: 0.0\n",
            "Similarity: 0.0\n",
            "Similarity: 0.0\n",
            "Similarity: 0.0\n",
            "Similarity: 0.0\n",
            "Similarity: 0.0\n",
            "Similarity: 0.0\n",
            "Similarity: 0.0\n",
            "Similarity: 0.0\n",
            "Similarity: 0.0\n",
            "Similarity: 0.0\n",
            "Similarity: 0.0\n",
            "Similarity: 0.0\n",
            "Similarity: 0.0\n",
            "Similarity: 0.0\n",
            "Similarity: 0.0\n",
            "Similarity: 0.0\n",
            "Similarity: 0.0\n",
            "Similarity: 0.0\n",
            "Similarity: 0.04725421590441509\n",
            "Similarity: 0.0\n",
            "Similarity: 0.0\n",
            "Similarity: 0.0\n",
            "Similarity: 0.0\n"
          ]
        }
      ]
    },
    {
      "cell_type": "markdown",
      "source": [
        "As we can see from this results using vectorization we can't achieve good results. Sentences with the same label share almost 0 similarity"
      ],
      "metadata": {
        "id": "--9H0BbPmgeT"
      }
    },
    {
      "cell_type": "code",
      "source": [
        "k = len(set(labels))\n",
        "kmeans = KMeans(n_clusters=k, max_iter=100, n_init=2, verbose=True, random_state=2307)\n",
        "kmeans.fit(vector_documents)"
      ],
      "metadata": {
        "execution": {
          "iopub.status.busy": "2023-05-01T16:49:45.255776Z",
          "iopub.execute_input": "2023-05-01T16:49:45.258232Z",
          "iopub.status.idle": "2023-05-01T16:49:46.559863Z",
          "shell.execute_reply.started": "2023-05-01T16:49:45.258191Z",
          "shell.execute_reply": "2023-05-01T16:49:46.558614Z"
        },
        "trusted": true,
        "id": "la-Dd6eimgeT",
        "outputId": "bf057597-4a7b-45c9-8623-1ab597f4d1cb",
        "colab": {
          "base_uri": "https://localhost:8080/",
          "height": 1000
        }
      },
      "execution_count": 43,
      "outputs": [
        {
          "output_type": "stream",
          "name": "stdout",
          "text": [
            "Initialization complete\n",
            "Iteration 0, inertia 67084.4746223416.\n",
            "Iteration 1, inertia 33392.09847932085.\n",
            "Iteration 2, inertia 33308.75747079349.\n",
            "Iteration 3, inertia 33186.99125674895.\n",
            "Iteration 4, inertia 32846.08480709024.\n",
            "Iteration 5, inertia 32738.428579477193.\n",
            "Iteration 6, inertia 32701.090729042884.\n",
            "Iteration 7, inertia 32684.420324122097.\n",
            "Iteration 8, inertia 32676.32200954779.\n",
            "Iteration 9, inertia 32672.259157364006.\n",
            "Iteration 10, inertia 32670.244503493144.\n",
            "Iteration 11, inertia 32669.285943947547.\n",
            "Iteration 12, inertia 32668.707969005707.\n",
            "Iteration 13, inertia 32668.341695537827.\n",
            "Iteration 14, inertia 32668.161644015836.\n",
            "Iteration 15, inertia 32668.11891182691.\n",
            "Iteration 16, inertia 32668.111221099527.\n",
            "Iteration 17, inertia 32668.09879881628.\n",
            "Iteration 18, inertia 32668.07836230555.\n",
            "Iteration 19, inertia 32668.063546554517.\n",
            "Iteration 20, inertia 32668.054540119712.\n",
            "Iteration 21, inertia 32668.043044294143.\n",
            "Iteration 22, inertia 32668.036725095088.\n",
            "Iteration 23, inertia 32668.03527672193.\n",
            "Iteration 24, inertia 32668.033384526432.\n",
            "Iteration 25, inertia 32668.032303848704.\n",
            "Converged at iteration 25: strict convergence.\n",
            "Initialization complete\n",
            "Iteration 0, inertia 66033.34863116863.\n",
            "Iteration 1, inertia 33372.106736995396.\n",
            "Iteration 2, inertia 33129.22189466699.\n",
            "Iteration 3, inertia 32783.93509070299.\n",
            "Iteration 4, inertia 32719.015473751424.\n",
            "Iteration 5, inertia 32692.074410414116.\n",
            "Iteration 6, inertia 32680.258352192403.\n",
            "Iteration 7, inertia 32674.200029051663.\n",
            "Iteration 8, inertia 32671.127629643088.\n",
            "Iteration 9, inertia 32669.696894320878.\n",
            "Iteration 10, inertia 32668.92736941272.\n",
            "Iteration 11, inertia 32668.467901109332.\n",
            "Iteration 12, inertia 32668.21313800765.\n",
            "Iteration 13, inertia 32668.12761438411.\n",
            "Iteration 14, inertia 32668.11350919918.\n",
            "Iteration 15, inertia 32668.10287319068.\n",
            "Iteration 16, inertia 32668.08516258406.\n",
            "Iteration 17, inertia 32668.066586331777.\n",
            "Iteration 18, inertia 32668.059676891447.\n",
            "Iteration 19, inertia 32668.049546773436.\n",
            "Iteration 20, inertia 32668.039583072383.\n",
            "Iteration 21, inertia 32668.035921617884.\n",
            "Iteration 22, inertia 32668.034766238496.\n",
            "Iteration 23, inertia 32668.03258446933.\n",
            "Iteration 24, inertia 32668.032303848704.\n",
            "Converged at iteration 24: strict convergence.\n"
          ]
        },
        {
          "output_type": "execute_result",
          "data": {
            "text/plain": [
              "KMeans(max_iter=100, n_clusters=2, n_init=2, random_state=2307, verbose=True)"
            ],
            "text/html": [
              "<style>#sk-container-id-1 {color: black;background-color: white;}#sk-container-id-1 pre{padding: 0;}#sk-container-id-1 div.sk-toggleable {background-color: white;}#sk-container-id-1 label.sk-toggleable__label {cursor: pointer;display: block;width: 100%;margin-bottom: 0;padding: 0.3em;box-sizing: border-box;text-align: center;}#sk-container-id-1 label.sk-toggleable__label-arrow:before {content: \"▸\";float: left;margin-right: 0.25em;color: #696969;}#sk-container-id-1 label.sk-toggleable__label-arrow:hover:before {color: black;}#sk-container-id-1 div.sk-estimator:hover label.sk-toggleable__label-arrow:before {color: black;}#sk-container-id-1 div.sk-toggleable__content {max-height: 0;max-width: 0;overflow: hidden;text-align: left;background-color: #f0f8ff;}#sk-container-id-1 div.sk-toggleable__content pre {margin: 0.2em;color: black;border-radius: 0.25em;background-color: #f0f8ff;}#sk-container-id-1 input.sk-toggleable__control:checked~div.sk-toggleable__content {max-height: 200px;max-width: 100%;overflow: auto;}#sk-container-id-1 input.sk-toggleable__control:checked~label.sk-toggleable__label-arrow:before {content: \"▾\";}#sk-container-id-1 div.sk-estimator input.sk-toggleable__control:checked~label.sk-toggleable__label {background-color: #d4ebff;}#sk-container-id-1 div.sk-label input.sk-toggleable__control:checked~label.sk-toggleable__label {background-color: #d4ebff;}#sk-container-id-1 input.sk-hidden--visually {border: 0;clip: rect(1px 1px 1px 1px);clip: rect(1px, 1px, 1px, 1px);height: 1px;margin: -1px;overflow: hidden;padding: 0;position: absolute;width: 1px;}#sk-container-id-1 div.sk-estimator {font-family: monospace;background-color: #f0f8ff;border: 1px dotted black;border-radius: 0.25em;box-sizing: border-box;margin-bottom: 0.5em;}#sk-container-id-1 div.sk-estimator:hover {background-color: #d4ebff;}#sk-container-id-1 div.sk-parallel-item::after {content: \"\";width: 100%;border-bottom: 1px solid gray;flex-grow: 1;}#sk-container-id-1 div.sk-label:hover label.sk-toggleable__label {background-color: #d4ebff;}#sk-container-id-1 div.sk-serial::before {content: \"\";position: absolute;border-left: 1px solid gray;box-sizing: border-box;top: 0;bottom: 0;left: 50%;z-index: 0;}#sk-container-id-1 div.sk-serial {display: flex;flex-direction: column;align-items: center;background-color: white;padding-right: 0.2em;padding-left: 0.2em;position: relative;}#sk-container-id-1 div.sk-item {position: relative;z-index: 1;}#sk-container-id-1 div.sk-parallel {display: flex;align-items: stretch;justify-content: center;background-color: white;position: relative;}#sk-container-id-1 div.sk-item::before, #sk-container-id-1 div.sk-parallel-item::before {content: \"\";position: absolute;border-left: 1px solid gray;box-sizing: border-box;top: 0;bottom: 0;left: 50%;z-index: -1;}#sk-container-id-1 div.sk-parallel-item {display: flex;flex-direction: column;z-index: 1;position: relative;background-color: white;}#sk-container-id-1 div.sk-parallel-item:first-child::after {align-self: flex-end;width: 50%;}#sk-container-id-1 div.sk-parallel-item:last-child::after {align-self: flex-start;width: 50%;}#sk-container-id-1 div.sk-parallel-item:only-child::after {width: 0;}#sk-container-id-1 div.sk-dashed-wrapped {border: 1px dashed gray;margin: 0 0.4em 0.5em 0.4em;box-sizing: border-box;padding-bottom: 0.4em;background-color: white;}#sk-container-id-1 div.sk-label label {font-family: monospace;font-weight: bold;display: inline-block;line-height: 1.2em;}#sk-container-id-1 div.sk-label-container {text-align: center;}#sk-container-id-1 div.sk-container {/* jupyter's `normalize.less` sets `[hidden] { display: none; }` but bootstrap.min.css set `[hidden] { display: none !important; }` so we also need the `!important` here to be able to override the default hidden behavior on the sphinx rendered scikit-learn.org. See: https://github.com/scikit-learn/scikit-learn/issues/21755 */display: inline-block !important;position: relative;}#sk-container-id-1 div.sk-text-repr-fallback {display: none;}</style><div id=\"sk-container-id-1\" class=\"sk-top-container\"><div class=\"sk-text-repr-fallback\"><pre>KMeans(max_iter=100, n_clusters=2, n_init=2, random_state=2307, verbose=True)</pre><b>In a Jupyter environment, please rerun this cell to show the HTML representation or trust the notebook. <br />On GitHub, the HTML representation is unable to render, please try loading this page with nbviewer.org.</b></div><div class=\"sk-container\" hidden><div class=\"sk-item\"><div class=\"sk-estimator sk-toggleable\"><input class=\"sk-toggleable__control sk-hidden--visually\" id=\"sk-estimator-id-1\" type=\"checkbox\" checked><label for=\"sk-estimator-id-1\" class=\"sk-toggleable__label sk-toggleable__label-arrow\">KMeans</label><div class=\"sk-toggleable__content\"><pre>KMeans(max_iter=100, n_clusters=2, n_init=2, random_state=2307, verbose=True)</pre></div></div></div></div></div>"
            ]
          },
          "metadata": {},
          "execution_count": 43
        }
      ]
    },
    {
      "cell_type": "code",
      "source": [
        "\n",
        "\n",
        "print(\"Intrinsic evaluation measures:\")\n",
        "print(\"Within-cluster sum-of-squares:\", str(kmeans.inertia_))\n",
        "print(\"Silhouette coefficient:\", str(metrics.silhouette_score(vector_documents, kmeans.labels_)))\n",
        "\n",
        "print('Extrinsic evaluation measures:')\n",
        "print(\"Homogeneity:\", str(metrics.homogeneity_score(labels, kmeans.labels_)))\n",
        "print(\"Completeness:\", str(metrics.completeness_score(labels, kmeans.labels_)))\n",
        "print(\"V-measure:\", str(metrics.v_measure_score(labels, kmeans.labels_)))\n",
        "print(\"Adjusted Rand-Index:\", str(metrics.adjusted_rand_score(labels, kmeans.labels_)))"
      ],
      "metadata": {
        "execution": {
          "iopub.status.busy": "2023-05-01T19:33:22.744603Z",
          "iopub.execute_input": "2023-05-01T19:33:22.745220Z",
          "iopub.status.idle": "2023-05-01T19:33:23.991690Z",
          "shell.execute_reply.started": "2023-05-01T19:33:22.745185Z",
          "shell.execute_reply": "2023-05-01T19:33:23.990079Z"
        },
        "trusted": true,
        "id": "VgCVUySemgeT",
        "outputId": "6184175f-6be1-4993-e48c-1233f16a9332",
        "colab": {
          "base_uri": "https://localhost:8080/"
        }
      },
      "execution_count": 44,
      "outputs": [
        {
          "output_type": "stream",
          "name": "stdout",
          "text": [
            "Intrinsic evaluation measures:\n",
            "Within-cluster sum-of-squares: 32668.032303848704\n",
            "Silhouette coefficient: 0.011687671020057765\n",
            "Extrinsic evaluation measures:\n",
            "Homogeneity: 0.06476441677697967\n",
            "Completeness: 0.12404977572786596\n",
            "V-measure: 0.0850996555899704\n",
            "Adjusted Rand-Index: 0.03102009598058132\n"
          ]
        }
      ]
    },
    {
      "cell_type": "markdown",
      "source": [
        "As we can see from this metrics and as we expect it perfomed terribly.\n",
        "We can say that the content of the sentences is not related to the label."
      ],
      "metadata": {
        "id": "6D6YgkrxmgeT"
      }
    }
  ]
}