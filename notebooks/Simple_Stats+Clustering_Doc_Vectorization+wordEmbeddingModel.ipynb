{
  "metadata": {
    "kernelspec": {
      "language": "python",
      "display_name": "Python 3",
      "name": "python3"
    },
    "language_info": {
      "name": "python",
      "version": "3.7.12",
      "mimetype": "text/x-python",
      "codemirror_mode": {
        "name": "ipython",
        "version": 3
      },
      "pygments_lexer": "ipython3",
      "nbconvert_exporter": "python",
      "file_extension": ".py"
    },
    "colab": {
      "provenance": []
    }
  },
  "nbformat_minor": 0,
  "nbformat": 4,
  "cells": [
    {
      "cell_type": "code",
      "source": [
        "\n",
        "import numpy as np # linear algebra\n",
        "import pandas as pd # data processing, CSV file I/O (e.g. pd.read_csv)\n",
        "import os\n",
        "\n",
        "\n",
        "\n"
      ],
      "metadata": {
        "_uuid": "8f2839f25d086af736a60e9eeb907d3b93b6e0e5",
        "_cell_guid": "b1076dfc-b9ad-4769-8c92-a6c4dae69d19",
        "execution": {
          "iopub.status.busy": "2023-05-07T14:23:37.972448Z",
          "iopub.execute_input": "2023-05-07T14:23:37.972816Z",
          "iopub.status.idle": "2023-05-07T14:23:38.015821Z",
          "shell.execute_reply.started": "2023-05-07T14:23:37.972762Z",
          "shell.execute_reply": "2023-05-07T14:23:38.014786Z"
        },
        "trusted": true,
        "id": "6J7yM5cUmgeM"
      },
      "execution_count": 55,
      "outputs": []
    },
    {
      "cell_type": "markdown",
      "source": [
        "# Loading of the training set.\n",
        "\n",
        "We peek the datset using the function head() to see its composition."
      ],
      "metadata": {
        "id": "yXO7XgilmgeN"
      }
    },
    {
      "cell_type": "code",
      "source": [
        "from collections import Counter\n",
        "from matplotlib import pyplot as plt\n"
      ],
      "metadata": {
        "id": "NwYBfRy6lSSW"
      },
      "execution_count": 56,
      "outputs": []
    },
    {
      "cell_type": "code",
      "source": [
        "df = pd.read_csv(\"train.tsv.gz\",sep=\"\\t\",header=0)\n",
        "pd.set_option('display.max_colwidth', 150)\n",
        "\n",
        "df.head()"
      ],
      "metadata": {
        "execution": {
          "iopub.status.busy": "2023-05-07T14:23:38.017656Z",
          "iopub.execute_input": "2023-05-07T14:23:38.017973Z",
          "iopub.status.idle": "2023-05-07T14:23:38.306994Z",
          "shell.execute_reply.started": "2023-05-07T14:23:38.017943Z",
          "shell.execute_reply": "2023-05-07T14:23:38.305966Z"
        },
        "trusted": true,
        "colab": {
          "base_uri": "https://localhost:8080/",
          "height": 250
        },
        "id": "XQ-Mo1lZmgeO",
        "outputId": "9ce1bd29-f049-4170-d7c9-05ec01fdc676"
      },
      "execution_count": 57,
      "outputs": [
        {
          "output_type": "execute_result",
          "data": {
            "text/plain": [
              "      id  \\\n",
              "0  12322   \n",
              "1   1682   \n",
              "2  22592   \n",
              "3  17390   \n",
              "4  30453   \n",
              "\n",
              "                                                                                                                                                    text  \\\n",
              "0                                                   you need to stop the engine and wait until it stops. This is how I would do it: // Check if its safe   \n",
              "1  The Commission shall publish the report; an interim report at least once every two years, and whenever it considers that such a report is necessar...   \n",
              "2                                                   I have not been tweeting a lot lately, but I did in November, and it was a really good month. I also   \n",
              "3                                                             I pass my exam and really thankgod for that but idk where will I go for shsmy result is ah   \n",
              "4  The template will have 3 parts: a mustache shape, a bow tie shape, and a skinny rectangle. The mustache shape will eventually make the bow loops. ...   \n",
              "\n",
              "       label  \n",
              "0  generated  \n",
              "1  generated  \n",
              "2  generated  \n",
              "3      human  \n",
              "4      human  "
            ],
            "text/html": [
              "\n",
              "  <div id=\"df-cb4771be-9d1b-4069-8d11-088ac3a49827\">\n",
              "    <div class=\"colab-df-container\">\n",
              "      <div>\n",
              "<style scoped>\n",
              "    .dataframe tbody tr th:only-of-type {\n",
              "        vertical-align: middle;\n",
              "    }\n",
              "\n",
              "    .dataframe tbody tr th {\n",
              "        vertical-align: top;\n",
              "    }\n",
              "\n",
              "    .dataframe thead th {\n",
              "        text-align: right;\n",
              "    }\n",
              "</style>\n",
              "<table border=\"1\" class=\"dataframe\">\n",
              "  <thead>\n",
              "    <tr style=\"text-align: right;\">\n",
              "      <th></th>\n",
              "      <th>id</th>\n",
              "      <th>text</th>\n",
              "      <th>label</th>\n",
              "    </tr>\n",
              "  </thead>\n",
              "  <tbody>\n",
              "    <tr>\n",
              "      <th>0</th>\n",
              "      <td>12322</td>\n",
              "      <td>you need to stop the engine and wait until it stops. This is how I would do it: // Check if its safe</td>\n",
              "      <td>generated</td>\n",
              "    </tr>\n",
              "    <tr>\n",
              "      <th>1</th>\n",
              "      <td>1682</td>\n",
              "      <td>The Commission shall publish the report; an interim report at least once every two years, and whenever it considers that such a report is necessar...</td>\n",
              "      <td>generated</td>\n",
              "    </tr>\n",
              "    <tr>\n",
              "      <th>2</th>\n",
              "      <td>22592</td>\n",
              "      <td>I have not been tweeting a lot lately, but I did in November, and it was a really good month. I also</td>\n",
              "      <td>generated</td>\n",
              "    </tr>\n",
              "    <tr>\n",
              "      <th>3</th>\n",
              "      <td>17390</td>\n",
              "      <td>I pass my exam and really thankgod for that but idk where will I go for shsmy result is ah</td>\n",
              "      <td>human</td>\n",
              "    </tr>\n",
              "    <tr>\n",
              "      <th>4</th>\n",
              "      <td>30453</td>\n",
              "      <td>The template will have 3 parts: a mustache shape, a bow tie shape, and a skinny rectangle. The mustache shape will eventually make the bow loops. ...</td>\n",
              "      <td>human</td>\n",
              "    </tr>\n",
              "  </tbody>\n",
              "</table>\n",
              "</div>\n",
              "      <button class=\"colab-df-convert\" onclick=\"convertToInteractive('df-cb4771be-9d1b-4069-8d11-088ac3a49827')\"\n",
              "              title=\"Convert this dataframe to an interactive table.\"\n",
              "              style=\"display:none;\">\n",
              "        \n",
              "  <svg xmlns=\"http://www.w3.org/2000/svg\" height=\"24px\"viewBox=\"0 0 24 24\"\n",
              "       width=\"24px\">\n",
              "    <path d=\"M0 0h24v24H0V0z\" fill=\"none\"/>\n",
              "    <path d=\"M18.56 5.44l.94 2.06.94-2.06 2.06-.94-2.06-.94-.94-2.06-.94 2.06-2.06.94zm-11 1L8.5 8.5l.94-2.06 2.06-.94-2.06-.94L8.5 2.5l-.94 2.06-2.06.94zm10 10l.94 2.06.94-2.06 2.06-.94-2.06-.94-.94-2.06-.94 2.06-2.06.94z\"/><path d=\"M17.41 7.96l-1.37-1.37c-.4-.4-.92-.59-1.43-.59-.52 0-1.04.2-1.43.59L10.3 9.45l-7.72 7.72c-.78.78-.78 2.05 0 2.83L4 21.41c.39.39.9.59 1.41.59.51 0 1.02-.2 1.41-.59l7.78-7.78 2.81-2.81c.8-.78.8-2.07 0-2.86zM5.41 20L4 18.59l7.72-7.72 1.47 1.35L5.41 20z\"/>\n",
              "  </svg>\n",
              "      </button>\n",
              "      \n",
              "  <style>\n",
              "    .colab-df-container {\n",
              "      display:flex;\n",
              "      flex-wrap:wrap;\n",
              "      gap: 12px;\n",
              "    }\n",
              "\n",
              "    .colab-df-convert {\n",
              "      background-color: #E8F0FE;\n",
              "      border: none;\n",
              "      border-radius: 50%;\n",
              "      cursor: pointer;\n",
              "      display: none;\n",
              "      fill: #1967D2;\n",
              "      height: 32px;\n",
              "      padding: 0 0 0 0;\n",
              "      width: 32px;\n",
              "    }\n",
              "\n",
              "    .colab-df-convert:hover {\n",
              "      background-color: #E2EBFA;\n",
              "      box-shadow: 0px 1px 2px rgba(60, 64, 67, 0.3), 0px 1px 3px 1px rgba(60, 64, 67, 0.15);\n",
              "      fill: #174EA6;\n",
              "    }\n",
              "\n",
              "    [theme=dark] .colab-df-convert {\n",
              "      background-color: #3B4455;\n",
              "      fill: #D2E3FC;\n",
              "    }\n",
              "\n",
              "    [theme=dark] .colab-df-convert:hover {\n",
              "      background-color: #434B5C;\n",
              "      box-shadow: 0px 1px 3px 1px rgba(0, 0, 0, 0.15);\n",
              "      filter: drop-shadow(0px 1px 2px rgba(0, 0, 0, 0.3));\n",
              "      fill: #FFFFFF;\n",
              "    }\n",
              "  </style>\n",
              "\n",
              "      <script>\n",
              "        const buttonEl =\n",
              "          document.querySelector('#df-cb4771be-9d1b-4069-8d11-088ac3a49827 button.colab-df-convert');\n",
              "        buttonEl.style.display =\n",
              "          google.colab.kernel.accessAllowed ? 'block' : 'none';\n",
              "\n",
              "        async function convertToInteractive(key) {\n",
              "          const element = document.querySelector('#df-cb4771be-9d1b-4069-8d11-088ac3a49827');\n",
              "          const dataTable =\n",
              "            await google.colab.kernel.invokeFunction('convertToInteractive',\n",
              "                                                     [key], {});\n",
              "          if (!dataTable) return;\n",
              "\n",
              "          const docLinkHtml = 'Like what you see? Visit the ' +\n",
              "            '<a target=\"_blank\" href=https://colab.research.google.com/notebooks/data_table.ipynb>data table notebook</a>'\n",
              "            + ' to learn more about interactive tables.';\n",
              "          element.innerHTML = '';\n",
              "          dataTable['output_type'] = 'display_data';\n",
              "          await google.colab.output.renderOutput(dataTable, element);\n",
              "          const docLink = document.createElement('div');\n",
              "          docLink.innerHTML = docLinkHtml;\n",
              "          element.appendChild(docLink);\n",
              "        }\n",
              "      </script>\n",
              "    </div>\n",
              "  </div>\n",
              "  "
            ]
          },
          "metadata": {},
          "execution_count": 57
        }
      ]
    },
    {
      "cell_type": "markdown",
      "source": [
        "Let's check the size of the data set:"
      ],
      "metadata": {
        "id": "UqDdSqAHmgeP"
      }
    },
    {
      "cell_type": "code",
      "source": [
        "print(f\"No. of sentences: {len(df)}\")"
      ],
      "metadata": {
        "execution": {
          "iopub.status.busy": "2023-05-07T14:23:38.308348Z",
          "iopub.execute_input": "2023-05-07T14:23:38.310069Z",
          "iopub.status.idle": "2023-05-07T14:23:38.316807Z",
          "shell.execute_reply.started": "2023-05-07T14:23:38.310022Z",
          "shell.execute_reply": "2023-05-07T14:23:38.315481Z"
        },
        "trusted": true,
        "colab": {
          "base_uri": "https://localhost:8080/"
        },
        "id": "cL7SOfeemgeP",
        "outputId": "5229356a-7076-446f-aaaa-d2b66c437eab"
      },
      "execution_count": 58,
      "outputs": [
        {
          "output_type": "stream",
          "name": "stdout",
          "text": [
            "No. of sentences: 33845\n"
          ]
        }
      ]
    },
    {
      "cell_type": "markdown",
      "source": [
        "We have quite a few documents.\n",
        "Let's see if the classes are distributed over the population."
      ],
      "metadata": {
        "id": "HURlghoEmgeP"
      }
    },
    {
      "cell_type": "code",
      "source": [
        "df['text'][0]"
      ],
      "metadata": {
        "execution": {
          "iopub.status.busy": "2023-05-07T14:23:38.320630Z",
          "iopub.execute_input": "2023-05-07T14:23:38.321470Z",
          "iopub.status.idle": "2023-05-07T14:23:38.333140Z",
          "shell.execute_reply.started": "2023-05-07T14:23:38.321426Z",
          "shell.execute_reply": "2023-05-07T14:23:38.331796Z"
        },
        "trusted": true,
        "colab": {
          "base_uri": "https://localhost:8080/",
          "height": 36
        },
        "id": "4ETkh-e-mgeP",
        "outputId": "a0e0a423-877c-4ecc-e127-8d4665419525"
      },
      "execution_count": 59,
      "outputs": [
        {
          "output_type": "execute_result",
          "data": {
            "text/plain": [
              "'you need to stop the engine and wait until it stops. This is how I would do it: // Check if its safe'"
            ],
            "application/vnd.google.colaboratory.intrinsic+json": {
              "type": "string"
            }
          },
          "metadata": {},
          "execution_count": 59
        }
      ]
    },
    {
      "cell_type": "code",
      "source": [
        "df['lenght']=df['text'].str.len()\n",
        "max=df['lenght'].max()\n",
        "min=df['lenght'].min()\n",
        "avg=df['lenght'].mean()\n",
        "print( 'maximum value: '+str(max))\n",
        "print('minimum value: '+str(min))\n",
        "print('average value: '+str(avg))\n",
        "df.head()"
      ],
      "metadata": {
        "execution": {
          "iopub.status.busy": "2023-05-07T14:23:38.335792Z",
          "iopub.execute_input": "2023-05-07T14:23:38.343447Z",
          "iopub.status.idle": "2023-05-07T14:23:38.397001Z",
          "shell.execute_reply.started": "2023-05-07T14:23:38.343407Z",
          "shell.execute_reply": "2023-05-07T14:23:38.395913Z"
        },
        "trusted": true,
        "colab": {
          "base_uri": "https://localhost:8080/",
          "height": 337
        },
        "id": "sVgdMhunmgeP",
        "outputId": "c86e1b9f-124b-431a-e5fd-95e971d60edb"
      },
      "execution_count": 60,
      "outputs": [
        {
          "output_type": "stream",
          "name": "stdout",
          "text": [
            "maximum value: 669\n",
            "minimum value: 3\n",
            "average value: 305.25058354262075\n"
          ]
        },
        {
          "output_type": "execute_result",
          "data": {
            "text/plain": [
              "      id  \\\n",
              "0  12322   \n",
              "1   1682   \n",
              "2  22592   \n",
              "3  17390   \n",
              "4  30453   \n",
              "\n",
              "                                                                                                                                                    text  \\\n",
              "0                                                   you need to stop the engine and wait until it stops. This is how I would do it: // Check if its safe   \n",
              "1  The Commission shall publish the report; an interim report at least once every two years, and whenever it considers that such a report is necessar...   \n",
              "2                                                   I have not been tweeting a lot lately, but I did in November, and it was a really good month. I also   \n",
              "3                                                             I pass my exam and really thankgod for that but idk where will I go for shsmy result is ah   \n",
              "4  The template will have 3 parts: a mustache shape, a bow tie shape, and a skinny rectangle. The mustache shape will eventually make the bow loops. ...   \n",
              "\n",
              "       label  lenght  \n",
              "0  generated     100  \n",
              "1  generated     571  \n",
              "2  generated     100  \n",
              "3      human      90  \n",
              "4      human     329  "
            ],
            "text/html": [
              "\n",
              "  <div id=\"df-9e281394-5f7c-41db-b0a9-7b0ddac5bd41\">\n",
              "    <div class=\"colab-df-container\">\n",
              "      <div>\n",
              "<style scoped>\n",
              "    .dataframe tbody tr th:only-of-type {\n",
              "        vertical-align: middle;\n",
              "    }\n",
              "\n",
              "    .dataframe tbody tr th {\n",
              "        vertical-align: top;\n",
              "    }\n",
              "\n",
              "    .dataframe thead th {\n",
              "        text-align: right;\n",
              "    }\n",
              "</style>\n",
              "<table border=\"1\" class=\"dataframe\">\n",
              "  <thead>\n",
              "    <tr style=\"text-align: right;\">\n",
              "      <th></th>\n",
              "      <th>id</th>\n",
              "      <th>text</th>\n",
              "      <th>label</th>\n",
              "      <th>lenght</th>\n",
              "    </tr>\n",
              "  </thead>\n",
              "  <tbody>\n",
              "    <tr>\n",
              "      <th>0</th>\n",
              "      <td>12322</td>\n",
              "      <td>you need to stop the engine and wait until it stops. This is how I would do it: // Check if its safe</td>\n",
              "      <td>generated</td>\n",
              "      <td>100</td>\n",
              "    </tr>\n",
              "    <tr>\n",
              "      <th>1</th>\n",
              "      <td>1682</td>\n",
              "      <td>The Commission shall publish the report; an interim report at least once every two years, and whenever it considers that such a report is necessar...</td>\n",
              "      <td>generated</td>\n",
              "      <td>571</td>\n",
              "    </tr>\n",
              "    <tr>\n",
              "      <th>2</th>\n",
              "      <td>22592</td>\n",
              "      <td>I have not been tweeting a lot lately, but I did in November, and it was a really good month. I also</td>\n",
              "      <td>generated</td>\n",
              "      <td>100</td>\n",
              "    </tr>\n",
              "    <tr>\n",
              "      <th>3</th>\n",
              "      <td>17390</td>\n",
              "      <td>I pass my exam and really thankgod for that but idk where will I go for shsmy result is ah</td>\n",
              "      <td>human</td>\n",
              "      <td>90</td>\n",
              "    </tr>\n",
              "    <tr>\n",
              "      <th>4</th>\n",
              "      <td>30453</td>\n",
              "      <td>The template will have 3 parts: a mustache shape, a bow tie shape, and a skinny rectangle. The mustache shape will eventually make the bow loops. ...</td>\n",
              "      <td>human</td>\n",
              "      <td>329</td>\n",
              "    </tr>\n",
              "  </tbody>\n",
              "</table>\n",
              "</div>\n",
              "      <button class=\"colab-df-convert\" onclick=\"convertToInteractive('df-9e281394-5f7c-41db-b0a9-7b0ddac5bd41')\"\n",
              "              title=\"Convert this dataframe to an interactive table.\"\n",
              "              style=\"display:none;\">\n",
              "        \n",
              "  <svg xmlns=\"http://www.w3.org/2000/svg\" height=\"24px\"viewBox=\"0 0 24 24\"\n",
              "       width=\"24px\">\n",
              "    <path d=\"M0 0h24v24H0V0z\" fill=\"none\"/>\n",
              "    <path d=\"M18.56 5.44l.94 2.06.94-2.06 2.06-.94-2.06-.94-.94-2.06-.94 2.06-2.06.94zm-11 1L8.5 8.5l.94-2.06 2.06-.94-2.06-.94L8.5 2.5l-.94 2.06-2.06.94zm10 10l.94 2.06.94-2.06 2.06-.94-2.06-.94-.94-2.06-.94 2.06-2.06.94z\"/><path d=\"M17.41 7.96l-1.37-1.37c-.4-.4-.92-.59-1.43-.59-.52 0-1.04.2-1.43.59L10.3 9.45l-7.72 7.72c-.78.78-.78 2.05 0 2.83L4 21.41c.39.39.9.59 1.41.59.51 0 1.02-.2 1.41-.59l7.78-7.78 2.81-2.81c.8-.78.8-2.07 0-2.86zM5.41 20L4 18.59l7.72-7.72 1.47 1.35L5.41 20z\"/>\n",
              "  </svg>\n",
              "      </button>\n",
              "      \n",
              "  <style>\n",
              "    .colab-df-container {\n",
              "      display:flex;\n",
              "      flex-wrap:wrap;\n",
              "      gap: 12px;\n",
              "    }\n",
              "\n",
              "    .colab-df-convert {\n",
              "      background-color: #E8F0FE;\n",
              "      border: none;\n",
              "      border-radius: 50%;\n",
              "      cursor: pointer;\n",
              "      display: none;\n",
              "      fill: #1967D2;\n",
              "      height: 32px;\n",
              "      padding: 0 0 0 0;\n",
              "      width: 32px;\n",
              "    }\n",
              "\n",
              "    .colab-df-convert:hover {\n",
              "      background-color: #E2EBFA;\n",
              "      box-shadow: 0px 1px 2px rgba(60, 64, 67, 0.3), 0px 1px 3px 1px rgba(60, 64, 67, 0.15);\n",
              "      fill: #174EA6;\n",
              "    }\n",
              "\n",
              "    [theme=dark] .colab-df-convert {\n",
              "      background-color: #3B4455;\n",
              "      fill: #D2E3FC;\n",
              "    }\n",
              "\n",
              "    [theme=dark] .colab-df-convert:hover {\n",
              "      background-color: #434B5C;\n",
              "      box-shadow: 0px 1px 3px 1px rgba(0, 0, 0, 0.15);\n",
              "      filter: drop-shadow(0px 1px 2px rgba(0, 0, 0, 0.3));\n",
              "      fill: #FFFFFF;\n",
              "    }\n",
              "  </style>\n",
              "\n",
              "      <script>\n",
              "        const buttonEl =\n",
              "          document.querySelector('#df-9e281394-5f7c-41db-b0a9-7b0ddac5bd41 button.colab-df-convert');\n",
              "        buttonEl.style.display =\n",
              "          google.colab.kernel.accessAllowed ? 'block' : 'none';\n",
              "\n",
              "        async function convertToInteractive(key) {\n",
              "          const element = document.querySelector('#df-9e281394-5f7c-41db-b0a9-7b0ddac5bd41');\n",
              "          const dataTable =\n",
              "            await google.colab.kernel.invokeFunction('convertToInteractive',\n",
              "                                                     [key], {});\n",
              "          if (!dataTable) return;\n",
              "\n",
              "          const docLinkHtml = 'Like what you see? Visit the ' +\n",
              "            '<a target=\"_blank\" href=https://colab.research.google.com/notebooks/data_table.ipynb>data table notebook</a>'\n",
              "            + ' to learn more about interactive tables.';\n",
              "          element.innerHTML = '';\n",
              "          dataTable['output_type'] = 'display_data';\n",
              "          await google.colab.output.renderOutput(dataTable, element);\n",
              "          const docLink = document.createElement('div');\n",
              "          docLink.innerHTML = docLinkHtml;\n",
              "          element.appendChild(docLink);\n",
              "        }\n",
              "      </script>\n",
              "    </div>\n",
              "  </div>\n",
              "  "
            ]
          },
          "metadata": {},
          "execution_count": 60
        }
      ]
    },
    {
      "cell_type": "markdown",
      "source": [
        "I have added a feature to our datset containing the lenght of the documents.\n"
      ],
      "metadata": {
        "id": "zcDOq7FZmgeQ"
      }
    },
    {
      "cell_type": "code",
      "source": [
        "\n",
        "\n",
        "label_count = Counter(df['label'])\n",
        "\n",
        "print(f\"we have {len(label_count.keys())} different categories:\")\n",
        "\n",
        "\n",
        "plt.figure(figsize=(4, 4))\n",
        "plt.bar(range(len(label_count)), label_count.values())\n",
        "plt.xticks(range(len(label_count)), label_count.keys())\n",
        "plt.ylim([1, 20000])\n",
        "plt.show()"
      ],
      "metadata": {
        "execution": {
          "iopub.status.busy": "2023-05-07T14:23:38.401288Z",
          "iopub.execute_input": "2023-05-07T14:23:38.402285Z",
          "iopub.status.idle": "2023-05-07T14:23:38.605414Z",
          "shell.execute_reply.started": "2023-05-07T14:23:38.402245Z",
          "shell.execute_reply": "2023-05-07T14:23:38.604315Z"
        },
        "trusted": true,
        "colab": {
          "base_uri": "https://localhost:8080/",
          "height": 391
        },
        "id": "HwJ54_L2mgeQ",
        "outputId": "c865ab5d-b023-43d9-8093-31d7da3883b0"
      },
      "execution_count": 61,
      "outputs": [
        {
          "output_type": "stream",
          "name": "stdout",
          "text": [
            "we have 2 different categories:\n"
          ]
        },
        {
          "output_type": "display_data",
          "data": {
            "text/plain": [
              "<Figure size 400x400 with 1 Axes>"
            ],
            "image/png": "[encoded data removed]"
          },
          "metadata": {}
        }
      ]
    },
    {
      "cell_type": "markdown",
      "source": [
        "The categories are equally distributed.\n"
      ],
      "metadata": {
        "id": "zrzkSfOamgeQ"
      }
    },
    {
      "cell_type": "markdown",
      "source": [
        "# Search Engine"
      ],
      "metadata": {
        "id": "gAUfVUtLmgeQ"
      }
    },
    {
      "cell_type": "code",
      "source": [
        "!pip install -q python-terrier\n"
      ],
      "metadata": {
        "execution": {
          "iopub.status.busy": "2023-05-07T14:23:38.607059Z",
          "iopub.execute_input": "2023-05-07T14:23:38.607719Z",
          "iopub.status.idle": "2023-05-07T14:24:04.425594Z",
          "shell.execute_reply.started": "2023-05-07T14:23:38.607681Z",
          "shell.execute_reply": "2023-05-07T14:24:04.424394Z"
        },
        "trusted": true,
        "id": "2XI86vpXmgeR"
      },
      "execution_count": 62,
      "outputs": []
    },
    {
      "cell_type": "code",
      "source": [
        "import pyterrier as pt\n",
        "if not pt.started():\n",
        "  pt.init()"
      ],
      "metadata": {
        "execution": {
          "iopub.status.busy": "2023-05-07T14:24:06.660063Z",
          "iopub.execute_input": "2023-05-07T14:24:06.660537Z",
          "iopub.status.idle": "2023-05-07T14:24:07.751330Z",
          "shell.execute_reply.started": "2023-05-07T14:24:06.660483Z",
          "shell.execute_reply": "2023-05-07T14:24:07.749756Z"
        },
        "trusted": true,
        "id": "0xJV8xsMmgeR"
      },
      "execution_count": 63,
      "outputs": []
    },
    {
      "cell_type": "markdown",
      "source": [
        "Before any search engine can estimate which documents are most likely to be relevant for a given query, it must index the documents.\n",
        "\n",
        "In the following cell, we index the dataframe's documents. The index, with all its data structures, is written into a directory that we will call index_3docs. "
      ],
      "metadata": {
        "id": "iSHAY2vwmgeR"
      }
    },
    {
      "cell_type": "code",
      "source": [
        "indexer = pt.DFIndexer(\"./index_3docs\", overwrite=True)\n",
        "df['docno']=str(df[\"id\"])\n",
        "index_ref = indexer.index(df[\"text\"], df[\"docno\"])\n",
        "index_ref.toString()"
      ],
      "metadata": {
        "execution": {
          "iopub.status.busy": "2023-05-07T14:22:13.495062Z",
          "iopub.status.idle": "2023-05-07T14:22:13.496087Z",
          "shell.execute_reply.started": "2023-05-07T14:22:13.495809Z",
          "shell.execute_reply": "2023-05-07T14:22:13.495834Z"
        },
        "trusted": true,
        "colab": {
          "base_uri": "https://localhost:8080/",
          "height": 331
        },
        "id": "hiqlrMj4mgeR",
        "outputId": "77d8dc29-2da3-40c1-c8f4-792c429733fb"
      },
      "execution_count": 64,
      "outputs": [
        {
          "output_type": "stream",
          "name": "stderr",
          "text": [
            "/usr/local/lib/python3.10/dist-packages/pyterrier/index.py:628: FutureWarning:\n",
            "\n",
            "iteritems is deprecated and will be removed in a future version. Use .items instead.\n",
            "\n"
          ]
        },
        {
          "output_type": "stream",
          "name": "stdout",
          "text": [
            "13:28:20.574 [main] WARN org.terrier.structures.indexing.Indexer - Adding an empty document to the index (0        12322\n",
            "1         1682\n",
            "2        22592\n",
            "3        17390\n",
            "4        30453\n",
            "         ...  \n",
            "33840    16850\n",
            "33841     6265\n",
            "33842    11284\n",
            "33843      860\n",
            "33844    15795\n",
            "Name: id, Length: 33845, dtype: int64) - further warnings are suppressed\n",
            "13:28:56.087 [main] WARN org.terrier.structures.indexing.Indexer - Indexed 4 empty documents\n"
          ]
        },
        {
          "output_type": "execute_result",
          "data": {
            "text/plain": [
              "'./index_3docs/data.properties'"
            ],
            "application/vnd.google.colaboratory.intrinsic+json": {
              "type": "string"
            }
          },
          "metadata": {},
          "execution_count": 64
        }
      ]
    },
    {
      "cell_type": "code",
      "source": [
        "index = pt.IndexFactory.of(index_ref)"
      ],
      "metadata": {
        "id": "DoHb2T-KoDuG"
      },
      "execution_count": 65,
      "outputs": []
    },
    {
      "cell_type": "code",
      "source": [
        "print(index.getCollectionStatistics().toString())"
      ],
      "metadata": {
        "colab": {
          "base_uri": "https://localhost:8080/"
        },
        "id": "pQs3-w9MoGOr",
        "outputId": "e8578604-922f-47b6-8b7e-8d5591ada4df"
      },
      "execution_count": 66,
      "outputs": [
        {
          "output_type": "stream",
          "name": "stdout",
          "text": [
            "Number of documents: 33845\n",
            "Number of terms: 31825\n",
            "Number of postings: 751277\n",
            "Number of fields: 0\n",
            "Number of tokens: 923471\n",
            "Field names: []\n",
            "Positions:   false\n",
            "\n"
          ]
        }
      ]
    },
    {
      "cell_type": "code",
      "source": [
        "query = \"potato\"\n",
        "bm25 = pt.BatchRetrieve(index, wmodel=\"BM25\")\n",
        "bm25.search(query)\n",
        "br = pt.BatchRetrieve(index, wmodel=\"TF_IDF\")\n",
        "queries=br.search(query)\n",
        "queries.head()"
      ],
      "metadata": {
        "colab": {
          "base_uri": "https://localhost:8080/",
          "height": 206
        },
        "id": "reSrsoIhoNJE",
        "outputId": "c85f3794-5250-46fb-f8d5-467b783d4f6b"
      },
      "execution_count": 67,
      "outputs": [
        {
          "output_type": "execute_result",
          "data": {
            "text/plain": [
              "  qid  docid  \\\n",
              "0   1  21593   \n",
              "1   1  13963   \n",
              "2   1   5780   \n",
              "3   1  24231   \n",
              "4   1  25694   \n",
              "\n",
              "                                                                                                                                                   docno  \\\n",
              "0  0        123221         16822        225923        173904        30453         ...  33840    1685033841     626533842    1128433843      86033844 ...   \n",
              "1  0        123221         16822        225923        173904        30453         ...  33840    1685033841     626533842    1128433843      86033844 ...   \n",
              "2  0        123221         16822        225923        173904        30453         ...  33840    1685033841     626533842    1128433843      86033844 ...   \n",
              "3  0        123221         16822        225923        173904        30453         ...  33840    1685033841     626533842    1128433843      86033844 ...   \n",
              "4  0        123221         16822        225923        173904        30453         ...  33840    1685033841     626533842    1128433843      86033844 ...   \n",
              "\n",
              "   rank     score   query  \n",
              "0     0  8.106677  potato  \n",
              "1     1  8.024425  potato  \n",
              "2     2  7.984238  potato  \n",
              "3     3  7.944453  potato  \n",
              "4     4  7.827439  potato  "
            ],
            "text/html": [
              "\n",
              "  <div id=\"df-8dd90f01-c5f1-4db6-8103-38c28ca3b945\">\n",
              "    <div class=\"colab-df-container\">\n",
              "      <div>\n",
              "<style scoped>\n",
              "    .dataframe tbody tr th:only-of-type {\n",
              "        vertical-align: middle;\n",
              "    }\n",
              "\n",
              "    .dataframe tbody tr th {\n",
              "        vertical-align: top;\n",
              "    }\n",
              "\n",
              "    .dataframe thead th {\n",
              "        text-align: right;\n",
              "    }\n",
              "</style>\n",
              "<table border=\"1\" class=\"dataframe\">\n",
              "  <thead>\n",
              "    <tr style=\"text-align: right;\">\n",
              "      <th></th>\n",
              "      <th>qid</th>\n",
              "      <th>docid</th>\n",
              "      <th>docno</th>\n",
              "      <th>rank</th>\n",
              "      <th>score</th>\n",
              "      <th>query</th>\n",
              "    </tr>\n",
              "  </thead>\n",
              "  <tbody>\n",
              "    <tr>\n",
              "      <th>0</th>\n",
              "      <td>1</td>\n",
              "      <td>21593</td>\n",
              "      <td>0        123221         16822        225923        173904        30453         ...  33840    1685033841     626533842    1128433843      86033844 ...</td>\n",
              "      <td>0</td>\n",
              "      <td>8.106677</td>\n",
              "      <td>potato</td>\n",
              "    </tr>\n",
              "    <tr>\n",
              "      <th>1</th>\n",
              "      <td>1</td>\n",
              "      <td>13963</td>\n",
              "      <td>0        123221         16822        225923        173904        30453         ...  33840    1685033841     626533842    1128433843      86033844 ...</td>\n",
              "      <td>1</td>\n",
              "      <td>8.024425</td>\n",
              "      <td>potato</td>\n",
              "    </tr>\n",
              "    <tr>\n",
              "      <th>2</th>\n",
              "      <td>1</td>\n",
              "      <td>5780</td>\n",
              "      <td>0        123221         16822        225923        173904        30453         ...  33840    1685033841     626533842    1128433843      86033844 ...</td>\n",
              "      <td>2</td>\n",
              "      <td>7.984238</td>\n",
              "      <td>potato</td>\n",
              "    </tr>\n",
              "    <tr>\n",
              "      <th>3</th>\n",
              "      <td>1</td>\n",
              "      <td>24231</td>\n",
              "      <td>0        123221         16822        225923        173904        30453         ...  33840    1685033841     626533842    1128433843      86033844 ...</td>\n",
              "      <td>3</td>\n",
              "      <td>7.944453</td>\n",
              "      <td>potato</td>\n",
              "    </tr>\n",
              "    <tr>\n",
              "      <th>4</th>\n",
              "      <td>1</td>\n",
              "      <td>25694</td>\n",
              "      <td>0        123221         16822        225923        173904        30453         ...  33840    1685033841     626533842    1128433843      86033844 ...</td>\n",
              "      <td>4</td>\n",
              "      <td>7.827439</td>\n",
              "      <td>potato</td>\n",
              "    </tr>\n",
              "  </tbody>\n",
              "</table>\n",
              "</div>\n",
              "      <button class=\"colab-df-convert\" onclick=\"convertToInteractive('df-8dd90f01-c5f1-4db6-8103-38c28ca3b945')\"\n",
              "              title=\"Convert this dataframe to an interactive table.\"\n",
              "              style=\"display:none;\">\n",
              "        \n",
              "  <svg xmlns=\"http://www.w3.org/2000/svg\" height=\"24px\"viewBox=\"0 0 24 24\"\n",
              "       width=\"24px\">\n",
              "    <path d=\"M0 0h24v24H0V0z\" fill=\"none\"/>\n",
              "    <path d=\"M18.56 5.44l.94 2.06.94-2.06 2.06-.94-2.06-.94-.94-2.06-.94 2.06-2.06.94zm-11 1L8.5 8.5l.94-2.06 2.06-.94-2.06-.94L8.5 2.5l-.94 2.06-2.06.94zm10 10l.94 2.06.94-2.06 2.06-.94-2.06-.94-.94-2.06-.94 2.06-2.06.94z\"/><path d=\"M17.41 7.96l-1.37-1.37c-.4-.4-.92-.59-1.43-.59-.52 0-1.04.2-1.43.59L10.3 9.45l-7.72 7.72c-.78.78-.78 2.05 0 2.83L4 21.41c.39.39.9.59 1.41.59.51 0 1.02-.2 1.41-.59l7.78-7.78 2.81-2.81c.8-.78.8-2.07 0-2.86zM5.41 20L4 18.59l7.72-7.72 1.47 1.35L5.41 20z\"/>\n",
              "  </svg>\n",
              "      </button>\n",
              "      \n",
              "  <style>\n",
              "    .colab-df-container {\n",
              "      display:flex;\n",
              "      flex-wrap:wrap;\n",
              "      gap: 12px;\n",
              "    }\n",
              "\n",
              "    .colab-df-convert {\n",
              "      background-color: #E8F0FE;\n",
              "      border: none;\n",
              "      border-radius: 50%;\n",
              "      cursor: pointer;\n",
              "      display: none;\n",
              "      fill: #1967D2;\n",
              "      height: 32px;\n",
              "      padding: 0 0 0 0;\n",
              "      width: 32px;\n",
              "    }\n",
              "\n",
              "    .colab-df-convert:hover {\n",
              "      background-color: #E2EBFA;\n",
              "      box-shadow: 0px 1px 2px rgba(60, 64, 67, 0.3), 0px 1px 3px 1px rgba(60, 64, 67, 0.15);\n",
              "      fill: #174EA6;\n",
              "    }\n",
              "\n",
              "    [theme=dark] .colab-df-convert {\n",
              "      background-color: #3B4455;\n",
              "      fill: #D2E3FC;\n",
              "    }\n",
              "\n",
              "    [theme=dark] .colab-df-convert:hover {\n",
              "      background-color: #434B5C;\n",
              "      box-shadow: 0px 1px 3px 1px rgba(0, 0, 0, 0.15);\n",
              "      filter: drop-shadow(0px 1px 2px rgba(0, 0, 0, 0.3));\n",
              "      fill: #FFFFFF;\n",
              "    }\n",
              "  </style>\n",
              "\n",
              "      <script>\n",
              "        const buttonEl =\n",
              "          document.querySelector('#df-8dd90f01-c5f1-4db6-8103-38c28ca3b945 button.colab-df-convert');\n",
              "        buttonEl.style.display =\n",
              "          google.colab.kernel.accessAllowed ? 'block' : 'none';\n",
              "\n",
              "        async function convertToInteractive(key) {\n",
              "          const element = document.querySelector('#df-8dd90f01-c5f1-4db6-8103-38c28ca3b945');\n",
              "          const dataTable =\n",
              "            await google.colab.kernel.invokeFunction('convertToInteractive',\n",
              "                                                     [key], {});\n",
              "          if (!dataTable) return;\n",
              "\n",
              "          const docLinkHtml = 'Like what you see? Visit the ' +\n",
              "            '<a target=\"_blank\" href=https://colab.research.google.com/notebooks/data_table.ipynb>data table notebook</a>'\n",
              "            + ' to learn more about interactive tables.';\n",
              "          element.innerHTML = '';\n",
              "          dataTable['output_type'] = 'display_data';\n",
              "          await google.colab.output.renderOutput(dataTable, element);\n",
              "          const docLink = document.createElement('div');\n",
              "          docLink.innerHTML = docLinkHtml;\n",
              "          element.appendChild(docLink);\n",
              "        }\n",
              "      </script>\n",
              "    </div>\n",
              "  </div>\n",
              "  "
            ]
          },
          "metadata": {},
          "execution_count": 67
        }
      ]
    },
    {
      "cell_type": "markdown",
      "source": [
        "Word Embedding"
      ],
      "metadata": {
        "id": "sRWa_IQlykDP"
      }
    },
    {
      "cell_type": "code",
      "source": [
        "!pip install --upgrade gensim\n",
        "!pip install plotly"
      ],
      "metadata": {
        "colab": {
          "base_uri": "https://localhost:8080/"
        },
        "id": "t6EwvQb0ymfp",
        "outputId": "3e205036-5e93-4c6b-c1f1-f736ad92d0fe"
      },
      "execution_count": 68,
      "outputs": [
        {
          "output_type": "stream",
          "name": "stdout",
          "text": [
            "Looking in indexes: https://pypi.org/simple, https://us-python.pkg.dev/colab-wheels/public/simple/\n",
            "Requirement already satisfied: gensim in /usr/local/lib/python3.10/dist-packages (4.3.1)\n",
            "Requirement already satisfied: numpy>=1.18.5 in /usr/local/lib/python3.10/dist-packages (from gensim) (1.22.4)\n",
            "Requirement already satisfied: smart-open>=1.8.1 in /usr/local/lib/python3.10/dist-packages (from gensim) (6.3.0)\n",
            "Requirement already satisfied: scipy>=1.7.0 in /usr/local/lib/python3.10/dist-packages (from gensim) (1.10.1)\n",
            "Looking in indexes: https://pypi.org/simple, https://us-python.pkg.dev/colab-wheels/public/simple/\n",
            "Requirement already satisfied: plotly in /usr/local/lib/python3.10/dist-packages (5.13.1)\n",
            "Requirement already satisfied: tenacity>=6.2.0 in /usr/local/lib/python3.10/dist-packages (from plotly) (8.2.2)\n"
          ]
        }
      ]
    },
    {
      "cell_type": "code",
      "source": [
        "import re\n",
        "from pandas.core.common import flatten\n",
        "from gensim.models.word2vec import Word2Vec\n",
        "import random\n",
        "from sklearn.manifold import TSNE\n",
        "import plotly.express as px"
      ],
      "metadata": {
        "id": "hrC03K27lhwA"
      },
      "execution_count": 69,
      "outputs": []
    },
    {
      "cell_type": "code",
      "source": [
        "\n",
        "# remove newline characters\n",
        "docs = [re.sub('\\n', ' ', doc) for doc in df.text]\n",
        "# remove email addresses\n",
        "docs = [re.sub('[a-zA-Z0-9._%+-]+@[a-zA-Z0-9.-]+\\.[a-zA-Z]{2,}', '', doc) for doc in docs]\n",
        "# split sentences \n",
        "sentences = [re.split('[?!.]\\s', doc) for doc in docs]\n",
        "sentences[:3]"
      ],
      "metadata": {
        "colab": {
          "base_uri": "https://localhost:8080/"
        },
        "id": "5Q-CvB5lyqBj",
        "outputId": "0bab8227-6a8a-457b-be40-a0fb4963388a"
      },
      "execution_count": 70,
      "outputs": [
        {
          "output_type": "execute_result",
          "data": {
            "text/plain": [
              "[['you need to stop the engine and wait until it stops',\n",
              "  'This is how I would do it: // Check if its safe'],\n",
              " ['The Commission shall publish the report; an interim report at least once every two years, and whenever it considers that such a report is necessary or appropriate',\n",
              "  '2',\n",
              "  'The Commission may request any relevant information from the Member States, the Council, the European Parliament, international organizations, bodies or specialized agencies',\n",
              "  '3',\n",
              "  'The Commission shall ensure adequate access by the competent national authorities for the purpose of implementing this Regulation',\n",
              "  '4',\n",
              "  'The Commission shall give special attention to the social dimension of the programme',\n",
              "  '5',\n",
              "  'The'],\n",
              " ['I have not been tweeting a lot lately, but I did in November, and it was a really good month',\n",
              "  'I also']]"
            ]
          },
          "metadata": {},
          "execution_count": 70
        }
      ]
    },
    {
      "cell_type": "code",
      "source": [
        "sentences = list(flatten(sentences))\n",
        "sentences[:20]"
      ],
      "metadata": {
        "colab": {
          "base_uri": "https://localhost:8080/"
        },
        "id": "dwnKMMoKyyHV",
        "outputId": "68e51085-3a13-47f6-af16-996a56a0796a"
      },
      "execution_count": 71,
      "outputs": [
        {
          "output_type": "execute_result",
          "data": {
            "text/plain": [
              "['you need to stop the engine and wait until it stops',\n",
              " 'This is how I would do it: // Check if its safe',\n",
              " 'The Commission shall publish the report; an interim report at least once every two years, and whenever it considers that such a report is necessary or appropriate',\n",
              " '2',\n",
              " 'The Commission may request any relevant information from the Member States, the Council, the European Parliament, international organizations, bodies or specialized agencies',\n",
              " '3',\n",
              " 'The Commission shall ensure adequate access by the competent national authorities for the purpose of implementing this Regulation',\n",
              " '4',\n",
              " 'The Commission shall give special attention to the social dimension of the programme',\n",
              " '5',\n",
              " 'The',\n",
              " 'I have not been tweeting a lot lately, but I did in November, and it was a really good month',\n",
              " 'I also',\n",
              " 'I pass my exam and really thankgod for that but idk where will I go for shsmy result is ah',\n",
              " 'The template will have 3 parts: a mustache shape, a bow tie shape, and a skinny rectangle',\n",
              " 'The mustache shape will eventually make the bow loops',\n",
              " 'The bow tie shape will actually make the bow tails',\n",
              " 'Glue the bow to scrapbooking project, or secure it with glue dots instead',\n",
              " 'You can also use doublesided tape or foam mounting tape.',\n",
              " '@Jonasbrothers Guys.']"
            ]
          },
          "metadata": {},
          "execution_count": 71
        }
      ]
    },
    {
      "cell_type": "code",
      "source": [
        "tokenized_sentences = [re.sub('\\W', ' ', sentence).lower().split() for sentence in sentences]\n",
        "# remove sentences that are only 1 word long\n",
        "tokenized_sentences = [sentence for sentence in tokenized_sentences if len(sentence) > 1]\n",
        "\n",
        "for sentence in tokenized_sentences[:10]:\n",
        "    print(sentence)"
      ],
      "metadata": {
        "colab": {
          "base_uri": "https://localhost:8080/"
        },
        "id": "LzTFaKkiy0AG",
        "outputId": "d563563c-4bae-467c-d052-89d1d391e616"
      },
      "execution_count": 72,
      "outputs": [
        {
          "output_type": "stream",
          "name": "stdout",
          "text": [
            "['you', 'need', 'to', 'stop', 'the', 'engine', 'and', 'wait', 'until', 'it', 'stops']\n",
            "['this', 'is', 'how', 'i', 'would', 'do', 'it', 'check', 'if', 'its', 'safe']\n",
            "['the', 'commission', 'shall', 'publish', 'the', 'report', 'an', 'interim', 'report', 'at', 'least', 'once', 'every', 'two', 'years', 'and', 'whenever', 'it', 'considers', 'that', 'such', 'a', 'report', 'is', 'necessary', 'or', 'appropriate']\n",
            "['the', 'commission', 'may', 'request', 'any', 'relevant', 'information', 'from', 'the', 'member', 'states', 'the', 'council', 'the', 'european', 'parliament', 'international', 'organizations', 'bodies', 'or', 'specialized', 'agencies']\n",
            "['the', 'commission', 'shall', 'ensure', 'adequate', 'access', 'by', 'the', 'competent', 'national', 'authorities', 'for', 'the', 'purpose', 'of', 'implementing', 'this', 'regulation']\n",
            "['the', 'commission', 'shall', 'give', 'special', 'attention', 'to', 'the', 'social', 'dimension', 'of', 'the', 'programme']\n",
            "['i', 'have', 'not', 'been', 'tweeting', 'a', 'lot', 'lately', 'but', 'i', 'did', 'in', 'november', 'and', 'it', 'was', 'a', 'really', 'good', 'month']\n",
            "['i', 'also']\n",
            "['i', 'pass', 'my', 'exam', 'and', 'really', 'thankgod', 'for', 'that', 'but', 'idk', 'where', 'will', 'i', 'go', 'for', 'shsmy', 'result', 'is', 'ah']\n",
            "['the', 'template', 'will', 'have', '3', 'parts', 'a', 'mustache', 'shape', 'a', 'bow', 'tie', 'shape', 'and', 'a', 'skinny', 'rectangle']\n"
          ]
        }
      ]
    },
    {
      "cell_type": "markdown",
      "source": [
        "Finally we have the data in the right format for training Word2Vec, so we can provide it to the algorithm. For parameters, we set:\n",
        "\n",
        "the embedding size to be 30,\n",
        "the minimum count for any vocabulary term to be 5\n",
        "the size of the context window to 10."
      ],
      "metadata": {
        "id": "3fosppB0y_Se"
      }
    },
    {
      "cell_type": "code",
      "source": [
        "model = Word2Vec(tokenized_sentences, vector_size=30, min_count=5, window=10)"
      ],
      "metadata": {
        "id": "CSKaEwCJy26o"
      },
      "execution_count": 73,
      "outputs": []
    },
    {
      "cell_type": "markdown",
      "source": [
        "Vocubalary"
      ],
      "metadata": {
        "id": "9kFzCibCy6xI"
      }
    },
    {
      "cell_type": "code",
      "source": [
        "len(model.wv)"
      ],
      "metadata": {
        "colab": {
          "base_uri": "https://localhost:8080/"
        },
        "id": "UWTGwe39y6O0",
        "outputId": "2e347b44-f48e-4fe6-c1e6-a5bcbe0dffb8"
      },
      "execution_count": 74,
      "outputs": [
        {
          "output_type": "execute_result",
          "data": {
            "text/plain": [
              "12946"
            ]
          },
          "metadata": {},
          "execution_count": 74
        }
      ]
    },
    {
      "cell_type": "code",
      "source": [
        "term ='semen'\n",
        "model.wv.most_similar(term)"
      ],
      "metadata": {
        "colab": {
          "base_uri": "https://localhost:8080/"
        },
        "id": "CE_-1EDMzDLE",
        "outputId": "8ee0aedd-f2c2-421a-e314-e6dee111d672"
      },
      "execution_count": 75,
      "outputs": [
        {
          "output_type": "execute_result",
          "data": {
            "text/plain": [
              "[('prolonged', 0.9148003458976746),\n",
              " ('mortality', 0.9097235798835754),\n",
              " ('radiation', 0.9086166024208069),\n",
              " ('pubic', 0.8935681581497192),\n",
              " ('donations', 0.89178067445755),\n",
              " ('sown', 0.8905121088027954),\n",
              " ('seating', 0.8886496424674988),\n",
              " ('centuries', 0.888372540473938),\n",
              " ('inhabitants', 0.8868842124938965),\n",
              " ('criticism', 0.8839629888534546)]"
            ]
          },
          "metadata": {},
          "execution_count": 75
        }
      ]
    },
    {
      "cell_type": "code",
      "source": [
        "sample = random.sample(list(model.wv.key_to_index), 500)\n",
        "print(sample)\n",
        "word_vectors = model.wv[sample]\n",
        "word_vectors"
      ],
      "metadata": {
        "colab": {
          "base_uri": "https://localhost:8080/"
        },
        "id": "S-dlMY8azk1E",
        "outputId": "8a3cb1b5-ab1d-4f33-b91d-24fc2d07155d"
      },
      "execution_count": 76,
      "outputs": [
        {
          "output_type": "stream",
          "name": "stdout",
          "text": [
            "['birds', 'lowered', '1291', 'herewith', 'blinking', 'buffing', 'holy', 'entries', 'suspension', 'smartboard', 'steam', 'infectious', 'expire', 'dntbh8n', 'performance', '425', 'handy', '30', 'sight', 'vegas', 'ladder', 'humor', 'salmon', 'region', 'spells', 'roads', 'commonly', 'rape', 'nutrient', 'compress', 'diverse', 'nut', '1994', 'stomach', 'facing', 'exchanged', 'energy', 'pocket', 'hotel', 'cities', 'conjunction', 'snakes', 'cheer', 'fractions', 'jackets', 'ie', 'explaining', 'scheme', 'performing', 'invalid', 'cheating', 'award', 'skillet', 'sport', 'overly', 'often', 'grace', 'wrinkles', 'pollutants', 'stepdad', 'sardines', 'religious', 'examine', 'iphone', 'fungi', 'snowman', 'molly', 'finder', 'browns', 'hormones', 'exporting', '350', 'substance', 'supplementary', 'revenues', 'email', 'abrasive', 'selective', 'stamp', 'ingrown', 'chemotherapy', 'distort', 'definitively', '936', 'spring', 'kale', 'azerbaijan', '6302', 'parentheses', 'say', 'films', 'grip', 'ddlovato', 'antibacterial', 'sprint', 'deep', 'taut', 'cocktail', 'sri', 'ethanol', 'relieved', 'lets', 'stay', 'costs', 'follows', '308c', 'bristles', 'returning', 'poultrymeat', 'pilot', 'grand', 'irrespective', 'hyphen', 'simultaneously', '901', 'comfy', 'armed', 'checks', 'unlawfully', 'campus', 'indemnity', 'bloom', '162', 'cigarettes', 'programs', 'holders', 'co', 'presentations', 'parasite', 'blocked', 'attn', 'repetitions', 'sign', 'feeds', 'hygienic', 'shocks', 'draws', 'hand', 'panties', 'blown', 'milanese', 'btw', 'formal', 'bulgaria', 'auditors', 'earliest', 'exploitation', 'functioning', 'bug', 'acceded', 'strokes', 'simply', 'distance', 'undersigned', 'minimize', 'suicidal', 'nsaids', 'stops', 'one', 'rhythm', 'haircut', 'pushing', 'towards', 'acpeec', 'rays', 'arrangement', 'taiwan', 'lubricant', 'theyre', 'comics', 'slipped', 'currencies', 'hooks', 'tokyo', 'choke', 'quicker', 'equalling', '2727', 'amino', 'sunburns', 'laying', 'leaders', 'institutions', 'selfish', 'indent', 'session', 'gbp', 'leading', 'cheap', 'pleased', 'whistle', 'hbo', 'stitches', 'piano', 'anywhere', 'shall', 'airport', 'economic', 'grains', 'pills', 'riding', 'casing', 'malt', 'overboard', 'dairy', 'received', 'hospitals', 'thee', 'changed', '001', 'zones', 'rat', 'english', 'thinner', 'bunch', 'emergency', 'followers', 'fail', 'unchanged', 'f1', 'falling', 'recipient', 'stabilize', 'lay', 'oats', 'root', 'tanks', 'propagation', 'watchin', 'team', 'sunbird', 'fulfilment', 'secret', 'sat', 'du', 'cuttings', 'para', 'awareness', 'deleting', 'adhd', 'respects', 'improves', 'municipal', 'organizational', 'conduit', 'razors', 'faded', 'detection', 'gta', 'mediumhigh', 'melt', 'laboratory', 'baltimore', 'playlist', 'xray', 'stiff', 'hooves', 'struggle', 'tight', 'conclusion', 'cash', 'therein', 'impressive', 'charlie', 'leather', 'refrain', 'mud', 'charms', 'smiling', 'consists', 'emulator', 'gt', 'repeating', 'samsung', 'collector', 'knees', 'other', 'eligibility', 'adopt', 'recording', '04', 'blog', 'makeup', 'hiv', 'learning', 'drawstring', 'rinse', 'poets', '355', 'sc', 'buffy', 'destination', 'broth', '877', '58', 'taped', 'ashes', 'dropper', '452', 'eating', 'technological', 'cup', 'grown', 'distribute', 'assembly', 'strawberries', 'thirtieth', 'nights', 'montreal', 'perfection', '8501', 'cardio', 'syringe', 'sodium', 'plate', 'reducing', 'exhausting', 'no', 'player', 'concept', 'lines', 'carpets', 'reinforce', 'premises', 'speak', 'awesome', 'cleaning', 'brief', 'pittsburgh', 'spinach', 'breaths', 'premier', 'absorbing', 'flood', '60th', 'carry', 'epsom', 'rapidly', 'scarf', 'itã', 'fox', 'conservation', 'sparkling', 'reputation', 'coz', 'graphics', 'sex', 'likelihood', 'fray', 'allocated', 'gentlemen', 'flours', 'demersal', '89', 'wooded', 'pat', 'max', 'hamburger', 'charles', 'sulphur', 'herzegovina', 'higher', 'hundreds', 'juicer', 'trials', 'quality', 'possibility', 'reduce', 'youngq', 'complicated', 'judged', 'crawl', 'authorities', 'spiders', 'lump', 'softball', 'tonnes', 'podcast', 'lemon', 'cal', 'mepc', 'travelling', 'envisaged', 'mixed', 'disc', 'saithe', 'petrol', 'compliant', 'financially', 'space', 'pursue', 'quit', 'refinancing', 'dissolves', 'someones', 'well', 'abundance', 'subscribe', 'polite', 'distortions', 'cables', '30am', 'statute', 'understands', 'disappear', 'hobby', 'abbreviations', 'presses', 'asparagus', 'annoyed', 'neutralizing', 'gels', 'dealers', 'effectiveness', 'shelter', 'payroll', 'compensated', 'cape', 'bf', 'enabled', 'esophagus', 'says', 'asking', 'ratio', 'functional', 'regulated', '9', 'detector', 'unwanted', 'respected', 'crude', 'wasnt', 'pre', 'coming', 'simmer', 'wisdom', 'refused', 'remembered', 'beige', 'saturdays', 'roaches', 'subcategories', '78', 'correspond', 'indonesia', 'arrived', 'cucumber', 'victoria', 'publishers', 'yummy', 'oh', 'nerves', 'treatments', 'best', 'burger', 'pyramid', 'eggs', 'wallet', 'define', 'queen', '2', 'assessment', 'hike', 'disputes', 'add', 'bios', 'nurse', 'duration', 'keeps', 'ltd', 'streaming', 'up', 'remover', 'bench', 'auger', 'pjs', 'publications', 'supervisor', 'molar', 'addresses', 'squarespace', 'playstation', 'authority', 'expensive', 'surgeon', 'locally', 'prioritize', 'disarmament', 'animation', 'attaching', 'below', 'consignor', 'atoms', 'malic', 'strangers', 'wired', 'healed', 'mon', 'references', 'browned']\n"
          ]
        },
        {
          "output_type": "execute_result",
          "data": {
            "text/plain": [
              "array([[-0.31205258, -0.26565337, -0.03283921, ...,  0.29948512,\n",
              "        -0.56976616, -0.5301402 ],\n",
              "       [-0.00518655, -0.03727358,  0.19427937, ...,  0.199449  ,\n",
              "        -0.00404289, -0.2290101 ],\n",
              "       [ 0.02388928, -0.15647617,  0.02632035, ...,  0.06869216,\n",
              "        -0.17362761, -0.10161626],\n",
              "       ...,\n",
              "       [ 0.11466417, -0.3340318 ,  0.3690369 , ...,  0.2509292 ,\n",
              "        -0.1814387 , -0.3345276 ],\n",
              "       [-0.08393715, -1.3361847 , -0.9618745 , ..., -0.840948  ,\n",
              "         1.1770287 ,  1.029038  ],\n",
              "       [ 0.0369123 , -0.09952261,  0.25981864, ...,  0.18541683,\n",
              "        -0.07624012, -0.20733565]], dtype=float32)"
            ]
          },
          "metadata": {},
          "execution_count": 76
        }
      ]
    },
    {
      "cell_type": "code",
      "source": [
        "tsne = TSNE(n_components=3, n_iter=2000)\n",
        "tsne_embedding = tsne.fit_transform(word_vectors)"
      ],
      "metadata": {
        "id": "h1__LBdxzRcD"
      },
      "execution_count": 77,
      "outputs": []
    },
    {
      "cell_type": "code",
      "source": [
        "x, y, z = np.transpose(tsne_embedding)"
      ],
      "metadata": {
        "id": "WcQQn-4Zzp-6"
      },
      "execution_count": 78,
      "outputs": []
    },
    {
      "cell_type": "code",
      "source": [
        "fig = px.scatter_3d(x=x[:200],y=y[:200],z=z[:200],text=sample[:200])\n",
        "fig.update_traces(marker=dict(size=3,line=dict(width=2)),textfont_size=10)\n",
        "fig.show()"
      ],
      "metadata": {
        "colab": {
          "base_uri": "https://localhost:8080/",
          "height": 542
        },
        "id": "BzcthSYhzx2i",
        "outputId": "396838b3-1f2c-4bf7-9cf0-142c62a73200"
      },
      "execution_count": 79,
      "outputs": [
        {
          "output_type": "display_data",
          "data": {
            "text/html": [
              "<html>\n",
              "<head><meta charset=\"utf-8\" /></head>\n",
              "<body>\n",
              "    <div>            <script src=\"https://cdnjs.cloudflare.com/ajax/libs/mathjax/2.7.5/MathJax.js?config=TeX-AMS-MML_SVG\"></script><script type=\"text/javascript\">if (window.MathJax && window.MathJax.Hub && window.MathJax.Hub.Config) {window.MathJax.Hub.Config({SVG: {font: \"STIX-Web\"}});}</script>                <script type=\"text/javascript\">window.PlotlyConfig = {MathJaxConfig: 'local'};</script>\n",
              "        <script src=\"https://cdn.plot.ly/plotly-2.18.2.min.js\"></script>                <div id=\"8d57f179-dffb-4756-a8b2-68ba4a039052\" class=\"plotly-graph-div\" style=\"height:525px; width:100%;\"></div>            <script type=\"text/javascript\">                                    window.PLOTLYENV=window.PLOTLYENV || {};                                    if (document.getElementById(\"8d57f179-dffb-4756-a8b2-68ba4a039052\")) {                    Plotly.newPlot(                        \"8d57f179-dffb-4756-a8b2-68ba4a039052\",                        [{\"hovertemplate\":\"x=%{x}<br>y=%{y}<br>z=%{z}<br>text=%{text}<extra></extra>\",\"legendgroup\":\"\",\"marker\":{\"color\":\"#636efa\",\"symbol\":\"circle\",\"line\":{\"width\":2},\"size\":3},\"mode\":\"markers+text\",\"name\":\"\",\"scene\":\"scene\",\"showlegend\":false,\"text\":[\"birds\",\"lowered\",\"1291\",\"herewith\",\"blinking\",\"buffing\",\"holy\",\"entries\",\"suspension\",\"smartboard\",\"steam\",\"infectious\",\"expire\",\"dntbh8n\",\"performance\",\"425\",\"handy\",\"30\",\"sight\",\"vegas\",\"ladder\",\"humor\",\"salmon\",\"region\",\"spells\",\"roads\",\"commonly\",\"rape\",\"nutrient\",\"compress\",\"diverse\",\"nut\",\"1994\",\"stomach\",\"facing\",\"exchanged\",\"energy\",\"pocket\",\"hotel\",\"cities\",\"conjunction\",\"snakes\",\"cheer\",\"fractions\",\"jackets\",\"ie\",\"explaining\",\"scheme\",\"performing\",\"invalid\",\"cheating\",\"award\",\"skillet\",\"sport\",\"overly\",\"often\",\"grace\",\"wrinkles\",\"pollutants\",\"stepdad\",\"sardines\",\"religious\",\"examine\",\"iphone\",\"fungi\",\"snowman\",\"molly\",\"finder\",\"browns\",\"hormones\",\"exporting\",\"350\",\"substance\",\"supplementary\",\"revenues\",\"email\",\"abrasive\",\"selective\",\"stamp\",\"ingrown\",\"chemotherapy\",\"distort\",\"definitively\",\"936\",\"spring\",\"kale\",\"azerbaijan\",\"6302\",\"parentheses\",\"say\",\"films\",\"grip\",\"ddlovato\",\"antibacterial\",\"sprint\",\"deep\",\"taut\",\"cocktail\",\"sri\",\"ethanol\",\"relieved\",\"lets\",\"stay\",\"costs\",\"follows\",\"308c\",\"bristles\",\"returning\",\"poultrymeat\",\"pilot\",\"grand\",\"irrespective\",\"hyphen\",\"simultaneously\",\"901\",\"comfy\",\"armed\",\"checks\",\"unlawfully\",\"campus\",\"indemnity\",\"bloom\",\"162\",\"cigarettes\",\"programs\",\"holders\",\"co\",\"presentations\",\"parasite\",\"blocked\",\"attn\",\"repetitions\",\"sign\",\"feeds\",\"hygienic\",\"shocks\",\"draws\",\"hand\",\"panties\",\"blown\",\"milanese\",\"btw\",\"formal\",\"bulgaria\",\"auditors\",\"earliest\",\"exploitation\",\"functioning\",\"bug\",\"acceded\",\"strokes\",\"simply\",\"distance\",\"undersigned\",\"minimize\",\"suicidal\",\"nsaids\",\"stops\",\"one\",\"rhythm\",\"haircut\",\"pushing\",\"towards\",\"acpeec\",\"rays\",\"arrangement\",\"taiwan\",\"lubricant\",\"theyre\",\"comics\",\"slipped\",\"currencies\",\"hooks\",\"tokyo\",\"choke\",\"quicker\",\"equalling\",\"2727\",\"amino\",\"sunburns\",\"laying\",\"leaders\",\"institutions\",\"selfish\",\"indent\",\"session\",\"gbp\",\"leading\",\"cheap\",\"pleased\",\"whistle\",\"hbo\",\"stitches\",\"piano\",\"anywhere\",\"shall\",\"airport\",\"economic\",\"grains\",\"pills\"],\"x\":[-19.68623924255371,12.459416389465332,34.19629669189453,7.085076332092285,19.40675163269043,15.520262718200684,-7.358588218688965,6.759570598602295,18.917747497558594,-11.31650447845459,-37.21457290649414,5.559649467468262,30.101762771606445,25.126794815063477,4.792311668395996,31.737730026245117,-21.675363540649414,4.8645806312561035,-17.007875442504883,-6.9291911125183105,-28.520662307739258,-16.582149505615234,-17.96410369873047,7.678735256195068,0.13007454574108124,-14.13578987121582,-18.676347732543945,-18.904884338378906,6.151724338531494,-23.221450805664062,0.25189295411109924,-30.45939826965332,8.434309959411621,-30.84281349182129,-36.207801818847656,28.80707550048828,-17.412172317504883,-31.451635360717773,-16.24212074279785,13.247174263000488,3.949803590774536,-16.502182006835938,-15.465057373046875,23.28365135192871,-14.488975524902344,-8.574187278747559,38.2655143737793,12.154195785522461,-9.835246086120605,21.823633193969727,11.31597900390625,14.528303146362305,-38.50126266479492,-13.340540885925293,-15.037379264831543,-22.725648880004883,7.187014102935791,-22.934783935546875,4.988640308380127,18.292409896850586,-12.581355094909668,-2.832164764404297,4.125177383422852,-26.31671714782715,14.51899242401123,-1.4160927534103394,8.763298988342285,-21.278697967529297,25.10674285888672,-20.32561683654785,12.139801025390625,-29.3940372467041,-1.4015473127365112,8.289051055908203,28.876720428466797,-25.121700286865234,-29.353239059448242,19.553028106689453,14.780405044555664,-1.926607608795166,11.602245330810547,17.755475997924805,29.88530731201172,37.978057861328125,-36.011417388916016,-22.838293075561523,14.951565742492676,-10.798083305358887,10.39970874786377,-17.018583297729492,-6.946623802185059,-32.028602600097656,-6.355005741119385,-4.069425582885742,-2.3599555492401123,-29.496150970458984,1.9787570238113403,28.139869689941406,6.703702926635742,21.908016204833984,34.996585845947266,-17.888452529907227,-29.57733726501465,9.965516090393066,-5.6305131912231445,-0.6896741390228271,4.890254974365234,1.9556647539138794,11.721085548400879,3.954068422317505,-3.111873149871826,24.35307502746582,27.26634407043457,-21.882892608642578,-1.3363457918167114,14.049860000610352,9.519062995910645,-1.6343218088150024,22.43262481689453,1.741745948791504,20.94843101501465,-23.62917137145996,6.6516289710998535,8.253905296325684,-13.114713668823242,15.485664367675781,-5.3200154304504395,34.77816390991211,27.47606086730957,-5.4623918533325195,25.346967697143555,22.313472747802734,-29.524614334106445,-9.922487258911133,25.548913955688477,33.993194580078125,20.36373519897461,-42.144081115722656,19.65973663330078,11.460516929626465,10.106399536132812,-7.683793067932129,15.050381660461426,4.348808765411377,20.459426879882812,29.77288818359375,15.692577362060547,-0.5377994775772095,3.698401927947998,19.24871253967285,-20.12297248840332,-40.830902099609375,-36.507301330566406,12.023822784423828,-26.41529083251953,13.936680793762207,-6.810958385467529,-8.930768966674805,-32.320762634277344,-13.69402027130127,3.9709160327911377,-36.79777145385742,-36.01468276977539,24.76784896850586,-20.830745697021484,14.366827011108398,13.773741722106934,2.8614938259124756,-22.208555221557617,10.322652816772461,5.820879936218262,32.30107879638672,10.062788963317871,-0.6418161988258362,-8.724191665649414,0.5587502717971802,38.466888427734375,35.23039245605469,5.014651298522949,29.472179412841797,-2.163515329360962,27.80712127685547,6.432748317718506,-11.098745346069336,-7.23687744140625,10.3925199508667,37.24152755737305,-14.718653678894043,-21.533817291259766,1.2713303565979004,3.417816400527954,28.372257232666016,-32.251556396484375,-23.445409774780273,-29.466880798339844,17.98802947998047,-11.42835521697998,3.0470688343048096,-22.279537200927734,-6.851165294647217],\"y\":[-5.54457426071167,-20.838428497314453,9.176557540893555,12.307376861572266,-13.787561416625977,-13.773153305053711,6.556977272033691,13.77895450592041,14.893364906311035,-14.631009101867676,-6.196132183074951,25.466733932495117,5.890434265136719,-1.4101967811584473,-9.982319831848145,4.768083095550537,-7.472642421722412,26.212051391601562,2.026754856109619,11.250743865966797,-9.51956844329834,19.312440872192383,8.681755065917969,13.924151420593262,-16.9346866607666,-12.899418830871582,0.30561941862106323,13.883657455444336,-23.684175491333008,-12.105076789855957,7.419714450836182,8.402681350708008,22.935333251953125,-11.028454780578613,-11.78046989440918,13.194936752319336,-21.197065353393555,-3.5641682147979736,14.400686264038086,-31.81880760192871,30.043859481811523,-6.210904121398926,6.163957595825195,-4.21388053894043,0.27569279074668884,0.04439767822623253,-5.213728427886963,10.456960678100586,-5.672045707702637,10.880180358886719,3.632035970687866,15.552186012268066,2.7507431507110596,20.12276268005371,2.8048524856567383,-3.4087626934051514,14.086823463439941,-15.525423049926758,-24.03663444519043,1.56302011013031,11.001461029052734,1.2148927450180054,-15.162989616394043,0.06827402859926224,-12.364327430725098,2.3601460456848145,-6.014688491821289,-14.382336616516113,-7.001117706298828,-18.15081024169922,12.3912935256958,12.533535957336426,2.4526848793029785,10.022241592407227,3.6642861366271973,-1.0635591745376587,-0.5757223963737488,-16.367366790771484,29.431230545043945,-11.986637115478516,-13.264542579650879,-1.1867914199829102,3.771742105484009,12.501057624816895,-6.025910377502441,8.088194847106934,15.176647186279297,18.588193893432617,22.350341796875,8.13097095489502,12.599876403808594,-7.6150102615356445,6.402741432189941,-17.282638549804688,1.725350260734558,-7.2404561042785645,6.797018527984619,-12.959096908569336,0.29004842042922974,-4.665216445922852,-14.435133934020996,4.257424831390381,14.00773811340332,15.258339881896973,22.75389862060547,10.623566627502441,-17.805044174194336,-11.269330978393555,-21.275714874267578,13.505792617797852,21.184228897094727,-8.260285377502441,0.03643367812037468,-18.447887420654297,-3.2384116649627686,-2.997184991836548,4.684793949127197,-3.728745937347412,-1.1855961084365845,23.465442657470703,0.33179834485054016,11.147451400756836,1.8006939888000488,-16.496320724487305,-23.66095733642578,-1.8342270851135254,0.037971705198287964,-8.244244575500488,-11.751139640808105,17.538990020751953,1.2489632368087769,1.7147589921951294,-7.2642364501953125,2.3930845260620117,-11.220354080200195,-8.761490821838379,-8.311286926269531,6.078664302825928,-0.24794195592403412,8.488906860351562,4.418455123901367,10.517080307006836,-8.566489219665527,16.64434051513672,19.316972732543945,9.691031455993652,-24.223915100097656,7.521050930023193,1.895199179649353,16.469444274902344,-7.687228679656982,1.0622869729995728,9.786783218383789,8.161656379699707,-18.684009552001953,-17.984233856201172,-7.689345836639404,-8.920124053955078,2.20300030708313,-7.295010566711426,-21.5235538482666,-6.28283166885376,-16.231887817382812,-3.7987537384033203,-10.895587921142578,-8.41739559173584,9.405012130737305,-14.880507469177246,14.509710311889648,13.675311088562012,4.356050968170166,-1.6303311586380005,-23.438888549804688,8.983319282531738,0.1395445615053177,-21.753482818603516,9.973100662231445,15.025927543640137,-24.593767166137695,-11.090250968933105,15.166171073913574,-25.978551864624023,8.233277320861816,7.80673360824585,26.299158096313477,24.420610427856445,1.114253044128418,-12.584400177001953,5.300887107849121,17.276363372802734,-29.102460861206055,-1.199251651763916,13.560873031616211,-0.6283578276634216,8.717521667480469,13.168522834777832,21.61742401123047,9.911571502685547,4.190943241119385,-2.7688651084899902],\"z\":[15.971199035644531,-9.25220775604248,2.576453924179077,0.05940012261271477,-8.191145896911621,-14.32961368560791,-16.78380012512207,9.759254455566406,17.901229858398438,-8.10122299194336,2.335947275161743,10.258663177490234,22.088069915771484,-17.102066040039062,28.46933937072754,-1.4289449453353882,-13.716938972473145,26.64161491394043,-12.1267728805542,-12.982293128967285,-10.962746620178223,1.6786799430847168,13.151789665222168,24.85403823852539,-1.593241810798645,5.5405473709106445,9.964946746826172,17.367000579833984,11.340469360351562,-2.0215256214141846,7.189451217651367,2.6307315826416016,26.72101402282715,9.655367851257324,-6.888916969299316,16.63498306274414,22.377641677856445,-8.26613712310791,-20.6767635345459,-2.5515809059143066,8.589970588684082,4.533951282501221,-18.48897933959961,-5.955714702606201,-7.208209991455078,-13.245833396911621,-12.151949882507324,30.923398971557617,20.276588439941406,9.482007026672363,-25.399032592773438,24.8055477142334,12.133566856384277,-1.4189305305480957,0.02408680133521557,7.347363471984863,-6.467164993286133,7.734748363494873,19.54806900024414,-12.277647972106934,11.328405380249023,13.351118087768555,15.169548988342285,-25.56950569152832,6.115678787231445,-15.315437316894531,-8.588662147521973,-17.189035415649414,-18.303340911865234,11.395207405090332,25.826412200927734,13.034528732299805,36.415321350097656,16.90816307067871,6.0509490966796875,-29.81227684020996,5.829420566558838,2.4222190380096436,-1.8086870908737183,1.4053980112075806,0.6137368679046631,12.337376594543457,17.98737335205078,6.189822196960449,-12.529191017150879,10.618453025817871,4.561619281768799,12.217617988586426,-2.2278409004211426,-36.37724685668945,0.4354648292064667,-5.377359867095947,-22.927295684814453,-7.557693958282471,-2.8450369834899902,0.6018142104148865,-3.7185328006744385,-19.025278091430664,3.610161781311035,1.192188024520874,-9.598067283630371,-25.748212814331055,-15.341023445129395,32.80255126953125,32.092857360839844,-7.106738090515137,-17.291458129882812,-22.422096252441406,21.302913665771484,4.8489766120910645,9.64433479309082,18.134950637817383,-5.388951778411865,-18.014909744262695,5.319087982177734,-16.095258712768555,23.948991775512695,29.397672653198242,14.348814010620117,-6.998085975646973,8.913077354431152,15.991317749023438,-3.3374369144439697,-3.7402563095092773,15.963811874389648,17.609981536865234,-20.06555938720703,-2.1221742630004883,0.6248495578765869,-9.128173828125,-22.065214157104492,-5.519139289855957,-24.91618537902832,12.345940589904785,-10.18427562713623,-11.120720863342285,-4.3623857498168945,-8.50500202178955,-19.43438148498535,-17.904895782470703,6.367006778717041,-26.52774429321289,31.27037239074707,21.717681884765625,4.521900653839111,13.269433975219727,14.731683731079102,25.761938095092773,-21.251323699951172,-1.2746294736862183,-5.295058250427246,-10.150596618652344,-2.10467529296875,-5.286813259124756,6.434917449951172,3.2580108642578125,2.3786213397979736,-18.342321395874023,-18.656414031982422,-7.348829746246338,-8.927550315856934,-7.265868186950684,-9.465630531311035,5.576724529266357,11.812920570373535,24.413469314575195,5.201292991638184,-8.276308059692383,-13.668949127197266,-21.008731842041016,-15.926702499389648,8.989890098571777,-18.911521911621094,1.9622694253921509,-5.275078296661377,-2.3940744400024414,-1.115549087524414,2.5191187858581543,5.553587436676025,-7.464550971984863,25.798465728759766,0.4045255780220032,26.47310447692871,-3.8382794857025146,19.903507232666016,19.382984161376953,2.8424243927001953,13.802366256713867,-9.411846160888672,-17.668350219726562,-5.258161544799805,-12.200530052185059,-1.3305373191833496,-13.10560417175293,-5.614241600036621,36.92759704589844,-16.176559448242188,31.913970947265625,24.080585479736328,1.600739598274231],\"type\":\"scatter3d\",\"textfont\":{\"size\":10}}],                        {\"template\":{\"data\":{\"histogram2dcontour\":[{\"type\":\"histogram2dcontour\",\"colorbar\":{\"outlinewidth\":0,\"ticks\":\"\"},\"colorscale\":[[0.0,\"#0d0887\"],[0.1111111111111111,\"#46039f\"],[0.2222222222222222,\"#7201a8\"],[0.3333333333333333,\"#9c179e\"],[0.4444444444444444,\"#bd3786\"],[0.5555555555555556,\"#d8576b\"],[0.6666666666666666,\"#ed7953\"],[0.7777777777777778,\"#fb9f3a\"],[0.8888888888888888,\"#fdca26\"],[1.0,\"#f0f921\"]]}],\"choropleth\":[{\"type\":\"choropleth\",\"colorbar\":{\"outlinewidth\":0,\"ticks\":\"\"}}],\"histogram2d\":[{\"type\":\"histogram2d\",\"colorbar\":{\"outlinewidth\":0,\"ticks\":\"\"},\"colorscale\":[[0.0,\"#0d0887\"],[0.1111111111111111,\"#46039f\"],[0.2222222222222222,\"#7201a8\"],[0.3333333333333333,\"#9c179e\"],[0.4444444444444444,\"#bd3786\"],[0.5555555555555556,\"#d8576b\"],[0.6666666666666666,\"#ed7953\"],[0.7777777777777778,\"#fb9f3a\"],[0.8888888888888888,\"#fdca26\"],[1.0,\"#f0f921\"]]}],\"heatmap\":[{\"type\":\"heatmap\",\"colorbar\":{\"outlinewidth\":0,\"ticks\":\"\"},\"colorscale\":[[0.0,\"#0d0887\"],[0.1111111111111111,\"#46039f\"],[0.2222222222222222,\"#7201a8\"],[0.3333333333333333,\"#9c179e\"],[0.4444444444444444,\"#bd3786\"],[0.5555555555555556,\"#d8576b\"],[0.6666666666666666,\"#ed7953\"],[0.7777777777777778,\"#fb9f3a\"],[0.8888888888888888,\"#fdca26\"],[1.0,\"#f0f921\"]]}],\"heatmapgl\":[{\"type\":\"heatmapgl\",\"colorbar\":{\"outlinewidth\":0,\"ticks\":\"\"},\"colorscale\":[[0.0,\"#0d0887\"],[0.1111111111111111,\"#46039f\"],[0.2222222222222222,\"#7201a8\"],[0.3333333333333333,\"#9c179e\"],[0.4444444444444444,\"#bd3786\"],[0.5555555555555556,\"#d8576b\"],[0.6666666666666666,\"#ed7953\"],[0.7777777777777778,\"#fb9f3a\"],[0.8888888888888888,\"#fdca26\"],[1.0,\"#f0f921\"]]}],\"contourcarpet\":[{\"type\":\"contourcarpet\",\"colorbar\":{\"outlinewidth\":0,\"ticks\":\"\"}}],\"contour\":[{\"type\":\"contour\",\"colorbar\":{\"outlinewidth\":0,\"ticks\":\"\"},\"colorscale\":[[0.0,\"#0d0887\"],[0.1111111111111111,\"#46039f\"],[0.2222222222222222,\"#7201a8\"],[0.3333333333333333,\"#9c179e\"],[0.4444444444444444,\"#bd3786\"],[0.5555555555555556,\"#d8576b\"],[0.6666666666666666,\"#ed7953\"],[0.7777777777777778,\"#fb9f3a\"],[0.8888888888888888,\"#fdca26\"],[1.0,\"#f0f921\"]]}],\"surface\":[{\"type\":\"surface\",\"colorbar\":{\"outlinewidth\":0,\"ticks\":\"\"},\"colorscale\":[[0.0,\"#0d0887\"],[0.1111111111111111,\"#46039f\"],[0.2222222222222222,\"#7201a8\"],[0.3333333333333333,\"#9c179e\"],[0.4444444444444444,\"#bd3786\"],[0.5555555555555556,\"#d8576b\"],[0.6666666666666666,\"#ed7953\"],[0.7777777777777778,\"#fb9f3a\"],[0.8888888888888888,\"#fdca26\"],[1.0,\"#f0f921\"]]}],\"mesh3d\":[{\"type\":\"mesh3d\",\"colorbar\":{\"outlinewidth\":0,\"ticks\":\"\"}}],\"scatter\":[{\"fillpattern\":{\"fillmode\":\"overlay\",\"size\":10,\"solidity\":0.2},\"type\":\"scatter\"}],\"parcoords\":[{\"type\":\"parcoords\",\"line\":{\"colorbar\":{\"outlinewidth\":0,\"ticks\":\"\"}}}],\"scatterpolargl\":[{\"type\":\"scatterpolargl\",\"marker\":{\"colorbar\":{\"outlinewidth\":0,\"ticks\":\"\"}}}],\"bar\":[{\"error_x\":{\"color\":\"#2a3f5f\"},\"error_y\":{\"color\":\"#2a3f5f\"},\"marker\":{\"line\":{\"color\":\"#E5ECF6\",\"width\":0.5},\"pattern\":{\"fillmode\":\"overlay\",\"size\":10,\"solidity\":0.2}},\"type\":\"bar\"}],\"scattergeo\":[{\"type\":\"scattergeo\",\"marker\":{\"colorbar\":{\"outlinewidth\":0,\"ticks\":\"\"}}}],\"scatterpolar\":[{\"type\":\"scatterpolar\",\"marker\":{\"colorbar\":{\"outlinewidth\":0,\"ticks\":\"\"}}}],\"histogram\":[{\"marker\":{\"pattern\":{\"fillmode\":\"overlay\",\"size\":10,\"solidity\":0.2}},\"type\":\"histogram\"}],\"scattergl\":[{\"type\":\"scattergl\",\"marker\":{\"colorbar\":{\"outlinewidth\":0,\"ticks\":\"\"}}}],\"scatter3d\":[{\"type\":\"scatter3d\",\"line\":{\"colorbar\":{\"outlinewidth\":0,\"ticks\":\"\"}},\"marker\":{\"colorbar\":{\"outlinewidth\":0,\"ticks\":\"\"}}}],\"scattermapbox\":[{\"type\":\"scattermapbox\",\"marker\":{\"colorbar\":{\"outlinewidth\":0,\"ticks\":\"\"}}}],\"scatterternary\":[{\"type\":\"scatterternary\",\"marker\":{\"colorbar\":{\"outlinewidth\":0,\"ticks\":\"\"}}}],\"scattercarpet\":[{\"type\":\"scattercarpet\",\"marker\":{\"colorbar\":{\"outlinewidth\":0,\"ticks\":\"\"}}}],\"carpet\":[{\"aaxis\":{\"endlinecolor\":\"#2a3f5f\",\"gridcolor\":\"white\",\"linecolor\":\"white\",\"minorgridcolor\":\"white\",\"startlinecolor\":\"#2a3f5f\"},\"baxis\":{\"endlinecolor\":\"#2a3f5f\",\"gridcolor\":\"white\",\"linecolor\":\"white\",\"minorgridcolor\":\"white\",\"startlinecolor\":\"#2a3f5f\"},\"type\":\"carpet\"}],\"table\":[{\"cells\":{\"fill\":{\"color\":\"#EBF0F8\"},\"line\":{\"color\":\"white\"}},\"header\":{\"fill\":{\"color\":\"#C8D4E3\"},\"line\":{\"color\":\"white\"}},\"type\":\"table\"}],\"barpolar\":[{\"marker\":{\"line\":{\"color\":\"#E5ECF6\",\"width\":0.5},\"pattern\":{\"fillmode\":\"overlay\",\"size\":10,\"solidity\":0.2}},\"type\":\"barpolar\"}],\"pie\":[{\"automargin\":true,\"type\":\"pie\"}]},\"layout\":{\"autotypenumbers\":\"strict\",\"colorway\":[\"#636efa\",\"#EF553B\",\"#00cc96\",\"#ab63fa\",\"#FFA15A\",\"#19d3f3\",\"#FF6692\",\"#B6E880\",\"#FF97FF\",\"#FECB52\"],\"font\":{\"color\":\"#2a3f5f\"},\"hovermode\":\"closest\",\"hoverlabel\":{\"align\":\"left\"},\"paper_bgcolor\":\"white\",\"plot_bgcolor\":\"#E5ECF6\",\"polar\":{\"bgcolor\":\"#E5ECF6\",\"angularaxis\":{\"gridcolor\":\"white\",\"linecolor\":\"white\",\"ticks\":\"\"},\"radialaxis\":{\"gridcolor\":\"white\",\"linecolor\":\"white\",\"ticks\":\"\"}},\"ternary\":{\"bgcolor\":\"#E5ECF6\",\"aaxis\":{\"gridcolor\":\"white\",\"linecolor\":\"white\",\"ticks\":\"\"},\"baxis\":{\"gridcolor\":\"white\",\"linecolor\":\"white\",\"ticks\":\"\"},\"caxis\":{\"gridcolor\":\"white\",\"linecolor\":\"white\",\"ticks\":\"\"}},\"coloraxis\":{\"colorbar\":{\"outlinewidth\":0,\"ticks\":\"\"}},\"colorscale\":{\"sequential\":[[0.0,\"#0d0887\"],[0.1111111111111111,\"#46039f\"],[0.2222222222222222,\"#7201a8\"],[0.3333333333333333,\"#9c179e\"],[0.4444444444444444,\"#bd3786\"],[0.5555555555555556,\"#d8576b\"],[0.6666666666666666,\"#ed7953\"],[0.7777777777777778,\"#fb9f3a\"],[0.8888888888888888,\"#fdca26\"],[1.0,\"#f0f921\"]],\"sequentialminus\":[[0.0,\"#0d0887\"],[0.1111111111111111,\"#46039f\"],[0.2222222222222222,\"#7201a8\"],[0.3333333333333333,\"#9c179e\"],[0.4444444444444444,\"#bd3786\"],[0.5555555555555556,\"#d8576b\"],[0.6666666666666666,\"#ed7953\"],[0.7777777777777778,\"#fb9f3a\"],[0.8888888888888888,\"#fdca26\"],[1.0,\"#f0f921\"]],\"diverging\":[[0,\"#8e0152\"],[0.1,\"#c51b7d\"],[0.2,\"#de77ae\"],[0.3,\"#f1b6da\"],[0.4,\"#fde0ef\"],[0.5,\"#f7f7f7\"],[0.6,\"#e6f5d0\"],[0.7,\"#b8e186\"],[0.8,\"#7fbc41\"],[0.9,\"#4d9221\"],[1,\"#276419\"]]},\"xaxis\":{\"gridcolor\":\"white\",\"linecolor\":\"white\",\"ticks\":\"\",\"title\":{\"standoff\":15},\"zerolinecolor\":\"white\",\"automargin\":true,\"zerolinewidth\":2},\"yaxis\":{\"gridcolor\":\"white\",\"linecolor\":\"white\",\"ticks\":\"\",\"title\":{\"standoff\":15},\"zerolinecolor\":\"white\",\"automargin\":true,\"zerolinewidth\":2},\"scene\":{\"xaxis\":{\"backgroundcolor\":\"#E5ECF6\",\"gridcolor\":\"white\",\"linecolor\":\"white\",\"showbackground\":true,\"ticks\":\"\",\"zerolinecolor\":\"white\",\"gridwidth\":2},\"yaxis\":{\"backgroundcolor\":\"#E5ECF6\",\"gridcolor\":\"white\",\"linecolor\":\"white\",\"showbackground\":true,\"ticks\":\"\",\"zerolinecolor\":\"white\",\"gridwidth\":2},\"zaxis\":{\"backgroundcolor\":\"#E5ECF6\",\"gridcolor\":\"white\",\"linecolor\":\"white\",\"showbackground\":true,\"ticks\":\"\",\"zerolinecolor\":\"white\",\"gridwidth\":2}},\"shapedefaults\":{\"line\":{\"color\":\"#2a3f5f\"}},\"annotationdefaults\":{\"arrowcolor\":\"#2a3f5f\",\"arrowhead\":0,\"arrowwidth\":1},\"geo\":{\"bgcolor\":\"white\",\"landcolor\":\"#E5ECF6\",\"subunitcolor\":\"white\",\"showland\":true,\"showlakes\":true,\"lakecolor\":\"white\"},\"title\":{\"x\":0.05},\"mapbox\":{\"style\":\"light\"}}},\"scene\":{\"domain\":{\"x\":[0.0,1.0],\"y\":[0.0,1.0]},\"xaxis\":{\"title\":{\"text\":\"x\"}},\"yaxis\":{\"title\":{\"text\":\"y\"}},\"zaxis\":{\"title\":{\"text\":\"z\"}}},\"legend\":{\"tracegroupgap\":0},\"margin\":{\"t\":60}},                        {\"responsive\": true}                    ).then(function(){\n",
              "                            \n",
              "var gd = document.getElementById('8d57f179-dffb-4756-a8b2-68ba4a039052');\n",
              "var x = new MutationObserver(function (mutations, observer) {{\n",
              "        var display = window.getComputedStyle(gd).display;\n",
              "        if (!display || display === 'none') {{\n",
              "            console.log([gd, 'removed!']);\n",
              "            Plotly.purge(gd);\n",
              "            observer.disconnect();\n",
              "        }}\n",
              "}});\n",
              "\n",
              "// Listen for the removal of the full notebook cells\n",
              "var notebookContainer = gd.closest('#notebook-container');\n",
              "if (notebookContainer) {{\n",
              "    x.observe(notebookContainer, {childList: true});\n",
              "}}\n",
              "\n",
              "// Listen for the clearing of the current output cell\n",
              "var outputEl = gd.closest('.output');\n",
              "if (outputEl) {{\n",
              "    x.observe(outputEl, {childList: true});\n",
              "}}\n",
              "\n",
              "                        })                };                            </script>        </div>\n",
              "</body>\n",
              "</html>"
            ]
          },
          "metadata": {}
        }
      ]
    },
    {
      "cell_type": "markdown",
      "source": [
        "# Classifying with word embeddings"
      ],
      "metadata": {
        "id": "Q_zbFzm-4JmS"
      }
    },
    {
      "cell_type": "code",
      "source": [
        "import gensim.downloader as api\n",
        "import string\n",
        "import re\n",
        "from sklearn.ensemble import ExtraTreesClassifier\n",
        "import matplotlib.pyplot as plt  \n",
        "from sklearn.metrics import ConfusionMatrixDisplay\n",
        "from sklearn.metrics import accuracy_score\n",
        "from sklearn.model_selection import train_test_split\n"
      ],
      "metadata": {
        "id": "-ELUm_BEmB5z"
      },
      "execution_count": 84,
      "outputs": []
    },
    {
      "cell_type": "code",
      "source": [
        "df.sample(frac=1)\n",
        "n=len(df)\n",
        "df['label'] = df['label'].replace({'generated':0, 'human':1})\n",
        "# df['label'] = df['label'].replace({'A':0, 'B':1,'C':2,'D':3,'E':4,'F':5,})\n",
        "train, test = train_test_split(df, test_size=0.3)\n",
        "valid, test = train_test_split(df, test_size=0.6)"
      ],
      "metadata": {
        "id": "KF2Efq9U4I9Q"
      },
      "execution_count": 85,
      "outputs": []
    },
    {
      "cell_type": "code",
      "source": [
        "model_wiki = api.load(\"glove-wiki-gigaword-50\")"
      ],
      "metadata": {
        "id": "fo-I0J_r57SL"
      },
      "execution_count": 86,
      "outputs": []
    },
    {
      "cell_type": "code",
      "source": [
        "\n",
        "regex = '[' + string.punctuation + ']'\n",
        "\n",
        "def vectorize(docs, embedding_model=model_wiki, useSum=False):\n",
        "    vectors = np.zeros((len(docs),50))\n",
        "    for i in range(len(docs)):\n",
        "        tokens = re.sub(regex, '', docs[i].lower()).split()\n",
        "        embeddings = [embedding_model.get_vector(token) for token in tokens if token in embedding_model]\n",
        "        if (len(embeddings) > 0):\n",
        "            if (useSum): \n",
        "                vectors[i] = sum(embeddings)\n",
        "            else:\n",
        "                vectors[i] = np.mean(embeddings, axis=0)\n",
        "    return vectors"
      ],
      "metadata": {
        "id": "6EESZJ3Q484e"
      },
      "execution_count": 87,
      "outputs": []
    },
    {
      "cell_type": "code",
      "source": [
        "train_x_vector = vectorize(np.array(train.text))"
      ],
      "metadata": {
        "id": "nyTiPh9b5SH5"
      },
      "execution_count": 88,
      "outputs": []
    },
    {
      "cell_type": "code",
      "source": [
        "train_y=train.label"
      ],
      "metadata": {
        "id": "-A3bm1fG7FGC"
      },
      "execution_count": 89,
      "outputs": []
    },
    {
      "cell_type": "code",
      "source": [
        "\n",
        "lr_model =ExtraTreesClassifier(n_estimators=500).fit(train_x_vector, train_y)\n",
        "print(lr_model)"
      ],
      "metadata": {
        "colab": {
          "base_uri": "https://localhost:8080/"
        },
        "id": "55o-kw5F7Mq5",
        "outputId": "cea5b29b-d988-4d74-b4d7-75db6ec260bb"
      },
      "execution_count": 90,
      "outputs": [
        {
          "output_type": "stream",
          "name": "stdout",
          "text": [
            "ExtraTreesClassifier(n_estimators=500)\n"
          ]
        }
      ]
    },
    {
      "cell_type": "code",
      "source": [
        "valid_x_vector = vectorize(np.array(test.text))\n",
        "pred_y = lr_model.predict(valid_x_vector)\n",
        "\n",
        "print(f'Accuracy: {accuracy_score(test.label, pred_y)}')\n",
        "\n",
        "\n",
        "ConfusionMatrixDisplay.from_estimator(lr_model, valid_x_vector, test.label, values_format='d')  \n",
        "plt.show()"
      ],
      "metadata": {
        "colab": {
          "base_uri": "https://localhost:8080/",
          "height": 466
        },
        "id": "bivx54B87drd",
        "outputId": "3ffe9a9d-4efa-4a6c-cfd7-9143e24938d5"
      },
      "execution_count": 91,
      "outputs": [
        {
          "output_type": "stream",
          "name": "stdout",
          "text": [
            "Accuracy: 0.9266262865021914\n"
          ]
        },
        {
          "output_type": "display_data",
          "data": {
            "text/plain": [
              "<Figure size 640x480 with 2 Axes>"
            ],
            "image/png": "[encoded data removed]"
          },
          "metadata": {}
        }
      ]
    },
    {
      "cell_type": "raw",
      "source": [
        "# Document vectorisation"
      ],
      "metadata": {
        "id": "5it3X0dXmgeR"
      }
    },
    {
      "cell_type": "markdown",
      "source": [
        "We create a vectorizer and we fit our data into."
      ],
      "metadata": {
        "id": "Ls10SZmamgeS"
      }
    },
    {
      "cell_type": "code",
      "source": [
        "from sklearn.feature_extraction.text import TfidfVectorizer\n",
        "from sklearn.cluster import KMeans\n",
        "from sklearn import metrics\n",
        "\n",
        "vectorizer = TfidfVectorizer(max_df=0.8, min_df=5, stop_words='english')"
      ],
      "metadata": {
        "execution": {
          "iopub.status.busy": "2023-05-03T10:27:23.089764Z",
          "iopub.execute_input": "2023-05-03T10:27:23.090251Z",
          "iopub.status.idle": "2023-05-03T10:27:23.108412Z",
          "shell.execute_reply.started": "2023-05-03T10:27:23.090167Z",
          "shell.execute_reply": "2023-05-03T10:27:23.107362Z"
        },
        "trusted": true,
        "id": "8DshH8rEmgeS"
      },
      "execution_count": 92,
      "outputs": []
    },
    {
      "cell_type": "code",
      "source": [
        "documents=np.array(df['text'])\n",
        "labels = np.array(df['label'])"
      ],
      "metadata": {
        "execution": {
          "iopub.status.busy": "2023-05-03T10:27:23.505845Z",
          "iopub.execute_input": "2023-05-03T10:27:23.506748Z",
          "iopub.status.idle": "2023-05-03T10:27:23.514133Z",
          "shell.execute_reply.started": "2023-05-03T10:27:23.506705Z",
          "shell.execute_reply": "2023-05-03T10:27:23.513149Z"
        },
        "trusted": true,
        "id": "v6ukRHEemgeS"
      },
      "execution_count": 93,
      "outputs": []
    },
    {
      "cell_type": "code",
      "source": [
        "\n",
        "vectorizer.fit(documents)\n",
        "vocab = vectorizer.get_feature_names_out()\n",
        "print(f\"Length of vocabulary: {len(vocab)}\")"
      ],
      "metadata": {
        "execution": {
          "iopub.status.busy": "2023-05-03T10:27:43.778582Z",
          "iopub.execute_input": "2023-05-03T10:27:43.779347Z"
        },
        "trusted": true,
        "id": "SCS38RxMmgeS",
        "colab": {
          "base_uri": "https://localhost:8080/"
        },
        "outputId": "ccb9e723-90d3-495e-bc3e-5fba8f8826b3"
      },
      "execution_count": 94,
      "outputs": [
        {
          "output_type": "stream",
          "name": "stdout",
          "text": [
            "Length of vocabulary: 11557\n"
          ]
        }
      ]
    },
    {
      "cell_type": "markdown",
      "source": [
        "We obtained a relative small vocubalary only 11557 words."
      ],
      "metadata": {
        "id": "kswNF5ymmgeS"
      }
    },
    {
      "cell_type": "code",
      "source": [
        "vector_documents = vectorizer.transform(documents)"
      ],
      "metadata": {
        "execution": {
          "iopub.status.busy": "2023-05-03T10:27:01.919927Z",
          "iopub.execute_input": "2023-05-03T10:27:01.921018Z",
          "iopub.status.idle": "2023-05-03T10:27:03.068250Z",
          "shell.execute_reply.started": "2023-05-03T10:27:01.920975Z",
          "shell.execute_reply": "2023-05-03T10:27:03.067151Z"
        },
        "trusted": true,
        "id": "XGXAUzrUmgeS"
      },
      "execution_count": 95,
      "outputs": []
    },
    {
      "cell_type": "markdown",
      "source": [
        "we try to see if the actual class can be classified simply by using a cluster algorithm.\n"
      ],
      "metadata": {
        "id": "3UI-NL5umgeT"
      }
    },
    {
      "cell_type": "code",
      "source": [
        "sorted([(vocab[j], vector_documents[0, j]) for j in vector_documents[0].nonzero()[1]], key=lambda x: -x[1])"
      ],
      "metadata": {
        "execution": {
          "iopub.status.busy": "2023-05-01T16:49:45.164455Z",
          "iopub.execute_input": "2023-05-01T16:49:45.165086Z",
          "iopub.status.idle": "2023-05-01T16:49:45.180612Z",
          "shell.execute_reply.started": "2023-05-01T16:49:45.165049Z",
          "shell.execute_reply": "2023-05-01T16:49:45.179427Z"
        },
        "trusted": true,
        "id": "U1whaeErmgeT",
        "outputId": "13b8beb2-5f95-4892-c48f-c43ef3ee385a",
        "colab": {
          "base_uri": "https://localhost:8080/"
        }
      },
      "execution_count": 96,
      "outputs": [
        {
          "output_type": "execute_result",
          "data": {
            "text/plain": [
              "[('stops', 0.5175669643660845),\n",
              " ('engine', 0.4398088411851892),\n",
              " ('safe', 0.3649985322600579),\n",
              " ('stop', 0.3635661001777833),\n",
              " ('wait', 0.3535613203867755),\n",
              " ('check', 0.3108401996160741),\n",
              " ('need', 0.22729088387073065)]"
            ]
          },
          "metadata": {},
          "execution_count": 96
        }
      ]
    },
    {
      "cell_type": "code",
      "source": [
        "for i in range(1,200):\n",
        "    if (labels[i] == labels[1]):\n",
        "      print('Similarity:', vector_documents[0].multiply(vector_documents[i]).sum())"
      ],
      "metadata": {
        "execution": {
          "iopub.status.busy": "2023-05-01T16:49:45.185086Z",
          "iopub.execute_input": "2023-05-01T16:49:45.185742Z",
          "iopub.status.idle": "2023-05-01T16:49:45.250919Z",
          "shell.execute_reply.started": "2023-05-01T16:49:45.185704Z",
          "shell.execute_reply": "2023-05-01T16:49:45.249666Z"
        },
        "trusted": true,
        "id": "0nxFF0NTmgeT",
        "outputId": "9c62ae87-8101-4a22-fa85-620f11bd186c",
        "colab": {
          "base_uri": "https://localhost:8080/"
        }
      },
      "execution_count": 97,
      "outputs": [
        {
          "output_type": "stream",
          "name": "stdout",
          "text": [
            "Similarity: 0.0\n",
            "Similarity: 0.0\n",
            "Similarity: 0.0\n",
            "Similarity: 0.0\n",
            "Similarity: 0.0\n",
            "Similarity: 0.0\n",
            "Similarity: 0.0\n",
            "Similarity: 0.0\n",
            "Similarity: 0.0\n",
            "Similarity: 0.0\n",
            "Similarity: 0.0\n",
            "Similarity: 0.0\n",
            "Similarity: 0.0\n",
            "Similarity: 0.0\n",
            "Similarity: 0.0\n",
            "Similarity: 0.0\n",
            "Similarity: 0.021988643765721246\n",
            "Similarity: 0.0\n",
            "Similarity: 0.0\n",
            "Similarity: 0.0\n",
            "Similarity: 0.0\n",
            "Similarity: 0.0\n",
            "Similarity: 0.0\n",
            "Similarity: 0.0\n",
            "Similarity: 0.0\n",
            "Similarity: 0.0\n",
            "Similarity: 0.023254981000023926\n",
            "Similarity: 0.0\n",
            "Similarity: 0.0\n",
            "Similarity: 0.05465414018686425\n",
            "Similarity: 0.0\n",
            "Similarity: 0.0\n",
            "Similarity: 0.04271130589763102\n",
            "Similarity: 0.0\n",
            "Similarity: 0.0\n",
            "Similarity: 0.0\n",
            "Similarity: 0.0\n",
            "Similarity: 0.0\n",
            "Similarity: 0.0\n",
            "Similarity: 0.0\n",
            "Similarity: 0.0\n",
            "Similarity: 0.0\n",
            "Similarity: 0.0\n",
            "Similarity: 0.0\n",
            "Similarity: 0.0\n",
            "Similarity: 0.0\n",
            "Similarity: 0.0\n",
            "Similarity: 0.0\n",
            "Similarity: 0.0\n",
            "Similarity: 0.0\n",
            "Similarity: 0.0\n",
            "Similarity: 0.0\n",
            "Similarity: 0.0\n",
            "Similarity: 0.0\n",
            "Similarity: 0.0\n",
            "Similarity: 0.0\n",
            "Similarity: 0.0\n",
            "Similarity: 0.0\n",
            "Similarity: 0.0\n",
            "Similarity: 0.0\n",
            "Similarity: 0.0\n",
            "Similarity: 0.0\n",
            "Similarity: 0.0\n",
            "Similarity: 0.09499333962920596\n",
            "Similarity: 0.0\n",
            "Similarity: 0.0\n",
            "Similarity: 0.0\n",
            "Similarity: 0.0\n",
            "Similarity: 0.0\n",
            "Similarity: 0.0\n",
            "Similarity: 0.0\n",
            "Similarity: 0.0\n",
            "Similarity: 0.0\n",
            "Similarity: 0.0\n",
            "Similarity: 0.0\n",
            "Similarity: 0.0\n",
            "Similarity: 0.0\n",
            "Similarity: 0.0\n",
            "Similarity: 0.0\n",
            "Similarity: 0.0\n",
            "Similarity: 0.0\n",
            "Similarity: 0.0\n",
            "Similarity: 0.0\n",
            "Similarity: 0.0\n",
            "Similarity: 0.0\n",
            "Similarity: 0.0\n",
            "Similarity: 0.0\n",
            "Similarity: 0.0\n",
            "Similarity: 0.0\n",
            "Similarity: 0.0\n",
            "Similarity: 0.0\n",
            "Similarity: 0.04725421590441509\n",
            "Similarity: 0.0\n",
            "Similarity: 0.0\n",
            "Similarity: 0.0\n",
            "Similarity: 0.0\n"
          ]
        }
      ]
    },
    {
      "cell_type": "markdown",
      "source": [
        "As we can see from this results using vectorization we can't achieve good results. Sentences with the same label share almost 0 similarity"
      ],
      "metadata": {
        "id": "--9H0BbPmgeT"
      }
    },
    {
      "cell_type": "code",
      "source": [
        "k = len(set(labels))\n",
        "kmeans = KMeans(n_clusters=k, max_iter=100, n_init=2, verbose=True, random_state=2307)\n",
        "kmeans.fit(vector_documents)"
      ],
      "metadata": {
        "execution": {
          "iopub.status.busy": "2023-05-01T16:49:45.255776Z",
          "iopub.execute_input": "2023-05-01T16:49:45.258232Z",
          "iopub.status.idle": "2023-05-01T16:49:46.559863Z",
          "shell.execute_reply.started": "2023-05-01T16:49:45.258191Z",
          "shell.execute_reply": "2023-05-01T16:49:46.558614Z"
        },
        "trusted": true,
        "id": "la-Dd6eimgeT",
        "outputId": "0bcf175f-9299-449c-80c0-f65d265d93d9",
        "colab": {
          "base_uri": "https://localhost:8080/",
          "height": 1000
        }
      },
      "execution_count": 98,
      "outputs": [
        {
          "output_type": "stream",
          "name": "stdout",
          "text": [
            "Initialization complete\n",
            "Iteration 0, inertia 67084.4746223416.\n",
            "Iteration 1, inertia 33392.09847932085.\n",
            "Iteration 2, inertia 33308.75747079349.\n",
            "Iteration 3, inertia 33186.99125674895.\n",
            "Iteration 4, inertia 32846.08480709024.\n",
            "Iteration 5, inertia 32738.428579477193.\n",
            "Iteration 6, inertia 32701.090729042884.\n",
            "Iteration 7, inertia 32684.420324122097.\n",
            "Iteration 8, inertia 32676.32200954779.\n",
            "Iteration 9, inertia 32672.259157364006.\n",
            "Iteration 10, inertia 32670.244503493144.\n",
            "Iteration 11, inertia 32669.285943947547.\n",
            "Iteration 12, inertia 32668.707969005707.\n",
            "Iteration 13, inertia 32668.341695537827.\n",
            "Iteration 14, inertia 32668.161644015836.\n",
            "Iteration 15, inertia 32668.11891182691.\n",
            "Iteration 16, inertia 32668.111221099527.\n",
            "Iteration 17, inertia 32668.09879881628.\n",
            "Iteration 18, inertia 32668.07836230555.\n",
            "Iteration 19, inertia 32668.063546554517.\n",
            "Iteration 20, inertia 32668.054540119712.\n",
            "Iteration 21, inertia 32668.043044294143.\n",
            "Iteration 22, inertia 32668.036725095088.\n",
            "Iteration 23, inertia 32668.03527672193.\n",
            "Iteration 24, inertia 32668.033384526432.\n",
            "Iteration 25, inertia 32668.032303848704.\n",
            "Converged at iteration 25: strict convergence.\n",
            "Initialization complete\n",
            "Iteration 0, inertia 66033.34863116863.\n",
            "Iteration 1, inertia 33372.106736995396.\n",
            "Iteration 2, inertia 33129.22189466699.\n",
            "Iteration 3, inertia 32783.93509070299.\n",
            "Iteration 4, inertia 32719.015473751424.\n",
            "Iteration 5, inertia 32692.074410414116.\n",
            "Iteration 6, inertia 32680.258352192403.\n",
            "Iteration 7, inertia 32674.200029051663.\n",
            "Iteration 8, inertia 32671.127629643088.\n",
            "Iteration 9, inertia 32669.696894320878.\n",
            "Iteration 10, inertia 32668.92736941272.\n",
            "Iteration 11, inertia 32668.467901109332.\n",
            "Iteration 12, inertia 32668.21313800765.\n",
            "Iteration 13, inertia 32668.12761438411.\n",
            "Iteration 14, inertia 32668.11350919918.\n",
            "Iteration 15, inertia 32668.10287319068.\n",
            "Iteration 16, inertia 32668.08516258406.\n",
            "Iteration 17, inertia 32668.066586331777.\n",
            "Iteration 18, inertia 32668.059676891447.\n",
            "Iteration 19, inertia 32668.049546773436.\n",
            "Iteration 20, inertia 32668.039583072383.\n",
            "Iteration 21, inertia 32668.035921617884.\n",
            "Iteration 22, inertia 32668.034766238496.\n",
            "Iteration 23, inertia 32668.03258446933.\n",
            "Iteration 24, inertia 32668.032303848704.\n",
            "Converged at iteration 24: strict convergence.\n"
          ]
        },
        {
          "output_type": "execute_result",
          "data": {
            "text/plain": [
              "KMeans(max_iter=100, n_clusters=2, n_init=2, random_state=2307, verbose=True)"
            ],
            "text/html": [
              "<style>#sk-container-id-2 {color: black;background-color: white;}#sk-container-id-2 pre{padding: 0;}#sk-container-id-2 div.sk-toggleable {background-color: white;}#sk-container-id-2 label.sk-toggleable__label {cursor: pointer;display: block;width: 100%;margin-bottom: 0;padding: 0.3em;box-sizing: border-box;text-align: center;}#sk-container-id-2 label.sk-toggleable__label-arrow:before {content: \"▸\";float: left;margin-right: 0.25em;color: #696969;}#sk-container-id-2 label.sk-toggleable__label-arrow:hover:before {color: black;}#sk-container-id-2 div.sk-estimator:hover label.sk-toggleable__label-arrow:before {color: black;}#sk-container-id-2 div.sk-toggleable__content {max-height: 0;max-width: 0;overflow: hidden;text-align: left;background-color: #f0f8ff;}#sk-container-id-2 div.sk-toggleable__content pre {margin: 0.2em;color: black;border-radius: 0.25em;background-color: #f0f8ff;}#sk-container-id-2 input.sk-toggleable__control:checked~div.sk-toggleable__content {max-height: 200px;max-width: 100%;overflow: auto;}#sk-container-id-2 input.sk-toggleable__control:checked~label.sk-toggleable__label-arrow:before {content: \"▾\";}#sk-container-id-2 div.sk-estimator input.sk-toggleable__control:checked~label.sk-toggleable__label {background-color: #d4ebff;}#sk-container-id-2 div.sk-label input.sk-toggleable__control:checked~label.sk-toggleable__label {background-color: #d4ebff;}#sk-container-id-2 input.sk-hidden--visually {border: 0;clip: rect(1px 1px 1px 1px);clip: rect(1px, 1px, 1px, 1px);height: 1px;margin: -1px;overflow: hidden;padding: 0;position: absolute;width: 1px;}#sk-container-id-2 div.sk-estimator {font-family: monospace;background-color: #f0f8ff;border: 1px dotted black;border-radius: 0.25em;box-sizing: border-box;margin-bottom: 0.5em;}#sk-container-id-2 div.sk-estimator:hover {background-color: #d4ebff;}#sk-container-id-2 div.sk-parallel-item::after {content: \"\";width: 100%;border-bottom: 1px solid gray;flex-grow: 1;}#sk-container-id-2 div.sk-label:hover label.sk-toggleable__label {background-color: #d4ebff;}#sk-container-id-2 div.sk-serial::before {content: \"\";position: absolute;border-left: 1px solid gray;box-sizing: border-box;top: 0;bottom: 0;left: 50%;z-index: 0;}#sk-container-id-2 div.sk-serial {display: flex;flex-direction: column;align-items: center;background-color: white;padding-right: 0.2em;padding-left: 0.2em;position: relative;}#sk-container-id-2 div.sk-item {position: relative;z-index: 1;}#sk-container-id-2 div.sk-parallel {display: flex;align-items: stretch;justify-content: center;background-color: white;position: relative;}#sk-container-id-2 div.sk-item::before, #sk-container-id-2 div.sk-parallel-item::before {content: \"\";position: absolute;border-left: 1px solid gray;box-sizing: border-box;top: 0;bottom: 0;left: 50%;z-index: -1;}#sk-container-id-2 div.sk-parallel-item {display: flex;flex-direction: column;z-index: 1;position: relative;background-color: white;}#sk-container-id-2 div.sk-parallel-item:first-child::after {align-self: flex-end;width: 50%;}#sk-container-id-2 div.sk-parallel-item:last-child::after {align-self: flex-start;width: 50%;}#sk-container-id-2 div.sk-parallel-item:only-child::after {width: 0;}#sk-container-id-2 div.sk-dashed-wrapped {border: 1px dashed gray;margin: 0 0.4em 0.5em 0.4em;box-sizing: border-box;padding-bottom: 0.4em;background-color: white;}#sk-container-id-2 div.sk-label label {font-family: monospace;font-weight: bold;display: inline-block;line-height: 1.2em;}#sk-container-id-2 div.sk-label-container {text-align: center;}#sk-container-id-2 div.sk-container {/* jupyter's `normalize.less` sets `[hidden] { display: none; }` but bootstrap.min.css set `[hidden] { display: none !important; }` so we also need the `!important` here to be able to override the default hidden behavior on the sphinx rendered scikit-learn.org. See: https://github.com/scikit-learn/scikit-learn/issues/21755 */display: inline-block !important;position: relative;}#sk-container-id-2 div.sk-text-repr-fallback {display: none;}</style><div id=\"sk-container-id-2\" class=\"sk-top-container\"><div class=\"sk-text-repr-fallback\"><pre>KMeans(max_iter=100, n_clusters=2, n_init=2, random_state=2307, verbose=True)</pre><b>In a Jupyter environment, please rerun this cell to show the HTML representation or trust the notebook. <br />On GitHub, the HTML representation is unable to render, please try loading this page with nbviewer.org.</b></div><div class=\"sk-container\" hidden><div class=\"sk-item\"><div class=\"sk-estimator sk-toggleable\"><input class=\"sk-toggleable__control sk-hidden--visually\" id=\"sk-estimator-id-2\" type=\"checkbox\" checked><label for=\"sk-estimator-id-2\" class=\"sk-toggleable__label sk-toggleable__label-arrow\">KMeans</label><div class=\"sk-toggleable__content\"><pre>KMeans(max_iter=100, n_clusters=2, n_init=2, random_state=2307, verbose=True)</pre></div></div></div></div></div>"
            ]
          },
          "metadata": {},
          "execution_count": 98
        }
      ]
    },
    {
      "cell_type": "code",
      "source": [
        "\n",
        "\n",
        "print(\"Intrinsic evaluation measures:\")\n",
        "print(\"Within-cluster sum-of-squares:\", str(kmeans.inertia_))\n",
        "print(\"Silhouette coefficient:\", str(metrics.silhouette_score(vector_documents, kmeans.labels_)))\n",
        "\n",
        "print('Extrinsic evaluation measures:')\n",
        "print(\"Homogeneity:\", str(metrics.homogeneity_score(labels, kmeans.labels_)))\n",
        "print(\"Completeness:\", str(metrics.completeness_score(labels, kmeans.labels_)))\n",
        "print(\"V-measure:\", str(metrics.v_measure_score(labels, kmeans.labels_)))\n",
        "print(\"Adjusted Rand-Index:\", str(metrics.adjusted_rand_score(labels, kmeans.labels_)))"
      ],
      "metadata": {
        "execution": {
          "iopub.status.busy": "2023-05-01T19:33:22.744603Z",
          "iopub.execute_input": "2023-05-01T19:33:22.745220Z",
          "iopub.status.idle": "2023-05-01T19:33:23.991690Z",
          "shell.execute_reply.started": "2023-05-01T19:33:22.745185Z",
          "shell.execute_reply": "2023-05-01T19:33:23.990079Z"
        },
        "trusted": true,
        "id": "VgCVUySemgeT",
        "outputId": "8150af9a-9cf0-4dc7-e7e2-faf4c9ae54e7",
        "colab": {
          "base_uri": "https://localhost:8080/"
        }
      },
      "execution_count": 99,
      "outputs": [
        {
          "output_type": "stream",
          "name": "stdout",
          "text": [
            "Intrinsic evaluation measures:\n",
            "Within-cluster sum-of-squares: 32668.032303848704\n",
            "Silhouette coefficient: 0.011687671020057765\n",
            "Extrinsic evaluation measures:\n",
            "Homogeneity: 0.06476441677697967\n",
            "Completeness: 0.12404977572786596\n",
            "V-measure: 0.0850996555899704\n",
            "Adjusted Rand-Index: 0.03102009598058132\n"
          ]
        }
      ]
    },
    {
      "cell_type": "markdown",
      "source": [
        "As we can see from this metrics and as we expect it perfomed terribly.\n",
        "We can say that the content of the sentences is not related to the label."
      ],
      "metadata": {
        "id": "6D6YgkrxmgeT"
      }
    }
  ]
}